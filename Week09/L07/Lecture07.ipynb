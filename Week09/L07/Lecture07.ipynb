{
 "cells": [
  {
   "cell_type": "markdown",
   "metadata": {},
   "source": [
    "# Monte Carlo Techniques"
   ]
  },
  {
   "cell_type": "markdown",
   "metadata": {},
   "source": [
    "## Part 1: Examples"
   ]
  },
  {
   "cell_type": "markdown",
   "metadata": {},
   "source": [
    "### Example: coin flip"
   ]
  },
  {
   "cell_type": "markdown",
   "metadata": {},
   "source": [
    "Let's check how to use the random number generator in numpy  "
   ]
  },
  {
   "cell_type": "code",
   "execution_count": 1,
   "metadata": {},
   "outputs": [
    {
     "data": {
      "text/plain": [
       "\u001b[0;31mType:\u001b[0m        module\n",
       "\u001b[0;31mString form:\u001b[0m <module 'numpy.random' from '/opt/anaconda3/lib/python3.10/site-packages/numpy/random/__init__.py'>\n",
       "\u001b[0;31mFile:\u001b[0m        /opt/anaconda3/lib/python3.10/site-packages/numpy/random/__init__.py\n",
       "\u001b[0;31mDocstring:\u001b[0m  \n",
       "========================\n",
       "Random Number Generation\n",
       "========================\n",
       "\n",
       "Use ``default_rng()`` to create a `Generator` and call its methods.\n",
       "\n",
       "=============== =========================================================\n",
       "Generator\n",
       "--------------- ---------------------------------------------------------\n",
       "Generator       Class implementing all of the random number distributions\n",
       "default_rng     Default constructor for ``Generator``\n",
       "=============== =========================================================\n",
       "\n",
       "============================================= ===\n",
       "BitGenerator Streams that work with Generator\n",
       "--------------------------------------------- ---\n",
       "MT19937\n",
       "PCG64\n",
       "PCG64DXSM\n",
       "Philox\n",
       "SFC64\n",
       "============================================= ===\n",
       "\n",
       "============================================= ===\n",
       "Getting entropy to initialize a BitGenerator\n",
       "--------------------------------------------- ---\n",
       "SeedSequence\n",
       "============================================= ===\n",
       "\n",
       "\n",
       "Legacy\n",
       "------\n",
       "\n",
       "For backwards compatibility with previous versions of numpy before 1.17, the\n",
       "various aliases to the global `RandomState` methods are left alone and do not\n",
       "use the new `Generator` API.\n",
       "\n",
       "==================== =========================================================\n",
       "Utility functions\n",
       "-------------------- ---------------------------------------------------------\n",
       "random               Uniformly distributed floats over ``[0, 1)``\n",
       "bytes                Uniformly distributed random bytes.\n",
       "permutation          Randomly permute a sequence / generate a random sequence.\n",
       "shuffle              Randomly permute a sequence in place.\n",
       "choice               Random sample from 1-D array.\n",
       "==================== =========================================================\n",
       "\n",
       "==================== =========================================================\n",
       "Compatibility\n",
       "functions - removed\n",
       "in the new API\n",
       "-------------------- ---------------------------------------------------------\n",
       "rand                 Uniformly distributed values.\n",
       "randn                Normally distributed values.\n",
       "ranf                 Uniformly distributed floating point numbers.\n",
       "random_integers      Uniformly distributed integers in a given range.\n",
       "                     (deprecated, use ``integers(..., closed=True)`` instead)\n",
       "random_sample        Alias for `random_sample`\n",
       "randint              Uniformly distributed integers in a given range\n",
       "seed                 Seed the legacy random number generator.\n",
       "==================== =========================================================\n",
       "\n",
       "==================== =========================================================\n",
       "Univariate\n",
       "distributions\n",
       "-------------------- ---------------------------------------------------------\n",
       "beta                 Beta distribution over ``[0, 1]``.\n",
       "binomial             Binomial distribution.\n",
       "chisquare            :math:`\\chi^2` distribution.\n",
       "exponential          Exponential distribution.\n",
       "f                    F (Fisher-Snedecor) distribution.\n",
       "gamma                Gamma distribution.\n",
       "geometric            Geometric distribution.\n",
       "gumbel               Gumbel distribution.\n",
       "hypergeometric       Hypergeometric distribution.\n",
       "laplace              Laplace distribution.\n",
       "logistic             Logistic distribution.\n",
       "lognormal            Log-normal distribution.\n",
       "logseries            Logarithmic series distribution.\n",
       "negative_binomial    Negative binomial distribution.\n",
       "noncentral_chisquare Non-central chi-square distribution.\n",
       "noncentral_f         Non-central F distribution.\n",
       "normal               Normal / Gaussian distribution.\n",
       "pareto               Pareto distribution.\n",
       "poisson              Poisson distribution.\n",
       "power                Power distribution.\n",
       "rayleigh             Rayleigh distribution.\n",
       "triangular           Triangular distribution.\n",
       "uniform              Uniform distribution.\n",
       "vonmises             Von Mises circular distribution.\n",
       "wald                 Wald (inverse Gaussian) distribution.\n",
       "weibull              Weibull distribution.\n",
       "zipf                 Zipf's distribution over ranked data.\n",
       "==================== =========================================================\n",
       "\n",
       "==================== ==========================================================\n",
       "Multivariate\n",
       "distributions\n",
       "-------------------- ----------------------------------------------------------\n",
       "dirichlet            Multivariate generalization of Beta distribution.\n",
       "multinomial          Multivariate generalization of the binomial distribution.\n",
       "multivariate_normal  Multivariate generalization of the normal distribution.\n",
       "==================== ==========================================================\n",
       "\n",
       "==================== =========================================================\n",
       "Standard\n",
       "distributions\n",
       "-------------------- ---------------------------------------------------------\n",
       "standard_cauchy      Standard Cauchy-Lorentz distribution.\n",
       "standard_exponential Standard exponential distribution.\n",
       "standard_gamma       Standard Gamma distribution.\n",
       "standard_normal      Standard normal distribution.\n",
       "standard_t           Standard Student's t-distribution.\n",
       "==================== =========================================================\n",
       "\n",
       "==================== =========================================================\n",
       "Internal functions\n",
       "-------------------- ---------------------------------------------------------\n",
       "get_state            Get tuple representing internal state of generator.\n",
       "set_state            Set state of generator.\n",
       "==================== =========================================================\n"
      ]
     },
     "metadata": {},
     "output_type": "display_data"
    }
   ],
   "source": [
    "import numpy as np\n",
    "?np.random"
   ]
  },
  {
   "cell_type": "markdown",
   "metadata": {},
   "source": [
    "Alternatively, we can look at the documentation on the numpy site: https://numpy.org/doc/stable/reference/random/generated/numpy.random.rand.html"
   ]
  },
  {
   "cell_type": "code",
   "execution_count": 2,
   "metadata": {},
   "outputs": [
    {
     "name": "stdout",
     "output_type": "stream",
     "text": [
      "Heads\n",
      "Tails\n",
      "Tails\n",
      "Heads\n",
      "Tails\n"
     ]
    }
   ],
   "source": [
    "# standard preamble\n",
    "import numpy as np\n",
    "import scipy as sp\n",
    "from scipy import stats\n",
    "import matplotlib.pyplot as plt\n",
    "%matplotlib inline\n",
    "\n",
    "outcomes = ('Heads','Tails')\n",
    "\n",
    "def flip():\n",
    "    if np.random.random() > 0.5:\n",
    "        return outcomes[1]\n",
    "    \n",
    "    return outcomes[0]\n",
    "\n",
    "for i in range(5):\n",
    "    print (flip())\n",
    "     "
   ]
  },
  {
   "cell_type": "code",
   "execution_count": 3,
   "metadata": {},
   "outputs": [
    {
     "name": "stdout",
     "output_type": "stream",
     "text": [
      "Tails\n"
     ]
    }
   ],
   "source": [
    "print(flip())"
   ]
  },
  {
   "cell_type": "markdown",
   "metadata": {},
   "source": [
    "### Example: dice roll"
   ]
  },
  {
   "cell_type": "code",
   "execution_count": 4,
   "metadata": {},
   "outputs": [
    {
     "name": "stdout",
     "output_type": "stream",
     "text": [
      "1\n"
     ]
    }
   ],
   "source": [
    "def dice():\n",
    "    return int(np.random.random()*6)+1\n",
    "\n",
    "print (dice())"
   ]
  },
  {
   "cell_type": "code",
   "execution_count": 5,
   "metadata": {},
   "outputs": [
    {
     "name": "stdout",
     "output_type": "stream",
     "text": [
      "6\n",
      "5\n",
      "5\n",
      "4\n",
      "3\n"
     ]
    }
   ],
   "source": [
    "for i in range(5):\n",
    "    print (dice())"
   ]
  },
  {
   "cell_type": "code",
   "execution_count": 6,
   "metadata": {},
   "outputs": [
    {
     "data": {
      "text/plain": [
       "Text(0, 0.5, 'Number of Values')"
      ]
     },
     "execution_count": 6,
     "metadata": {},
     "output_type": "execute_result"
    },
    {
     "data": {
      "image/png": "[encoded data removed]",
      "text/plain": [
       "<Figure size 640x480 with 1 Axes>"
      ]
     },
     "metadata": {},
     "output_type": "display_data"
    }
   ],
   "source": [
    "x = [dice() for i in range(100000)]\n",
    "n, bins, patches = plt.hist(x,6,(0.5,6.5))\n",
    "plt.xlabel('Dice Number')\n",
    "plt.ylabel('Number of Values')"
   ]
  },
  {
   "cell_type": "markdown",
   "metadata": {},
   "source": [
    "### Example: deck of cards"
   ]
  },
  {
   "cell_type": "code",
   "execution_count": 7,
   "metadata": {},
   "outputs": [
    {
     "name": "stdout",
     "output_type": "stream",
     "text": [
      "['4c', 'Jc', '3c', 'Qc', 'Ah']\n"
     ]
    }
   ],
   "source": [
    "import random\n",
    "import itertools\n",
    "SUITS = 'cdhs'\n",
    "RANKS = '23456789TJQKA'\n",
    "DECK = tuple(''.join(card) for card in itertools.product(RANKS, SUITS))\n",
    "hand = random.sample(DECK, 5)\n",
    "print (hand)"
   ]
  },
  {
   "cell_type": "markdown",
   "metadata": {},
   "source": [
    "To understand this code, take a brief look at the documentation for itertools: https://docs.python.org/3/library/itertools.html"
   ]
  },
  {
   "cell_type": "markdown",
   "metadata": {},
   "source": [
    "## Part 2"
   ]
  },
  {
   "cell_type": "markdown",
   "metadata": {},
   "source": [
    "### Example: Linear Congruential Generator"
   ]
  },
  {
   "cell_type": "code",
   "execution_count": 8,
   "metadata": {},
   "outputs": [
    {
     "name": "stdout",
     "output_type": "stream",
     "text": [
      "33031656 198186408 957896856 65108986 127826865 \n",
      "0 3 2 5 4 7 6 1 0 3 2 5 4 7 6 1 0 3 2 5 \n"
     ]
    }
   ],
   "source": [
    "#set the seed for random number generation\n",
    "myRandomSeed = 504\n",
    "\n",
    "# define function to calculate random number\n",
    "def myRandom(a=65539, b=0, c=int(2**31-1)):\n",
    "    global myRandomSeed\n",
    "    x = (a*myRandomSeed+b) % c\n",
    "    myRandomSeed = x\n",
    "    return x\n",
    "\n",
    "# print out the random numbers in a string\n",
    "out = \"\"\n",
    "for i in range(5):\n",
    "    out += str(myRandom())\n",
    "    out += \" \"\n",
    "    \n",
    "print (out)\n",
    "    \n",
    "out = \"\"\n",
    "\n",
    "# now, choose a very particular value for the random seed\n",
    "myRandomSeed = 1\n",
    "for i in range(20):\n",
    "    out += str(myRandom(a=5, b=3, c=8))\n",
    "    out += \" \"\n",
    "\n",
    "print (out)"
   ]
  },
  {
   "cell_type": "code",
   "execution_count": 9,
   "metadata": {},
   "outputs": [],
   "source": [
    "## Part 3: Random numbers in python"
   ]
  },
  {
   "cell_type": "markdown",
   "metadata": {},
   "source": [
    "### Example: Python random numbers"
   ]
  },
  {
   "cell_type": "code",
   "execution_count": 10,
   "metadata": {},
   "outputs": [
    {
     "name": "stdout",
     "output_type": "stream",
     "text": [
      "2\n"
     ]
    }
   ],
   "source": [
    "# integer random number between [a..b]\n",
    "print (np.random.randint(0,6)+1)"
   ]
  },
  {
   "cell_type": "code",
   "execution_count": 13,
   "metadata": {},
   "outputs": [
    {
     "name": "stdout",
     "output_type": "stream",
     "text": [
      "0.4004878761251335\n",
      "7.749775702925579\n"
     ]
    }
   ],
   "source": [
    "# float random number between [0..1)\n",
    "print (np.random.random())\n",
    "x01 = np.random.random()   # [0..1)\n",
    "x05 = x01*5                 # [0..5)\n",
    "x510 = x05+5                # [5..10)\n",
    "print(x510)"
   ]
  },
  {
   "cell_type": "code",
   "execution_count": 14,
   "metadata": {},
   "outputs": [
    {
     "name": "stdout",
     "output_type": "stream",
     "text": [
      "5.6971428391391825\n"
     ]
    }
   ],
   "source": [
    "# float random number between [a..b)\n",
    "print (np.random.uniform(5,10))"
   ]
  },
  {
   "cell_type": "code",
   "execution_count": 15,
   "metadata": {},
   "outputs": [
    {
     "name": "stdout",
     "output_type": "stream",
     "text": [
      "i\n"
     ]
    }
   ],
   "source": [
    "# Choose a random element\n",
    "print (np.random.choice(['a','b','c','d','e','f','g','h','i','j']))  "
   ]
  },
  {
   "cell_type": "code",
   "execution_count": 16,
   "metadata": {},
   "outputs": [
    {
     "name": "stdout",
     "output_type": "stream",
     "text": [
      "Mean = 7.500\n",
      "Std. dev. = 1.443\n"
     ]
    },
    {
     "data": {
      "image/png": "[encoded data removed]",
      "text/plain": [
       "<Figure size 640x480 with 1 Axes>"
      ]
     },
     "metadata": {},
     "output_type": "display_data"
    }
   ],
   "source": [
    "# plot distribution\n",
    "ds = np.random.uniform(5,10,size=10000000)\n",
    "print('Mean = {0:5.3f}'.format(np.mean(ds)))\n",
    "print('Std. dev. = {0:5.3f}'.format(np.std(ds)))  # expect (10-5)/sqrt(12)\n",
    "plt.hist(ds,50,density=True)\n",
    "plt.show()"
   ]
  },
  {
   "cell_type": "markdown",
   "metadata": {},
   "source": [
    "### Example: Python random number generators"
   ]
  },
  {
   "cell_type": "code",
   "execution_count": 17,
   "metadata": {},
   "outputs": [
    {
     "name": "stdout",
     "output_type": "stream",
     "text": [
      "Mean = 2.294\n",
      "Std. dev. = 2.399\n"
     ]
    },
    {
     "data": {
      "image/png": "[encoded data removed]",
      "text/plain": [
       "<Figure size 640x480 with 1 Axes>"
      ]
     },
     "metadata": {},
     "output_type": "display_data"
    }
   ],
   "source": [
    "ds = np.random.exponential(scale=2.2,size=1000)   # generate life time of a muon (in usec)\n",
    "print('Mean = {0:5.3f}'.format(np.mean(ds)))\n",
    "print('Std. dev. = {0:5.3f}'.format(np.std(ds)))\n",
    "plt.hist(ds,50,density=True)\n",
    "plt.show()"
   ]
  },
  {
   "cell_type": "markdown",
   "metadata": {},
   "source": [
    "See discussion of the [Cauchy distribution](https://en.wikipedia.org/wiki/Cauchy_distribution) in wikipedia for further information."
   ]
  },
  {
   "cell_type": "code",
   "execution_count": 18,
   "metadata": {},
   "outputs": [
    {
     "name": "stdout",
     "output_type": "stream",
     "text": [
      "Mean = 8.487\n",
      "Std. dev. = 663.395\n"
     ]
    },
    {
     "data": {
      "image/png": "[encoded data removed]",
      "text/plain": [
       "<Figure size 640x480 with 1 Axes>"
      ]
     },
     "metadata": {},
     "output_type": "display_data"
    }
   ],
   "source": [
    "ds = np.random.standard_cauchy(size=10000)\n",
    "print('Mean = {0:5.3f}'.format(np.mean(ds)))\n",
    "print('Std. dev. = {0:5.3f}'.format(np.std(ds)))\n",
    "plt.hist(ds,20,density=True)\n",
    "plt.show()"
   ]
  },
  {
   "cell_type": "code",
   "execution_count": 19,
   "metadata": {},
   "outputs": [
    {
     "name": "stdout",
     "output_type": "stream",
     "text": [
      "Mean = 10.000\n",
      "Std. dev. = 2.041\n"
     ]
    },
    {
     "data": {
      "image/png": "[encoded data removed]",
      "text/plain": [
       "<Figure size 640x480 with 1 Axes>"
      ]
     },
     "metadata": {},
     "output_type": "display_data"
    }
   ],
   "source": [
    "ds = np.random.triangular(5,10,15,size=10000000)\n",
    "print('Mean = {0:5.3f}'.format(np.mean(ds)))\n",
    "print('Std. dev. = {0:5.3f}'.format(np.std(ds)))\n",
    "plt.hist(ds,50,density=True)\n",
    "plt.show()"
   ]
  },
  {
   "cell_type": "code",
   "execution_count": null,
   "metadata": {
    "collapsed": true,
    "jupyter": {
     "outputs_hidden": true
    }
   },
   "outputs": [],
   "source": []
  },
  {
   "cell_type": "code",
   "execution_count": null,
   "metadata": {},
   "outputs": [],
   "source": []
  }
 ],
 "metadata": {
  "kernelspec": {
   "display_name": "Python 3 (ipykernel)",
   "language": "python",
   "name": "python3"
  },
  "language_info": {
   "codemirror_mode": {
    "name": "ipython",
    "version": 3
   },
   "file_extension": ".py",
   "mimetype": "text/x-python",
   "name": "python",
   "nbconvert_exporter": "python",
   "pygments_lexer": "ipython3",
   "version": "3.10.13"
  }
 },
 "nbformat": 4,
 "nbformat_minor": 4
}
