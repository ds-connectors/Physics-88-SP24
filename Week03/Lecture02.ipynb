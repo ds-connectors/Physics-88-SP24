{
 "cells": [
  {
   "cell_type": "markdown",
   "id": "baf2e7ec",
   "metadata": {},
   "source": [
    "# Physics 77, Lecture 2: control structures\n",
    "\n",
    "<i>YGK, Haichen Wang</i>\n",
    "\n",
    "## Outline\n",
    "- Recap\n",
    "- Loop back: data representation, bits and bytes\n",
    "- Variables and Data Types\n",
    "- Composite Types (Lists, tuples, arrays)\n",
    "- Functions \n",
    "- Modules\n",
    "- Conditionals\n",
    "- Loops\n",
    "\n",
    "# Recap: Week 1-2\n",
    "\n",
    "- Introductory slides: course outline, syllabus, policy\n",
    "- Introduction to Unix, including use of the command line\n",
    "- A graphing teaser\n",
    "- Introduction to computing, programming and python\n",
    "- Any questions??\n",
    "\n",
    "# Now on to Week 3\n",
    "\n",
    "- Start with an example of projectile motion, how we determine the launch speed as a function of launch angle\n",
    "    * dissect the python implementation of the calculation\n",
    "\n",
    "## Example: projectile motion\n",
    "\n",
    "Let's consider the projectile motion.\n",
    "\n",
    "<i>The length of the (American) foodball field is 100 yards. At what speed does Jared Goff (former Cal quarterback) would need to launch the football so that it travels from one goal line to another ? Ignore air resistance and Goff's 6-4 height. \n",
    "</i>\n",
    "    \n",
    "- There are two degrees of freedom: the launch angle  $\\theta$, and the initial speed $v_0$.\n",
    "\n",
    "- The time of flight is $t = 2\\frac{v_0 \\sin\\theta}{g} $.\n",
    "\n",
    "- The horizontal distance traveled is $L = v_0 \\cos(\\theta) t = \\frac{v_0^2 \\sin(2\\theta)}{g} $\n",
    "\n",
    "- $v_0 = \\sqrt{\\frac{Lg}{\\sin(2\\theta)}}$\n",
    "\n",
    "<span style=\"color:red\">If the launch angle is 45 degrees, then what is the initial speed needed in order to hit our target?</span>\n"
   ]
  },
  {
   "cell_type": "code",
   "execution_count": 9,
   "id": "3b6c290f",
   "metadata": {},
   "outputs": [
    {
     "name": "stdout",
     "output_type": "stream",
     "text": [
      "To hit the target at  91 meters away, with a launch angle of 45.0 degrees, \n",
      "the initial speed needs to be 29.95 m/s \n",
      "29.950398995672828\n"
     ]
    }
   ],
   "source": [
    "import math # Import modules \n",
    "\n",
    "g = 9.81 # the acceleration in m/s^2\n",
    "yard = 0.9144 # in meters ! A variable with assigned value\n",
    "\n",
    "L = 100*yard # in meters ! A variable with assigned value\n",
    "theta = 45 # launch angle set by user. A variable assigned with a value\n",
    "theta_rad = math.radians(theta) # converting the angle from degrees to radians \n",
    "v0 = math.sqrt( L*g / (math.sin(2*theta_rad) ) ) # calculate the speed\n",
    "# Print the result to the screen\n",
    "print('''To hit the target at %3.0f meters away, with a launch angle of %4.1f degrees, \n",
    "the initial speed needs to be %4.2f m/s ''' % (L, theta, v0))\n",
    "print(v0)"
   ]
  },
  {
   "cell_type": "markdown",
   "id": "2ccf5702",
   "metadata": {},
   "source": [
    "##### Let's now encapsulate this calculation in a function"
   ]
  },
  {
   "cell_type": "code",
   "execution_count": 18,
   "id": "15c726e2",
   "metadata": {},
   "outputs": [
    {
     "name": "stdout",
     "output_type": "stream",
     "text": [
      "To hit the target at  91 meters away, with a launch angle of 45.0 degrees, \n",
      "the initial speed needs to be 29.95 m/s \n",
      "To hit the target at  52 meters away, with a launch angle of 45.0 degrees, \n",
      "the initial speed needs to be 22.61 m/s \n"
     ]
    }
   ],
   "source": [
    "# A function that calculates the speed needed for a given set of values of the target distance (in m) \n",
    "# and launch angle (in degrees)\n",
    "def launch_speed( L, theta ): # the function has input arguments\n",
    "    g = 9.81 # the acceleration in m/s^2\n",
    "    theta_rad = math.radians(theta) # converting the angle from degrees to radians \n",
    "    v0 = math.sqrt( L*g / (math.sin(2*theta_rad) ) ) # calculate the speed\n",
    "    return v0 # return the calculated value\n",
    "\n",
    "\n",
    "# compute\n",
    "\n",
    "yard = 0.9144 # in meters ! A variable with assigned value\n",
    "target_distance1 = 100*yard # distance  \n",
    "launch_angle = 45 # launch angle set by user. A variable assigned with a value\n",
    "\n",
    "v1 = launch_speed(target_distance1, launch_angle) # this is referred to as call of the function\n",
    "# the returned value of the function speed is *assigned* to the variable speed_value\n",
    "\n",
    "target_distance2 = 57*yard\n",
    "v2 = launch_speed(target_distance2, launch_angle)\n",
    "\n",
    "# Print the result to the screen\n",
    "print('''To hit the target at %3.0f meters away, with a launch angle of %4.1f degrees, \n",
    "the initial speed needs to be %4.2f m/s ''' % (target_distance1, launch_angle, v1))\n",
    "print('''To hit the target at %3.0f meters away, with a launch angle of %4.1f degrees, \n",
    "the initial speed needs to be %4.2f m/s ''' % (target_distance2, launch_angle, v2))\n",
    "\n"
   ]
  },
  {
   "cell_type": "markdown",
   "id": "4fcd8d9b",
   "metadata": {},
   "source": [
    "#### and as a final modification of this, let's save this function in its own module"
   ]
  },
  {
   "cell_type": "code",
   "execution_count": 15,
   "id": "0e19dddd",
   "metadata": {},
   "outputs": [
    {
     "name": "stdout",
     "output_type": "stream",
     "text": [
      "To hit the target at 91.4 meters away, with a launch angle of 45.0 degrees, \n",
      "the initial speed needs to be 29.95 m/s \n"
     ]
    }
   ],
   "source": [
    "import kinematics as k\n",
    "\n",
    "speed = k.launch_speed(target_distance1, launch_angle) \n",
    "print('''To hit the target at %3.1f meters away, with a launch angle of %4.1f degrees, \n",
    "the initial speed needs to be %4.2f m/s ''' % (target_distance1, launch_angle, speed))\n"
   ]
  },
  {
   "cell_type": "markdown",
   "id": "4ffc4200",
   "metadata": {},
   "source": [
    "## Dissecting the example: key elements from the example (not necessarily in the order of appearance)\n",
    "\n",
    "- variables\n",
    "    * Variables in Python are symbolic names that represent values in computer memory. They act as containers, allowing programmers to store and manipulate data. By assigning a value to a variable, you give it a meaningful name, making it easier to refer to and work with that data throughout your program.\n",
    "\n",
    "- operation\n",
    "    * Operations in programming refer to actions or calculations performed on data. Think of them as the tasks or manipulations you want your program to carry out. For instance, adding two numbers together, comparing values, or changing the format of text are all examples of operations. Programming languages provide various types of operations, like mathematical, logical, and string operations, to process and transform data within a program.\n",
    "\n",
    "- assigments\n",
    "    * Assignments in Python involve associating a variable name with a value or an expression. It's the process of binding a name to an object in memory. This enables programmers to store, update, and manipulate data effectively. Assignments establish a relationship between a variable name and the data it represents, providing a way to access and manipulate data throughout the program's execution.\n",
    "\n",
    "- functions\n",
    "    * Functions in Python are reusable blocks of code designed to perform specific tasks. They encapsulate a sequence of instructions, allowing programmers to execute the same set of actions multiple times without rewriting the code. Functions can accept input (arguments), process it, and often return an output, providing modularity and reusability to programs.\n",
    "\n",
    "- modules \n",
    "    * Modules in programming are like toolkits that contain sets of pre-built code and functionalities. They help organize code by grouping related functions, classes, and variables together. Modules can be imported into your program, allowing you to reuse code without rewriting it. Think of modules as libraries of code that extend the capabilities of your program. They often serve specialized purposes, such as handling math operations (like the math module) or file operations (like the os module).\n"
   ]
  },
  {
   "cell_type": "markdown",
   "id": "0164e704",
   "metadata": {},
   "source": [
    "## Python basics (Outline)"
   ]
  },
  {
   "cell_type": "markdown",
   "id": "55f3096a",
   "metadata": {},
   "source": [
    "- Arithmetic\n",
    "- Variables and data type\n",
    "    * Numpy array\n",
    "- Functions\n",
    "- Modules"
   ]
  },
  {
   "cell_type": "markdown",
   "id": "b4c1588f",
   "metadata": {},
   "source": [
    "# Arithmetic"
   ]
  },
  {
   "cell_type": "code",
   "execution_count": 19,
   "id": "ce1e06ab",
   "metadata": {},
   "outputs": [
    {
     "data": {
      "text/plain": [
       "4"
      ]
     },
     "execution_count": 19,
     "metadata": {},
     "output_type": "execute_result"
    }
   ],
   "source": [
    "2+2 # addition"
   ]
  },
  {
   "cell_type": "code",
   "execution_count": 20,
   "id": "0a3d788d",
   "metadata": {},
   "outputs": [
    {
     "data": {
      "text/plain": [
       "0"
      ]
     },
     "execution_count": 20,
     "metadata": {},
     "output_type": "execute_result"
    }
   ],
   "source": [
    "2-2 # subtraction"
   ]
  },
  {
   "cell_type": "code",
   "execution_count": 21,
   "id": "d33b1b64",
   "metadata": {},
   "outputs": [
    {
     "data": {
      "text/plain": [
       "4"
      ]
     },
     "execution_count": 21,
     "metadata": {},
     "output_type": "execute_result"
    }
   ],
   "source": [
    "2*2 # multiplication"
   ]
  },
  {
   "cell_type": "code",
   "execution_count": 22,
   "id": "96816ffb",
   "metadata": {},
   "outputs": [
    {
     "data": {
      "text/plain": [
       "0.6666666666666666"
      ]
     },
     "execution_count": 22,
     "metadata": {},
     "output_type": "execute_result"
    }
   ],
   "source": [
    "2/3 # division . Beware -- this returns 0 in some languages, incuding Python 2"
   ]
  },
  {
   "cell_type": "code",
   "execution_count": 23,
   "id": "534f813b",
   "metadata": {},
   "outputs": [
    {
     "data": {
      "text/plain": [
       "2"
      ]
     },
     "execution_count": 23,
     "metadata": {},
     "output_type": "execute_result"
    }
   ],
   "source": [
    "2%3  # modulus"
   ]
  },
  {
   "cell_type": "code",
   "execution_count": 24,
   "id": "e8130d38",
   "metadata": {},
   "outputs": [
    {
     "data": {
      "text/plain": [
       "3"
      ]
     },
     "execution_count": 24,
     "metadata": {},
     "output_type": "execute_result"
    }
   ],
   "source": [
    "(7)//2  # floor division"
   ]
  },
  {
   "cell_type": "code",
   "execution_count": 25,
   "id": "938ab4e8",
   "metadata": {},
   "outputs": [
    {
     "data": {
      "text/plain": [
       "100"
      ]
     },
     "execution_count": 25,
     "metadata": {},
     "output_type": "execute_result"
    }
   ],
   "source": [
    "10**2 # exponent"
   ]
  },
  {
   "cell_type": "code",
   "execution_count": 27,
   "id": "f8d5b252",
   "metadata": {},
   "outputs": [
    {
     "data": {
      "text/plain": [
       "20"
      ]
     },
     "execution_count": 27,
     "metadata": {},
     "output_type": "execute_result"
    }
   ],
   "source": [
    "10*2 # multiplication"
   ]
  },
  {
   "cell_type": "markdown",
   "id": "af855b9e",
   "metadata": {},
   "source": [
    "### Mathematical functions \n",
    "These functions can be found in modules such as math and numpy\n",
    "\n",
    "**math** https://docs.python.org/3/library/math.html\n",
    "\n",
    "**numpy** https://numpy.org/doc/stable/reference/routines.math.html\n"
   ]
  },
  {
   "cell_type": "code",
   "execution_count": 28,
   "id": "bdd33a42",
   "metadata": {},
   "outputs": [
    {
     "data": {
      "text/plain": [
       "0.7073882691671998"
      ]
     },
     "execution_count": 28,
     "metadata": {},
     "output_type": "execute_result"
    }
   ],
   "source": [
    "import math\n",
    "math.cos(3.14/4) # cos(pi/4)"
   ]
  },
  {
   "cell_type": "code",
   "execution_count": 30,
   "id": "c21b89fb",
   "metadata": {},
   "outputs": [
    {
     "data": {
      "text/plain": [
       "0.7071067811865476"
      ]
     },
     "execution_count": 30,
     "metadata": {},
     "output_type": "execute_result"
    }
   ],
   "source": [
    "# How about numpy?\n",
    "\n",
    "import numpy as np\n",
    "\n",
    "np.cos(np.pi/4)"
   ]
  },
  {
   "cell_type": "code",
   "execution_count": 31,
   "id": "532f97ce",
   "metadata": {},
   "outputs": [
    {
     "name": "stdout",
     "output_type": "stream",
     "text": [
      "9.0 9.0\n"
     ]
    }
   ],
   "source": [
    "print( math.sqrt(81), np.sqrt(81))  # square root"
   ]
  },
  {
   "cell_type": "code",
   "execution_count": 32,
   "id": "3e4e4493",
   "metadata": {},
   "outputs": [
    {
     "name": "stdout",
     "output_type": "stream",
     "text": [
      "4.394449154672439 4.394449154672439\n"
     ]
    }
   ],
   "source": [
    "print( math.log(81), np.log(81))  # logarithm"
   ]
  },
  {
   "cell_type": "code",
   "execution_count": 33,
   "id": "e2893d9e",
   "metadata": {},
   "outputs": [
    {
     "name": "stdout",
     "output_type": "stream",
     "text": [
      "4.5399929762484854e-05 4.5399929762484854e-05\n"
     ]
    }
   ],
   "source": [
    "print( math.exp(-10), np.exp(-10)) # exponential"
   ]
  },
  {
   "cell_type": "code",
   "execution_count": 34,
   "id": "a837c4a6",
   "metadata": {},
   "outputs": [
    {
     "ename": "AttributeError",
     "evalue": "module 'numpy' has no attribute 'factorial'",
     "output_type": "error",
     "traceback": [
      "\u001b[0;31m---------------------------------------------------------------------------\u001b[0m",
      "\u001b[0;31mAttributeError\u001b[0m                            Traceback (most recent call last)",
      "\u001b[0;32m/var/folders/sg/h6rbzs2s5gx46fbp7ylyjggr0000gp/T/ipykernel_12273/4243335432.py\u001b[0m in \u001b[0;36m<module>\u001b[0;34m\u001b[0m\n\u001b[0;32m----> 1\u001b[0;31m \u001b[0mprint\u001b[0m\u001b[0;34m(\u001b[0m\u001b[0mmath\u001b[0m\u001b[0;34m.\u001b[0m\u001b[0mfactorial\u001b[0m\u001b[0;34m(\u001b[0m\u001b[0;36m5\u001b[0m\u001b[0;34m)\u001b[0m\u001b[0;34m,\u001b[0m \u001b[0mnp\u001b[0m\u001b[0;34m.\u001b[0m\u001b[0mfactorial\u001b[0m\u001b[0;34m(\u001b[0m\u001b[0;36m5\u001b[0m\u001b[0;34m)\u001b[0m\u001b[0;34m)\u001b[0m\u001b[0;34m\u001b[0m\u001b[0;34m\u001b[0m\u001b[0m\n\u001b[0m",
      "\u001b[0;32m/opt/anaconda3/lib/python3.10/site-packages/numpy/__init__.py\u001b[0m in \u001b[0;36m__getattr__\u001b[0;34m(attr)\u001b[0m\n\u001b[1;32m    313\u001b[0m             \u001b[0;32mreturn\u001b[0m \u001b[0mTester\u001b[0m\u001b[0;34m\u001b[0m\u001b[0;34m\u001b[0m\u001b[0m\n\u001b[1;32m    314\u001b[0m \u001b[0;34m\u001b[0m\u001b[0m\n\u001b[0;32m--> 315\u001b[0;31m         raise AttributeError(\"module {!r} has no attribute \"\n\u001b[0m\u001b[1;32m    316\u001b[0m                              \"{!r}\".format(__name__, attr))\n\u001b[1;32m    317\u001b[0m \u001b[0;34m\u001b[0m\u001b[0m\n",
      "\u001b[0;31mAttributeError\u001b[0m: module 'numpy' has no attribute 'factorial'"
     ]
    }
   ],
   "source": [
    "print(math.factorial(5), np.factorial(5))"
   ]
  },
  {
   "cell_type": "code",
   "execution_count": 35,
   "id": "47de879a",
   "metadata": {},
   "outputs": [
    {
     "name": "stdout",
     "output_type": "stream",
     "text": [
      "120 120.0\n"
     ]
    }
   ],
   "source": [
    "import numpy as np\n",
    "from scipy.special import factorial\n",
    "\n",
    "n = 5\n",
    "result = factorial(n)\n",
    "\n",
    "print(math.factorial(5), result)\n"
   ]
  },
  {
   "cell_type": "code",
   "execution_count": null,
   "id": "4c632398",
   "metadata": {},
   "outputs": [],
   "source": [
    "print( math.degrees(3.14), np.rad2deg(3.14)) # convert radian to degree"
   ]
  },
  {
   "cell_type": "code",
   "execution_count": null,
   "id": "50acf90a",
   "metadata": {},
   "outputs": [],
   "source": [
    "print( math.radians(90), np.deg2rad(90)) # convert radian to degree"
   ]
  },
  {
   "cell_type": "code",
   "execution_count": null,
   "id": "9037420e",
   "metadata": {},
   "outputs": [],
   "source": [
    "# what happens if you take the sqrt of a negative number?\n",
    "print(math.sqrt(-9))"
   ]
  },
  {
   "cell_type": "code",
   "execution_count": null,
   "id": "1abca00e",
   "metadata": {},
   "outputs": [],
   "source": [
    "# what happens if you take the sqrt of a negative number?\n",
    "print(np.sqrt(-9))"
   ]
  },
  {
   "cell_type": "code",
   "execution_count": null,
   "id": "dd5dfbeb",
   "metadata": {},
   "outputs": [],
   "source": [
    "import cmath\n",
    "print(cmath.sqrt(-9))"
   ]
  },
  {
   "cell_type": "markdown",
   "id": "f973e944",
   "metadata": {},
   "source": [
    "**cmath** module provides access to mathematical functions for complex numbers.\n",
    "https://docs.python.org/3/library/cmath.html"
   ]
  },
  {
   "cell_type": "markdown",
   "id": "7ab7d3fe",
   "metadata": {},
   "source": [
    "We won't have time to go through all these functions under math and numpy modules. You should screen those linked pages to develop a sense what is available. In practice, when some function is needed, do a quick google search to see if there are already available. Overtime, you will just memorize many of them through practice."
   ]
  },
  {
   "cell_type": "markdown",
   "id": "f4c2d258",
   "metadata": {},
   "source": [
    "### Association rules, order of operations\n",
    "\n",
    "Python follows the standard \"PEMDAS\" order of evaluating operators:\n",
    "1. Parentheses\n",
    "1. Exponentiation\n",
    "1. Multiplication/division (equal precedence, evaluate from left to right)\n",
    "1. Addition/subtraction (equal precedence, evaluate from left to right)\n",
    "\n",
    "The full table (in the reverse order, i.e. from last to first) is listed here: https://docs.python.org/3/reference/expressions.html#operator-precedence\n",
    "\n",
    "Here are some examples. The general rule -- if in doubt, add parentheses ! \n"
   ]
  },
  {
   "cell_type": "code",
   "execution_count": 37,
   "id": "1bd07d47",
   "metadata": {},
   "outputs": [
    {
     "data": {
      "text/plain": [
       "16"
      ]
     },
     "execution_count": 37,
     "metadata": {},
     "output_type": "execute_result"
    }
   ],
   "source": [
    "(2+2)*4"
   ]
  },
  {
   "cell_type": "code",
   "execution_count": 36,
   "id": "eb2be29f",
   "metadata": {},
   "outputs": [
    {
     "data": {
      "text/plain": [
       "10"
      ]
     },
     "execution_count": 36,
     "metadata": {},
     "output_type": "execute_result"
    }
   ],
   "source": [
    "2+2*4"
   ]
  },
  {
   "cell_type": "code",
   "execution_count": 38,
   "id": "27f28b7b",
   "metadata": {},
   "outputs": [
    {
     "data": {
      "text/plain": [
       "2.5"
      ]
     },
     "execution_count": 38,
     "metadata": {},
     "output_type": "execute_result"
    }
   ],
   "source": [
    "2+2/4"
   ]
  },
  {
   "cell_type": "code",
   "execution_count": 39,
   "id": "b0ff658f",
   "metadata": {},
   "outputs": [
    {
     "data": {
      "text/plain": [
       "6.0"
      ]
     },
     "execution_count": 39,
     "metadata": {},
     "output_type": "execute_result"
    }
   ],
   "source": [
    "2+4/2*2"
   ]
  },
  {
   "cell_type": "code",
   "execution_count": 40,
   "id": "55b527a8",
   "metadata": {},
   "outputs": [
    {
     "data": {
      "text/plain": [
       "3.0"
      ]
     },
     "execution_count": 40,
     "metadata": {},
     "output_type": "execute_result"
    }
   ],
   "source": [
    "2+4/(2*2)"
   ]
  },
  {
   "cell_type": "code",
   "execution_count": 41,
   "id": "07f545bf",
   "metadata": {},
   "outputs": [
    {
     "data": {
      "text/plain": [
       "1.0"
      ]
     },
     "execution_count": 41,
     "metadata": {},
     "output_type": "execute_result"
    }
   ],
   "source": [
    "np.log(1)+1"
   ]
  },
  {
   "cell_type": "markdown",
   "id": "076c01c7",
   "metadata": {},
   "source": [
    "Here is a tricky one -- how would this be evaluated ? "
   ]
  },
  {
   "cell_type": "code",
   "execution_count": 42,
   "id": "ecece509",
   "metadata": {},
   "outputs": [
    {
     "data": {
      "text/plain": [
       "72.0"
      ]
     },
     "execution_count": 42,
     "metadata": {},
     "output_type": "execute_result"
    }
   ],
   "source": [
    "144.**1/2   # is this equal to sqrt(144) ?"
   ]
  },
  {
   "cell_type": "markdown",
   "id": "fcd20769",
   "metadata": {},
   "source": [
    "Try again:"
   ]
  },
  {
   "cell_type": "code",
   "execution_count": 44,
   "id": "4d5f6c4c",
   "metadata": {},
   "outputs": [
    {
     "name": "stdout",
     "output_type": "stream",
     "text": [
      "sqrt(144)= 12.0\n",
      "sqrt(144)= 12.0\n"
     ]
    }
   ],
   "source": [
    "print('sqrt(144)=',144.**(1./2))  # this is OK\n",
    "print('sqrt(144)=',144.**0.5)     # this is even better -- seems like a small saving of compute time, but it adds up"
   ]
  },
  {
   "cell_type": "markdown",
   "id": "7d044d3c",
   "metadata": {},
   "source": [
    "**Summary:** \n",
    "- multiplication/division takes precedence over addition/subtraction \n",
    "- operations inside a set parenthesis takes precedence over operations outside it"
   ]
  },
  {
   "cell_type": "markdown",
   "id": "4ca247f5",
   "metadata": {},
   "source": [
    "# Variables and assignment\n",
    "- concept of assignment\n",
    "- shorthands\n",
    "- types of data/variables in python\n",
    "\n",
    "\n",
    "## Example - calculate the value of a polynomial\n",
    "we have a polynomial \n",
    "$ y = ax^3 + bx^2 + cx + d$\n",
    "\n",
    "- for a given set of coefficients (a,b,c,d), we want to know the value of the polynomial at x "
   ]
  },
  {
   "cell_type": "code",
   "execution_count": 45,
   "id": "873d8f41",
   "metadata": {},
   "outputs": [
    {
     "name": "stdout",
     "output_type": "stream",
     "text": [
      "Value of y : 313.00\n"
     ]
    }
   ],
   "source": [
    "a = 10\n",
    "b = 5\n",
    "c = -2\n",
    "d = 4\n",
    "\n",
    "x = 3.0\n",
    "\n",
    "y = a*x**3 + b*x**2 + c*x + d\n",
    "\n",
    "print('Value of y : %4.2f' % y)\n",
    "\n",
    "\n",
    "# Vary these values and see how the printout change\n",
    "# Changes for variable assigned values (first five lines) are propogated to the calculated value of y\n"
   ]
  },
  {
   "cell_type": "code",
   "execution_count": 49,
   "id": "d1af15f0",
   "metadata": {},
   "outputs": [],
   "source": [
    "d = 222"
   ]
  },
  {
   "cell_type": "code",
   "execution_count": 50,
   "id": "29f6d469",
   "metadata": {},
   "outputs": [
    {
     "name": "stdout",
     "output_type": "stream",
     "text": [
      "Value of y : 531.00\n"
     ]
    }
   ],
   "source": [
    "y = a*x**3 + b*x**2 + c*x + d\n",
    "\n",
    "d = 10\n",
    "\n",
    "print('Value of y : %4.2f' % y)\n",
    "\n",
    "\n",
    "# the line d = 10 doesn't affect the value of y, \n",
    "# because the value of 10 was assigned to d after the value of d was already used in the calculation of y\n"
   ]
  },
  {
   "cell_type": "markdown",
   "id": "b7e2d759",
   "metadata": {},
   "source": [
    "## Shorthands"
   ]
  },
  {
   "cell_type": "code",
   "execution_count": 51,
   "id": "4249cb08",
   "metadata": {},
   "outputs": [
    {
     "name": "stdout",
     "output_type": "stream",
     "text": [
      "Value of a:   20 \n"
     ]
    }
   ],
   "source": [
    "a = 10 \n",
    "a = a + 10\n",
    "print('Value of a: %4.0f ' % a)"
   ]
  },
  {
   "cell_type": "code",
   "execution_count": 52,
   "id": "2c4f6317",
   "metadata": {},
   "outputs": [
    {
     "name": "stdout",
     "output_type": "stream",
     "text": [
      "Value of a:   20 \n"
     ]
    }
   ],
   "source": [
    "aReallyLongNameThatIDoNotCareToType = 10 \n",
    "aReallyLongNameThatIDoNotCareToType += 10\n",
    "print('Value of a: %4.0f ' % aReallyLongNameThatIDoNotCareToType)"
   ]
  },
  {
   "cell_type": "code",
   "execution_count": 53,
   "id": "4a01b0a1",
   "metadata": {},
   "outputs": [
    {
     "name": "stdout",
     "output_type": "stream",
     "text": [
      "Value of a:    0 \n"
     ]
    }
   ],
   "source": [
    "a = 10 \n",
    "a = a - 10\n",
    "print('Value of a: %4.0f ' % a)"
   ]
  },
  {
   "cell_type": "code",
   "execution_count": 54,
   "id": "d2448c4b",
   "metadata": {},
   "outputs": [
    {
     "name": "stdout",
     "output_type": "stream",
     "text": [
      "Value of a:    0 \n"
     ]
    }
   ],
   "source": [
    "a = 10 \n",
    "a -= 10\n",
    "print('Value of a: %4.0f ' % a)"
   ]
  },
  {
   "cell_type": "code",
   "execution_count": 55,
   "id": "d0edc664",
   "metadata": {},
   "outputs": [
    {
     "name": "stdout",
     "output_type": "stream",
     "text": [
      "Value of a:  100 \n"
     ]
    }
   ],
   "source": [
    "# Guess what does *= do?\n",
    "\n",
    "a = 10 \n",
    "a *= 10\n",
    "print('Value of a: %4.0f ' % a)"
   ]
  },
  {
   "cell_type": "code",
   "execution_count": 56,
   "id": "46fa822e",
   "metadata": {},
   "outputs": [
    {
     "name": "stdout",
     "output_type": "stream",
     "text": [
      "Value of a:    1 \n"
     ]
    }
   ],
   "source": [
    "# How about /=\n",
    "a = 10 \n",
    "a /= 10\n",
    "print('Value of a: %4.0f ' % a)"
   ]
  },
  {
   "cell_type": "code",
   "execution_count": 57,
   "id": "4d1ff058",
   "metadata": {},
   "outputs": [
    {
     "ename": "SyntaxError",
     "evalue": "invalid syntax (2181014718.py, line 2)",
     "output_type": "error",
     "traceback": [
      "\u001b[0;36m  File \u001b[0;32m\"/var/folders/sg/h6rbzs2s5gx46fbp7ylyjggr0000gp/T/ipykernel_12273/2181014718.py\"\u001b[0;36m, line \u001b[0;32m2\u001b[0m\n\u001b[0;31m    i++\u001b[0m\n\u001b[0m       ^\u001b[0m\n\u001b[0;31mSyntaxError\u001b[0m\u001b[0;31m:\u001b[0m invalid syntax\n"
     ]
    }
   ],
   "source": [
    "i=1\n",
    "i++"
   ]
  },
  {
   "cell_type": "markdown",
   "id": "1dd90ef1",
   "metadata": {},
   "source": [
    "## Types of variables (data)\n",
    "\n",
    "so far, our examples only include variables assigned with numerical values. But they don't have to always be assigned a numerical value. "
   ]
  },
  {
   "cell_type": "markdown",
   "id": "ccd441ff",
   "metadata": {},
   "source": [
    "**Notes on data types**\n",
    "\n",
    "In Python, there are several common types of variables that you'll frequently encounter. Here are some of the most common ones:\n",
    "\n",
    "- Integer (int): Represents whole numbers, both positive and negative. For example: age = 25.\n",
    "\n",
    "- Floating-Point (float): Represents decimal numbers. For example: pi = 3.14.\n",
    "\n",
    "- String (str): Represents sequences of characters enclosed in single or double quotes. For example: name = \"Alice\".\n",
    "\n",
    "- Boolean (bool): Represents either True or False values. Used for logical operations and comparisons. For example: is_student = True.\n",
    "\n",
    "- List: Represents an ordered collection of items, which can be of different types. For example: grades = [85, 92, 78].\n",
    "\n",
    "- Tuple: Similar to lists, but they are immutable (cannot be changed after creation). For example: coordinates = (3, 4).\n",
    "\n",
    "- Dictionary: Represents key-value pairs, where each value is associated with a unique key. For example: student = {\"name\": \"Bob\", \"age\": 20}.\n",
    "\n",
    "- Set: Represents an unordered collection of unique items. For example: colors = {\"red\", \"blue\", \"green\"}.\n",
    "\n",
    "- None: Represents the absence of a value or a null value. It's often used to indicate that a variable doesn't have a value yet. For example: result = None.\n",
    "\n",
    "These variable types are the building blocks of Python programs and allow you to work with various types of data in different ways."
   ]
  },
  {
   "cell_type": "code",
   "execution_count": 58,
   "id": "eb1e05ef",
   "metadata": {},
   "outputs": [
    {
     "name": "stdout",
     "output_type": "stream",
     "text": [
      "1 <class 'int'>\n"
     ]
    }
   ],
   "source": [
    "x = 1\n",
    "print(x, type(x))"
   ]
  },
  {
   "cell_type": "code",
   "execution_count": 59,
   "id": "99ddc0c2",
   "metadata": {},
   "outputs": [
    {
     "name": "stdout",
     "output_type": "stream",
     "text": [
      "1.0 <class 'float'>\n"
     ]
    }
   ],
   "source": [
    "x = 1.0 \n",
    "print(x, type(x))"
   ]
  },
  {
   "cell_type": "code",
   "execution_count": 61,
   "id": "ee8051e6",
   "metadata": {},
   "outputs": [
    {
     "name": "stdout",
     "output_type": "stream",
     "text": [
      "1.0000 <class 'str'>\n"
     ]
    }
   ],
   "source": [
    "x = \"1.0000\"\n",
    "print(x, type(x))"
   ]
  },
  {
   "cell_type": "code",
   "execution_count": 62,
   "id": "de7450f5",
   "metadata": {},
   "outputs": [
    {
     "name": "stdout",
     "output_type": "stream",
     "text": [
      "This is an example <class 'str'>\n"
     ]
    }
   ],
   "source": [
    "x = 'This is an example'\n",
    "print(x, type(x))"
   ]
  },
  {
   "cell_type": "code",
   "execution_count": 63,
   "id": "c1c4a8dc",
   "metadata": {},
   "outputs": [
    {
     "name": "stdout",
     "output_type": "stream",
     "text": [
      "True <class 'bool'>\n"
     ]
    }
   ],
   "source": [
    "x = True\n",
    "print(x, type(x))"
   ]
  },
  {
   "cell_type": "code",
   "execution_count": 64,
   "id": "cc4171e3",
   "metadata": {},
   "outputs": [
    {
     "name": "stdout",
     "output_type": "stream",
     "text": [
      "False <class 'bool'>\n"
     ]
    }
   ],
   "source": [
    "x = False\n",
    "print(x, type(x))"
   ]
  },
  {
   "cell_type": "code",
   "execution_count": 74,
   "id": "567cea94",
   "metadata": {},
   "outputs": [
    {
     "name": "stdout",
     "output_type": "stream",
     "text": [
      "[1, 2, 3, 4] <class 'list'>\n"
     ]
    }
   ],
   "source": [
    "x = [1, 2, 3, 4]\n",
    "print(x, type(x))"
   ]
  },
  {
   "cell_type": "code",
   "execution_count": 75,
   "id": "5f99b576",
   "metadata": {},
   "outputs": [
    {
     "name": "stdout",
     "output_type": "stream",
     "text": [
      "['Berkeley', 'Stanford', 'Princeton', 'Harvard'] <class 'list'>\n"
     ]
    }
   ],
   "source": [
    "x = [\"Berkeley\", \"Stanford\", \"Princeton\", \"Harvard\"]\n",
    "print(x, type(x))"
   ]
  },
  {
   "cell_type": "code",
   "execution_count": 76,
   "id": "2c059029",
   "metadata": {},
   "outputs": [
    {
     "name": "stdout",
     "output_type": "stream",
     "text": [
      "Princeton <class 'str'>\n"
     ]
    }
   ],
   "source": [
    "print(x[2], type(x[2]))"
   ]
  },
  {
   "cell_type": "code",
   "execution_count": 77,
   "id": "79e0b25b",
   "metadata": {},
   "outputs": [
    {
     "name": "stdout",
     "output_type": "stream",
     "text": [
      "c <class 'str'>\n"
     ]
    }
   ],
   "source": [
    "print(x[2][4], type(x[2][0]))"
   ]
  },
  {
   "cell_type": "code",
   "execution_count": 81,
   "id": "50cb728a",
   "metadata": {},
   "outputs": [
    {
     "name": "stdout",
     "output_type": "stream",
     "text": [
      "['Berkeley', 'Stanford', 'MIT', 'Harvard', 'Yale']\n",
      "['Berkeley', 'Stanford', 'MIT', 'Harvard', 'Yale', 'Yale']\n"
     ]
    }
   ],
   "source": [
    "x[2] = 'MIT'\n",
    "print(x)\n",
    "x.append('Yale')\n",
    "print(x)"
   ]
  },
  {
   "cell_type": "markdown",
   "id": "42b28e0f",
   "metadata": {},
   "source": [
    "**footnote: indexing** In Python, indexing refers to the process of accessing individual elements within a data structure, such as lists, tuples, and strings. Each element in these data structures has a unique index that specifies its position. Indexing is zero-based in Python, which means the first element is at index 0, the second at index 1, and so on."
   ]
  },
  {
   "cell_type": "code",
   "execution_count": 84,
   "id": "b86867b6",
   "metadata": {},
   "outputs": [
    {
     "name": "stdout",
     "output_type": "stream",
     "text": [
      "(1, 2, 3, 4) <class 'tuple'>\n"
     ]
    }
   ],
   "source": [
    "x = (1, 2, 3, 4)\n",
    "print(x, type(x))"
   ]
  },
  {
   "cell_type": "code",
   "execution_count": 85,
   "id": "33a18c6f",
   "metadata": {},
   "outputs": [
    {
     "name": "stdout",
     "output_type": "stream",
     "text": [
      "{1, 2, 3, 4} <class 'set'>\n"
     ]
    }
   ],
   "source": [
    "x = {1, 2, 3, 4}\n",
    "print(x, type(x))"
   ]
  },
  {
   "cell_type": "code",
   "execution_count": 86,
   "id": "36de5265",
   "metadata": {},
   "outputs": [
    {
     "name": "stdout",
     "output_type": "stream",
     "text": [
      "{1: 'Green', 2: 'Red', 3: 'Blue'} <class 'dict'>\n"
     ]
    }
   ],
   "source": [
    "x = {1:\"Green\", 2:\"Red\", 3:\"Blue\"}\n",
    "print(x, type(x))"
   ]
  },
  {
   "cell_type": "code",
   "execution_count": 87,
   "id": "9aee95c6",
   "metadata": {},
   "outputs": [
    {
     "name": "stdout",
     "output_type": "stream",
     "text": [
      "Green <class 'str'>\n"
     ]
    }
   ],
   "source": [
    "print(x[1], type(x[1]))"
   ]
  },
  {
   "cell_type": "code",
   "execution_count": 88,
   "id": "f812b025",
   "metadata": {},
   "outputs": [
    {
     "name": "stdout",
     "output_type": "stream",
     "text": [
      "{'Green': 1, 'Red': 2, 'Blue': 3} <class 'dict'>\n"
     ]
    }
   ],
   "source": [
    "x = {\"Green\":1, \"Red\":2, \"Blue\":3}\n",
    "print(x, type(x))"
   ]
  },
  {
   "cell_type": "code",
   "execution_count": 92,
   "id": "f54277cc",
   "metadata": {},
   "outputs": [
    {
     "name": "stdout",
     "output_type": "stream",
     "text": [
      "1 <class 'int'>\n",
      "{'Green': 1, 'Red': 2, 'Blue': 17, 'Magenta': 3.14}\n"
     ]
    }
   ],
   "source": [
    "print(x[\"Green\"], type(x[\"Green\"]))\n",
    "x[\"Magenta\"] = 3.14\n",
    "x[\"Blue\"] = 17\n",
    "print(x)"
   ]
  },
  {
   "cell_type": "markdown",
   "id": "5f60f7fb",
   "metadata": {},
   "source": [
    "### Conversions between Integer and Floating point types\n",
    "A few gotchas. "
   ]
  },
  {
   "cell_type": "code",
   "execution_count": null,
   "id": "f74ec109",
   "metadata": {},
   "outputs": [],
   "source": [
    "x = 2\n",
    "type(x)   # what type is this variable ?"
   ]
  },
  {
   "cell_type": "code",
   "execution_count": null,
   "id": "93f195ad",
   "metadata": {},
   "outputs": [],
   "source": [
    "y = 2.\n",
    "type(y)    # how about now ?"
   ]
  },
  {
   "cell_type": "code",
   "execution_count": null,
   "id": "e35a5b77",
   "metadata": {},
   "outputs": [],
   "source": [
    "1/2  # Used to produce 0 in Python 2 ! "
   ]
  },
  {
   "cell_type": "code",
   "execution_count": null,
   "id": "c2b2e81f",
   "metadata": {},
   "outputs": [],
   "source": [
    "1//2 # this is how most computer languages would evaluate the expression above !"
   ]
  },
  {
   "cell_type": "markdown",
   "id": "1b9386f5",
   "metadata": {},
   "source": [
    "But in order to make your code portable, and learn good programming practices, I would encourage you to explicitly type float constants if you intend the division to use floating-point precision. Easiest way to do this is to add a decimal point to the constant:"
   ]
  },
  {
   "cell_type": "code",
   "execution_count": null,
   "id": "9d19b9b5",
   "metadata": {},
   "outputs": [],
   "source": [
    "OneHalf = 1./2\n",
    "print(OneHalf)"
   ]
  },
  {
   "cell_type": "markdown",
   "id": "0df6a2bf",
   "metadata": {},
   "source": [
    "## Numpy arrays\n",
    "Numpy arrays will be the most used data structure throughout this course and in your future Python projects.\n",
    "We will have more detailed introduction to it later. Here I am giving your some teasers. \n"
   ]
  },
  {
   "cell_type": "code",
   "execution_count": 94,
   "id": "97ddfe60",
   "metadata": {},
   "outputs": [],
   "source": [
    "import numpy as np # import the numpy module as np\n",
    "#np is an alias for numpy module here\n",
    "# you can name it anything you want, but we always go with \n",
    "#the most common one so that every one reading your code could understand it "
   ]
  },
  {
   "cell_type": "code",
   "execution_count": 98,
   "id": "1446b680",
   "metadata": {},
   "outputs": [
    {
     "name": "stdout",
     "output_type": "stream",
     "text": [
      "[1 2 3] <class 'numpy.ndarray'>\n"
     ]
    }
   ],
   "source": [
    "x = np.array([1,2,3])\n",
    "print(x, type(x))"
   ]
  },
  {
   "cell_type": "code",
   "execution_count": 97,
   "id": "5938b537",
   "metadata": {},
   "outputs": [
    {
     "name": "stdout",
     "output_type": "stream",
     "text": [
      "['1' '2' '3' 'foo'] <class 'numpy.ndarray'>\n"
     ]
    }
   ],
   "source": [
    "x = np.array([1,2,3,'foo'])\n",
    "print(x, type(x))"
   ]
  },
  {
   "cell_type": "code",
   "execution_count": null,
   "id": "ee8dad85",
   "metadata": {},
   "outputs": [],
   "source": [
    "print(x[2], type(x[2]))"
   ]
  },
  {
   "cell_type": "code",
   "execution_count": null,
   "id": "9921169e",
   "metadata": {},
   "outputs": [],
   "source": [
    "x = np.array([[1,2,3],[2,90,14312]])\n",
    "print(x, type(x))\n",
    "print(x.ndim, x.shape, x.size)"
   ]
  },
  {
   "cell_type": "code",
   "execution_count": null,
   "id": "814e2ca8",
   "metadata": {},
   "outputs": [],
   "source": [
    "print(x[1,2])"
   ]
  },
  {
   "cell_type": "code",
   "execution_count": null,
   "id": "9c970dcb",
   "metadata": {},
   "outputs": [],
   "source": [
    "x = np.array([[1,2,3],[2,90,14312]])\n",
    "y = np.array([[1,1,10],[1, 1, 1]])\n",
    "z = x + y \n",
    "print(z)\n",
    "# Numpy operation is element-wise, meaning that the operator \n",
    "# acts on the elements from the two arrays that have the same position"
   ]
  },
  {
   "cell_type": "code",
   "execution_count": null,
   "id": "c303f803",
   "metadata": {},
   "outputs": [],
   "source": [
    "# taking advantage of the built-in functions in numpy arrray\n",
    "print( np.cos(x)+np.sqrt(y) )"
   ]
  },
  {
   "cell_type": "markdown",
   "id": "5ea7f841",
   "metadata": {},
   "source": [
    "# Functions"
   ]
  },
  {
   "cell_type": "code",
   "execution_count": 99,
   "id": "39aba3c4",
   "metadata": {},
   "outputs": [],
   "source": [
    "# A function that calculates the speed needed for a given set of values of the target distance and launch angle \n",
    "def speed( L, theta ): # the function has input arguments\n",
    "    g = 9.81 # the acceleration; \n",
    "    theta_rad = math.radians(theta) # converting the angle from degrees to radians \n",
    "    v = math.sqrt( L*g / (math.sin(2*theta_rad))) # calculate the speed\n",
    "    return v # return the calculated value"
   ]
  },
  {
   "cell_type": "markdown",
   "id": "8ab204b2",
   "metadata": {},
   "source": [
    "### What are the essential elements of a function?\n",
    "\n",
    "- Function Definition: **def speed(L, theta):**\n",
    "    * The *def* keyword is used to define a function.\n",
    "    * *speed* is the name of the function.\n",
    "    * *(R, theta)* are the parameters (input values) the function accepts. They act as placeholders for values that will be passed when the function is called.\n",
    "\n",
    "- Function Body:\n",
    "    * The **indented code** block beneath the function definition is the function body. It contains the instructions executed when the function is called.\n",
    "\n",
    "- Variable Declarations:\n",
    "    * *g = 9.81*\n",
    "    * *theta_rad = math.radians(theta)*\n",
    "    * These lines declare and assign values to variables used within the function.\n",
    "    \n",
    "- Calculations: *v = math.sqrt( L*g / (math.sin(2*theta_rad)))*\n",
    "    * This line calculates the speed using the provided formula.\n",
    "    * The variables R, g, and theta_rad are used in the calculation.\n",
    "    * Return Statement:\n",
    "\n",
    "- Returning keyword/argument\n",
    "    * The return keyword is used to send a value back to the caller of the function.\n",
    "    * In this case, the calculated speed v is returned."
   ]
  },
  {
   "cell_type": "code",
   "execution_count": null,
   "id": "126a7da4",
   "metadata": {},
   "outputs": [],
   "source": [
    "def polynomial(a,b,c,d,x):\n",
    "    return a*x**3 + b*x**2 + c*x + d \n",
    "# note that the calcuation is performed directly\n",
    "#at the line of returning argument"
   ]
  },
  {
   "cell_type": "code",
   "execution_count": null,
   "id": "97e8dd58",
   "metadata": {},
   "outputs": [],
   "source": [
    "print(polynomial(1, 2, 3, 4, 1.5))"
   ]
  },
  {
   "cell_type": "code",
   "execution_count": null,
   "id": "e09cbcbf",
   "metadata": {},
   "outputs": [],
   "source": [
    "c1, c2, c3, c4, c5 = 1, 2, 3, 4, 1.5 # assign values to multiple variables simultaneously\n",
    "print(polynomial(c1, c2, c3, c4, c5))"
   ]
  },
  {
   "cell_type": "markdown",
   "id": "1cef896c",
   "metadata": {},
   "source": [
    "**More than one returning arguments**"
   ]
  },
  {
   "cell_type": "code",
   "execution_count": 100,
   "id": "bddba706",
   "metadata": {},
   "outputs": [],
   "source": [
    "def speed( L, theta ): # the function has input arguments\n",
    "    g = 9.81 # the acceleration; \n",
    "    theta_rad = math.radians(theta) # converting the angle from degrees to radians \n",
    "    v = math.sqrt( L*g / (math.sin(2*theta_rad))) # calculate the speed\n",
    "    return v, v*math.cos(theta_rad) , v*math.sin(theta_rad)\n",
    "# Pay attention to the last line\n",
    "# I now have more than one returning arguments\n"
   ]
  },
  {
   "cell_type": "code",
   "execution_count": 101,
   "id": "d42fac1f",
   "metadata": {},
   "outputs": [
    {
     "name": "stdout",
     "output_type": "stream",
     "text": [
      "29.950398995672828 21.17813022908302 21.178130229083017\n"
     ]
    }
   ],
   "source": [
    "v, v_h, v_v = speed(100*yard, 45)\n",
    "print(v, v_h, v_v)"
   ]
  },
  {
   "cell_type": "markdown",
   "id": "b1963317",
   "metadata": {},
   "source": [
    "**Using list to organize multiple variables**"
   ]
  },
  {
   "cell_type": "code",
   "execution_count": 102,
   "id": "cac8afb2",
   "metadata": {},
   "outputs": [],
   "source": [
    "def speed( L, theta ): # the function has input arguments\n",
    "    g = 9.81 # the acceleration; \n",
    "    theta_rad = math.radians(theta) # converting the angle from degrees to radians \n",
    "    v = math.sqrt( L*g / (math.sin(2*theta_rad))) # calculate the speed\n",
    "    return [v, v*math.cos(theta_rad) , v*math.sin(theta_rad)]\n",
    "# note that i now have a set of square brackets containing the three quantities\n",
    "# this makes the returning argument a list"
   ]
  },
  {
   "cell_type": "code",
   "execution_count": 103,
   "id": "150485f4",
   "metadata": {},
   "outputs": [
    {
     "name": "stdout",
     "output_type": "stream",
     "text": [
      "[76.20708628467565, 53.886547486362495, 53.88654748636249]\n"
     ]
    }
   ],
   "source": [
    "velocity = speed(592,45)\n",
    "print(velocity)"
   ]
  },
  {
   "cell_type": "code",
   "execution_count": 104,
   "id": "fc439d25",
   "metadata": {},
   "outputs": [],
   "source": [
    "# I can of course use a list to organize multiple input arguments \n",
    "\n",
    "def speed( input_list ): # the function has input arguments\n",
    "    L = input_list[0]\n",
    "    theta = input_list[1]\n",
    "    g = 9.81 # the acceleration; \n",
    "    theta_rad = math.radians(theta) # converting the angle from degrees to radians \n",
    "    v = math.sqrt( L*g / (math.sin(2*theta_rad))) # calculate the speed\n",
    "    return [v, v*math.cos(theta_rad) , v*math.sin(theta_rad)]\n",
    "# note that i now have a set of square brackets containing the three quantities\n",
    "# this makes the returning argument a list\n"
   ]
  },
  {
   "cell_type": "code",
   "execution_count": 105,
   "id": "585580c8",
   "metadata": {},
   "outputs": [
    {
     "name": "stdout",
     "output_type": "stream",
     "text": [
      "[29.950398995672828, 21.17813022908302, 21.178130229083017]\n"
     ]
    }
   ],
   "source": [
    "input_list = [100*yard,45]\n",
    "velocity = speed(input_list)\n",
    "print(velocity)"
   ]
  },
  {
   "cell_type": "markdown",
   "id": "0dc143fc",
   "metadata": {},
   "source": [
    "#### Exercise for you"
   ]
  },
  {
   "cell_type": "code",
   "execution_count": 106,
   "id": "79fd1ed6",
   "metadata": {},
   "outputs": [
    {
     "ename": "TypeError",
     "evalue": "polynomial() missing 4 required positional arguments: 'b', 'c', 'd', and 'x'",
     "output_type": "error",
     "traceback": [
      "\u001b[0;31m---------------------------------------------------------------------------\u001b[0m",
      "\u001b[0;31mTypeError\u001b[0m                                 Traceback (most recent call last)",
      "\u001b[0;32m/var/folders/sg/h6rbzs2s5gx46fbp7ylyjggr0000gp/T/ipykernel_12273/2670761512.py\u001b[0m in \u001b[0;36m<module>\u001b[0;34m\u001b[0m\n\u001b[1;32m      4\u001b[0m \u001b[0;34m\u001b[0m\u001b[0m\n\u001b[1;32m      5\u001b[0m \u001b[0minput_list\u001b[0m \u001b[0;34m=\u001b[0m \u001b[0;34m[\u001b[0m\u001b[0;36m1\u001b[0m\u001b[0;34m,\u001b[0m\u001b[0;36m2\u001b[0m\u001b[0;34m,\u001b[0m\u001b[0;36m3\u001b[0m\u001b[0;34m,\u001b[0m\u001b[0;36m4\u001b[0m\u001b[0;34m,\u001b[0m\u001b[0;36m2.2\u001b[0m\u001b[0;34m]\u001b[0m\u001b[0;34m\u001b[0m\u001b[0;34m\u001b[0m\u001b[0m\n\u001b[0;32m----> 6\u001b[0;31m \u001b[0mprint\u001b[0m\u001b[0;34m(\u001b[0m \u001b[0mpolynomial\u001b[0m\u001b[0;34m(\u001b[0m\u001b[0minput_list\u001b[0m\u001b[0;34m)\u001b[0m\u001b[0;34m)\u001b[0m\u001b[0;34m\u001b[0m\u001b[0;34m\u001b[0m\u001b[0m\n\u001b[0m",
      "\u001b[0;31mTypeError\u001b[0m: polynomial() missing 4 required positional arguments: 'b', 'c', 'd', and 'x'"
     ]
    }
   ],
   "source": [
    "# Rewrite this function so that the input is a single list\n",
    "def polynomial(a,b,c,d,x):\n",
    "    return a*x**3 + b*x**2 + c*x + d \n",
    "\n",
    "input_list = [1,2,3,4,2.2]\n",
    "print( polynomial(input_list))"
   ]
  },
  {
   "cell_type": "markdown",
   "id": "fcad4df5",
   "metadata": {},
   "source": [
    "# Modules\n",
    "\n",
    "A module is a collection of functions that are built for you. You can *import* a module and *call* its function, so that you do not have to write it from the scratch.\n"
   ]
  },
  {
   "cell_type": "code",
   "execution_count": 107,
   "id": "415a199a",
   "metadata": {},
   "outputs": [
    {
     "name": "stdout",
     "output_type": "stream",
     "text": [
      "9.0\n"
     ]
    }
   ],
   "source": [
    "def squared_root_calculation(x):\n",
    "    return x**(0.5)\n",
    "\n",
    "print( squared_root_calculation(81))"
   ]
  },
  {
   "cell_type": "code",
   "execution_count": 108,
   "id": "0dec4883",
   "metadata": {},
   "outputs": [
    {
     "name": "stdout",
     "output_type": "stream",
     "text": [
      "9.0\n"
     ]
    }
   ],
   "source": [
    "import numpy as np\n",
    "\n",
    "print(np.sqrt(81))"
   ]
  },
  {
   "cell_type": "code",
   "execution_count": 109,
   "id": "23eb23d7",
   "metadata": {},
   "outputs": [
    {
     "name": "stdout",
     "output_type": "stream",
     "text": [
      "[1.52405431e-01 5.53151310e-01 1.66936532e-01 2.63443796e-01\n",
      " 1.45580540e-02 9.01607912e-01 3.06540090e-01 9.01014460e-01\n",
      " 5.74542165e-01 3.48649699e-01 9.52143909e-01 3.46127526e-01\n",
      " 6.91090638e-01 9.56189712e-01 6.01850772e-01 1.43332735e-01\n",
      " 8.42977130e-01 4.05956829e-01 2.45510856e-01 5.63166442e-01\n",
      " 4.12442742e-01 8.59642649e-01 9.51220536e-01 8.08487893e-01\n",
      " 2.41108792e-01 4.80133412e-01 1.58658708e-01 8.01315300e-01\n",
      " 9.76703237e-01 6.50159419e-01 7.02069093e-01 6.13313799e-01\n",
      " 7.64397911e-01 6.12273488e-01 6.62400509e-01 9.57316191e-01\n",
      " 2.15988487e-01 5.45157457e-01 5.24200147e-01 9.62536959e-01\n",
      " 5.92576563e-01 3.09659723e-01 7.12988763e-01 5.24301514e-01\n",
      " 1.50938698e-01 6.23381650e-01 6.52594320e-01 4.34725457e-02\n",
      " 3.92551370e-05 6.58663159e-01 6.23838300e-01 2.89016271e-01\n",
      " 7.75598686e-01 6.09586659e-01 8.95669087e-01 8.68516640e-01\n",
      " 5.90231138e-01 2.62268277e-02 9.65690112e-01 8.68117793e-01\n",
      " 2.81024609e-01 2.38818495e-01 6.03783384e-01 6.34811639e-01\n",
      " 7.03673581e-01 2.23220977e-01 6.23042053e-02 3.03952291e-01\n",
      " 1.74898377e-01 4.89397586e-01 4.41223643e-02 1.28144587e-01\n",
      " 4.11283889e-01 4.89239041e-01 5.89526199e-01 2.80318080e-02\n",
      " 3.21803256e-01 1.49043157e-02 5.91141974e-01 4.65727044e-01\n",
      " 8.68666434e-01 7.58510961e-01 7.17560415e-01 5.03427546e-01\n",
      " 8.28963348e-01 4.00909102e-02 1.52115245e-02 9.70118615e-01\n",
      " 6.63873650e-01 4.15605144e-01 4.83121043e-03 7.36179854e-01\n",
      " 4.32967819e-02 3.68312516e-01 2.86251952e-01 5.87947792e-01\n",
      " 8.19906545e-01 9.97921959e-01 8.29124159e-01 1.84480802e-01\n",
      " 9.15003300e-01 7.48404144e-01 7.16870241e-01 8.84387795e-01\n",
      " 6.38109218e-01 2.52051288e-01 4.54457878e-01 9.88309968e-01\n",
      " 4.32682433e-01 2.38823048e-01 6.72492575e-01 9.00910770e-01\n",
      " 3.41162454e-03 2.87547132e-01 5.77551954e-01 2.39755741e-01\n",
      " 1.16642585e-01 8.52750151e-02 9.71388974e-01 3.30896205e-01\n",
      " 5.51752659e-01 7.57834055e-01 6.44406565e-01 2.78734122e-01\n",
      " 3.75960589e-01 1.24968667e-01 8.91036234e-01 8.98817269e-01\n",
      " 5.65526525e-01 6.84784215e-01 7.72272013e-01 5.17608009e-01\n",
      " 9.90550745e-01 2.99761952e-01 3.58609254e-01 8.29107973e-01\n",
      " 6.63071941e-01 5.35930483e-01 6.60653633e-01 6.17244326e-01\n",
      " 3.28718993e-02 1.58141757e-01 3.77193578e-02 7.40290321e-01\n",
      " 9.96241535e-01 6.91165549e-01 3.68541420e-01 8.80795977e-01\n",
      " 9.17648250e-01 6.57450202e-01 9.63410845e-01 6.42821291e-01\n",
      " 1.62070965e-01 3.48433660e-01 3.06125206e-01 7.75437483e-01\n",
      " 6.95933286e-01 1.14964876e-01 7.35067131e-01 8.53864964e-01\n",
      " 2.69369747e-01 3.94543084e-01 8.32530908e-01 6.88425950e-01\n",
      " 7.38005604e-01 4.27189158e-01 7.33148817e-01 3.25902556e-01\n",
      " 3.76613174e-01 9.55826249e-01 8.00111530e-02 1.75924138e-02\n",
      " 2.42061420e-01 8.55767122e-01 9.01718257e-01 3.72663179e-01\n",
      " 9.42519873e-01 4.32523971e-01 2.15702172e-03 4.51156433e-01\n",
      " 3.62927666e-01 9.75062823e-01 4.83485531e-02 6.24688630e-01\n",
      " 7.41707532e-01 8.26698854e-02 4.19501248e-01 9.19817252e-01\n",
      " 7.68562057e-01 9.73500967e-01 2.31748527e-01 9.21888535e-01\n",
      " 6.20636649e-02 6.72695378e-01 1.92296660e-01 3.43918842e-01\n",
      " 7.83793558e-01 6.79362710e-01 6.14191552e-01 7.63002893e-01\n",
      " 7.95578796e-01 1.99478774e-01 4.80474401e-01 8.75788001e-01\n",
      " 6.15952135e-01 6.01579510e-01 2.10419597e-01 2.53062163e-01\n",
      " 4.38596664e-01 3.13791519e-01 2.09040560e-01 4.08362407e-01\n",
      " 1.23602760e-01 6.49023321e-01 2.99742449e-01 2.82002605e-01\n",
      " 6.51682904e-01 7.06513983e-01 8.65765839e-01 2.20247911e-01\n",
      " 6.29304495e-01 1.85326587e-01 1.87814256e-01 2.50470656e-01\n",
      " 5.26697658e-01 4.02269506e-01 9.40906460e-01 8.99825289e-01\n",
      " 9.36458063e-01 2.54917222e-01 5.88881971e-01 1.97668079e-02\n",
      " 5.22764283e-02 5.21771031e-01 5.31966032e-01 7.72286599e-01\n",
      " 1.15184802e-01 2.78168944e-01 1.59119273e-01 3.99454203e-01\n",
      " 5.32336773e-02 3.12167001e-01 5.77710249e-01 6.57486158e-01\n",
      " 2.93818786e-01 4.03944709e-01 4.52537544e-01 8.87459088e-01\n",
      " 5.73278293e-01 1.21117020e-01 3.54778791e-01 8.56006251e-01\n",
      " 1.98590761e-01 6.39167466e-01 8.89641003e-01 8.26218393e-01\n",
      " 1.33939555e-01 9.83378525e-01 1.14289168e-02 8.13441962e-01\n",
      " 2.53965405e-01 2.24799306e-01 4.76175965e-01 9.82582485e-01\n",
      " 9.01350675e-01 7.84882205e-01 1.21036189e-01 1.14448397e-01\n",
      " 6.22048169e-02 3.04093233e-01 7.73998150e-01 7.36259684e-01\n",
      " 4.90644083e-01 9.32774881e-02 9.67325596e-01 7.60690887e-01\n",
      " 8.92868349e-01 8.47645731e-01 8.27421027e-01 9.39680421e-01\n",
      " 4.09644870e-01 5.46146383e-02 5.49651093e-01 5.56593092e-02\n",
      " 8.17540084e-01 6.69429564e-01 1.17043660e-01 3.93441296e-01\n",
      " 6.06790425e-02 1.81218671e-01 8.56384709e-01 3.21447188e-01\n",
      " 8.12607141e-01 4.06583777e-01 9.94955660e-01 5.62683760e-01\n",
      " 3.29825504e-01 2.03238567e-01 1.53721630e-01 6.81862678e-01\n",
      " 5.80476174e-01 7.33831881e-02 1.50859903e-01 6.32057344e-01\n",
      " 1.15275410e-01 6.00402686e-01 2.68428630e-01 6.48747607e-02\n",
      " 2.02105343e-01 5.75030342e-02 4.02985661e-02 2.90321658e-01\n",
      " 4.07988039e-01 7.84808224e-01 9.82909672e-01 7.78343217e-01\n",
      " 5.16941013e-01 7.64739829e-01 7.49342270e-01 3.38923504e-01\n",
      " 2.26668322e-01 3.26657387e-01 6.04124748e-01 7.69511219e-01\n",
      " 4.78212864e-01 6.20225339e-01 9.91170889e-02 9.00198275e-01\n",
      " 3.67379528e-01 2.06194126e-01 1.98539692e-02 5.46919747e-01\n",
      " 1.85997740e-01 7.78168391e-01 4.79227786e-01 7.80902446e-01\n",
      " 5.12190093e-01 2.46424956e-01 5.83720252e-01 5.82054155e-01\n",
      " 7.49915353e-01 3.58022968e-01 4.98688510e-01 3.88787145e-02\n",
      " 8.43973239e-01 2.48698505e-02 4.44822168e-01 4.33221514e-01\n",
      " 6.74044205e-01 9.33601883e-01 3.90811633e-01 8.53814839e-01\n",
      " 2.51610841e-01 3.50589304e-02 4.80203045e-01 8.81514064e-01\n",
      " 2.99501506e-01 7.21702210e-01 7.57203643e-01 5.46225258e-01\n",
      " 2.11838151e-02 8.40087866e-01 8.19569673e-01 6.42922680e-01\n",
      " 1.96901011e-01 8.22713195e-01 8.53624576e-01 6.32594086e-01\n",
      " 8.11683347e-01 4.95151973e-02 8.00497945e-01 6.22240746e-01\n",
      " 2.15391176e-01 4.47515554e-01 7.38747794e-02 4.98886098e-01\n",
      " 7.95265427e-01 7.51101050e-01 4.36100467e-02 7.28239318e-01\n",
      " 2.46648448e-01 6.60160748e-01 5.06698125e-01 3.00362037e-01\n",
      " 8.94642013e-01 2.10601407e-01 9.20025883e-02 4.84967457e-01\n",
      " 8.20246561e-01 3.90820465e-01 5.96906989e-01 1.08373927e-03\n",
      " 3.10134952e-01 8.86499086e-01 2.22354126e-02 9.51024672e-01\n",
      " 6.86005006e-03 5.12336963e-01 8.65002985e-01 7.51415036e-01\n",
      " 3.42445810e-01 7.73454401e-01 8.49080120e-01 7.95288235e-01\n",
      " 7.02547776e-01 9.05088120e-02 8.15667146e-01 6.66635355e-01\n",
      " 9.43078720e-01 4.68128313e-01 5.22792547e-01 6.73525086e-01\n",
      " 4.85372745e-01 4.41509010e-01 4.85967293e-01 1.74062667e-01\n",
      " 2.26571042e-01 9.16477717e-01 6.24943257e-01 6.40438740e-01\n",
      " 2.94837783e-01 8.24782431e-01 1.97417810e-01 1.16577347e-01\n",
      " 5.04934794e-01 2.96096204e-01 5.12554864e-01 3.35678899e-01\n",
      " 2.48938686e-01 3.92206363e-01 4.24937066e-01 8.19218843e-01\n",
      " 4.59494486e-01 6.38693217e-01 8.63087479e-01 7.74588309e-01\n",
      " 3.59796900e-01 9.35846440e-01 9.02765651e-01 6.62416328e-01\n",
      " 3.73806942e-01 4.32897293e-01 4.73178042e-02 7.28752852e-01\n",
      " 2.85822577e-01 9.14970834e-01 8.83193552e-01 7.02668518e-01\n",
      " 8.02264550e-01 1.43298750e-02 4.06252940e-01 3.35740947e-01\n",
      " 4.89295324e-01 7.29207158e-01 6.27443057e-01 9.83004276e-01\n",
      " 3.94975684e-01 5.67870915e-01 2.57294297e-01 5.82439566e-01\n",
      " 8.02612582e-01 1.94361293e-01 5.57741521e-02 6.55576942e-01\n",
      " 6.41466601e-01 3.56141600e-02 3.17385999e-01 6.17603855e-01\n",
      " 8.56933947e-01 4.82907218e-01 8.06064526e-01 9.50506840e-01\n",
      " 6.03570304e-01 5.91063227e-01 4.44511979e-01 1.07666144e-01\n",
      " 5.76540602e-01 2.33274922e-01 3.61504093e-01 1.31471631e-01\n",
      " 9.59862064e-01 1.83459010e-03 1.98134607e-01 9.28846735e-01\n",
      " 5.30575485e-01 7.75838591e-01 5.05253868e-01 7.94403128e-01\n",
      " 3.74878814e-01 4.83775515e-01 7.35107893e-01 8.23810393e-01\n",
      " 9.50149009e-01 1.03232662e-01 9.38421132e-01 3.45938634e-01\n",
      " 1.98138778e-01 3.75832983e-01 1.12780155e-01 6.19732154e-01\n",
      " 2.59072944e-01 9.81159271e-01 3.38081718e-01 7.15334979e-01\n",
      " 7.32875583e-01 6.46660930e-01 7.48725820e-01 1.76731101e-01\n",
      " 7.88675172e-01 5.23370129e-01 3.29672548e-01 9.47854185e-02\n",
      " 8.76748897e-01 3.94596415e-01 2.73239270e-01 4.99950275e-01\n",
      " 1.28849190e-01 5.48289489e-01 8.67710436e-01 3.06100600e-02\n",
      " 5.02916479e-01 3.63288705e-01 2.65978765e-01 4.30083764e-01\n",
      " 7.26705163e-02 8.01160271e-01 8.11811603e-01 7.38459171e-01\n",
      " 1.14049923e-01 1.76243824e-02 8.28442138e-01 2.74536160e-01\n",
      " 3.72051216e-01 7.29348249e-01 9.02123066e-01 9.28072394e-01\n",
      " 7.99139103e-01 5.11824750e-01 8.28326850e-01 8.76406747e-01\n",
      " 6.38875714e-02 3.04414444e-02 6.64838882e-02 8.75756285e-01\n",
      " 8.80664703e-01 6.05872256e-01 4.92569413e-01 8.96472856e-01\n",
      " 3.19752739e-01 5.49066313e-01 3.57764357e-01 4.88137183e-01\n",
      " 7.36272880e-01 4.08361782e-01 7.03998725e-01 5.53144309e-01\n",
      " 7.12960433e-02 8.05150881e-01 8.27473797e-01 3.87213489e-01\n",
      " 4.89931930e-01 2.59249439e-01 1.98063247e-01 8.24595421e-01\n",
      " 4.10962013e-01 8.02818085e-01 2.24410180e-02 3.19537835e-01\n",
      " 9.98053328e-01 2.19737374e-01 7.00699494e-01 7.76949497e-01\n",
      " 2.35400568e-01 2.23927332e-01 6.93112899e-01 5.68403192e-01\n",
      " 9.29504200e-01 9.27832949e-02 2.18923586e-01 3.24762216e-01\n",
      " 7.71001877e-01 2.49364952e-01 9.15643697e-01 6.92674518e-01\n",
      " 5.63019820e-01 4.16273499e-02 8.11576147e-01 7.55524376e-01\n",
      " 2.18113269e-01 2.41012201e-01 7.22266996e-02 4.87397723e-01\n",
      " 6.70023247e-01 1.91239037e-02 5.46517581e-01 3.44749665e-01\n",
      " 4.86918554e-01 7.27271325e-01 2.78630969e-01 9.67219073e-01\n",
      " 7.50829935e-01 8.06205830e-01 8.42287978e-02 8.55750169e-02\n",
      " 8.44893322e-01 3.92334861e-01 1.41847141e-01 2.34225078e-01\n",
      " 3.20756088e-02 4.59643686e-01 1.46432486e-01 9.91854563e-01\n",
      " 5.19710594e-01 3.73599638e-01 7.31098075e-01 3.47421347e-01\n",
      " 4.46282965e-01 6.33471352e-01 1.15376772e-01 6.80659688e-02\n",
      " 5.09677283e-01 1.17823787e-01 7.17352888e-01 9.77560060e-02\n",
      " 3.27178064e-01 9.52110756e-01 4.69457243e-01 1.82095725e-01\n",
      " 2.20341474e-01 4.67909469e-01 5.80424671e-01 4.88019860e-01\n",
      " 1.48598998e-01 9.71751363e-01 7.72716077e-01 7.82330627e-01\n",
      " 1.10297635e-01 5.11688515e-01 7.26485569e-01 2.19428285e-01\n",
      " 7.16220334e-01 4.52220766e-01 4.65666112e-01 6.89133690e-01\n",
      " 6.07340058e-01 2.28596477e-02 3.21655245e-01 7.23184493e-01\n",
      " 8.73582919e-01 6.66697231e-01 9.67827375e-01 8.61502227e-01\n",
      " 5.57036267e-01 8.39571556e-01 3.48430729e-01 1.95015780e-01\n",
      " 1.37879081e-02 7.81705667e-02 7.76522809e-01 5.61638231e-01\n",
      " 7.37299894e-01 8.61098532e-01 2.33558072e-01 2.48786081e-01\n",
      " 5.95147129e-01 4.69013458e-01 8.72954609e-01 8.96447166e-01\n",
      " 1.44560921e-01 1.14789806e-01 6.83651414e-01 9.38410029e-01\n",
      " 4.27424081e-01 3.98870727e-01 8.18521726e-01 4.74506575e-02\n",
      " 4.44545733e-01 7.50178531e-01 2.50908486e-01 9.06976037e-01\n",
      " 3.11074437e-01 9.92349428e-01 2.32428656e-01 2.32687584e-03\n",
      " 3.52876262e-01 9.09855855e-01 4.74524654e-01 5.27205315e-01\n",
      " 6.59385897e-01 5.04208236e-01 1.00807116e-01 1.71667413e-02\n",
      " 2.19613592e-02 1.52501474e-01 7.69353159e-01 3.94225709e-02\n",
      " 2.87715619e-01 6.83504219e-01 2.17611086e-01 4.46733422e-01\n",
      " 6.16208612e-01 9.54752558e-01 2.19961926e-01 2.50875956e-01\n",
      " 4.71802899e-02 8.74277133e-01 7.51034061e-01 8.41268917e-01\n",
      " 2.57217249e-01 9.90462760e-01 5.85853325e-02 8.97173533e-01\n",
      " 9.67435458e-01 9.52967795e-01 3.80827307e-01 4.71520377e-01\n",
      " 3.78064803e-01 5.17283646e-01 1.17960658e-01 4.56517571e-01\n",
      " 3.90225474e-01 9.28345811e-01 6.98757682e-01 2.90824910e-01\n",
      " 8.82914104e-01 1.21101702e-01 3.66162777e-02 3.22956608e-01\n",
      " 4.09399814e-01 4.73710599e-02 9.31176960e-01 3.25492911e-01\n",
      " 5.46962220e-01 8.31587828e-01 2.10444082e-01 2.07881124e-02\n",
      " 5.79364435e-01 8.92120817e-01 3.61747176e-01 4.49391418e-02\n",
      " 1.85477372e-01 6.60432781e-01 2.11994236e-01 9.81973793e-02\n",
      " 5.54683625e-01 5.77684753e-01 7.02460650e-01 9.37370337e-01\n",
      " 8.66703985e-02 3.17906693e-01 8.26079211e-01 6.37633834e-01\n",
      " 2.55693999e-01 3.90240509e-02 8.62518634e-01 3.27028042e-01\n",
      " 8.95067254e-01 6.89910201e-01 3.39959361e-01 5.74493613e-01\n",
      " 6.27950920e-01 6.71659475e-01 7.14096188e-02 9.40599924e-01\n",
      " 6.74332794e-01 3.17595146e-01 8.01034377e-01 7.86123788e-01\n",
      " 8.43077159e-01 8.32230542e-01 4.86160451e-01 1.75196290e-01\n",
      " 4.27801945e-01 4.67076683e-01 7.48860291e-01 2.16451261e-01\n",
      " 8.96747433e-01 5.37471844e-01 1.20961203e-01 8.48228598e-01\n",
      " 7.50340765e-01 4.24792241e-02 7.74126866e-01 6.99402691e-01\n",
      " 7.46302380e-01 8.06799815e-01 9.32174264e-01 9.92613131e-01\n",
      " 1.92878039e-01 6.64524851e-01 2.42752341e-01 7.70489963e-01\n",
      " 6.16976338e-01 4.10431399e-02 6.01355610e-01 4.75512948e-01\n",
      " 1.56837899e-01 9.38877866e-01 1.09656242e-01 9.24288464e-01\n",
      " 5.98199473e-01 3.42990565e-01 3.66981331e-02 2.68213885e-01\n",
      " 9.12074970e-02 1.56884578e-01 3.93072500e-01 3.63844016e-01\n",
      " 6.97924427e-01 3.53452561e-01 9.97007331e-01 6.83380287e-01\n",
      " 5.15747617e-02 5.25609102e-01 1.83105914e-01 5.37283946e-01\n",
      " 2.16702443e-01 3.17069390e-01 6.10380993e-01 3.80740050e-01\n",
      " 9.99214980e-01 2.07493861e-01 9.14103034e-01 2.61183786e-01\n",
      " 1.55774917e-01 1.35929397e-01 9.76475714e-01 5.25148704e-01\n",
      " 7.05353309e-01 7.74542346e-01 5.17604311e-01 8.06446833e-01\n",
      " 9.39701746e-01 9.14379889e-01 6.87879085e-01 1.16150864e-01\n",
      " 7.30552904e-01 8.62954625e-01 5.22262193e-01 8.39834899e-01\n",
      " 1.31518402e-01 8.45772187e-01 5.31305997e-01 6.97012452e-01\n",
      " 2.91518412e-01 7.73517963e-01 5.91904531e-01 7.07790535e-01\n",
      " 8.92742244e-01 1.10542349e-01 8.42496118e-01 6.40093633e-01\n",
      " 1.31678264e-01 2.86661360e-01 3.70949318e-01 3.77272361e-01\n",
      " 9.42027255e-01 7.17206418e-01 5.42588253e-01 8.45792968e-02\n",
      " 5.77551948e-01 2.78874244e-01 2.68579412e-01 1.28063966e-02\n",
      " 8.70762987e-01 3.78027240e-01 6.78135292e-01 8.10688068e-01\n",
      " 8.27964009e-01 5.54182326e-01 9.93681757e-01 8.64275275e-02\n",
      " 4.34173590e-01 7.25593411e-01 2.47787303e-01 3.33232334e-01\n",
      " 4.66500477e-01 8.29459501e-01 1.69629374e-01 1.32278305e-01\n",
      " 6.30737367e-01 1.00972283e-01 2.96793980e-01 6.10810266e-01\n",
      " 6.55572259e-01 5.20760321e-01 5.61450873e-01 8.82250738e-02\n",
      " 3.23419139e-01 6.17318158e-01 7.92736432e-01 4.64452712e-01\n",
      " 5.26915708e-01 4.74970345e-01 9.89572566e-01 6.96806747e-02\n",
      " 6.53346015e-02 8.07876227e-01 7.73206483e-01 2.19039786e-01\n",
      " 4.65090132e-01 6.58455448e-01 2.26797591e-02 7.93178816e-01\n",
      " 4.16286482e-01 3.70680457e-01 9.83409010e-01 7.46187773e-01\n",
      " 9.02069042e-01 6.92267928e-01 7.01743160e-01 8.28217191e-01\n",
      " 7.46037218e-01 7.89436656e-01 2.69353552e-01 1.64678236e-02\n",
      " 3.95250140e-02 3.21806738e-01 3.80021288e-02 8.33765773e-01\n",
      " 5.64429319e-01 2.97800595e-01 6.98559812e-01 7.05337829e-01\n",
      " 8.90169512e-01 2.91273359e-01 3.96495755e-01 2.08073711e-01\n",
      " 3.22389839e-01 3.30448861e-01 9.83126962e-01 3.28461834e-01\n",
      " 1.69296183e-01 6.33038135e-01 2.23861020e-01 6.80064120e-01\n",
      " 9.76755009e-02 9.04578803e-01 3.15646400e-01 1.55390123e-01\n",
      " 9.06910460e-01 9.26188913e-01 3.16523325e-01 9.00727979e-01\n",
      " 6.49903441e-01 9.80299749e-01 3.50165218e-01 9.15041999e-01\n",
      " 2.04425601e-01 6.50027988e-01 7.01490696e-01 3.56764985e-01\n",
      " 9.32898730e-01 7.48497504e-01 4.71625028e-01 6.01542569e-01\n",
      " 3.86100441e-02 4.85833412e-01 6.78382094e-01 9.59877950e-01\n",
      " 7.35901254e-01 4.21059889e-01 3.57543415e-01 5.02630858e-01\n",
      " 7.21187683e-01 9.76239656e-01 6.80823709e-01 3.67051143e-01\n",
      " 3.64068697e-01 3.61468501e-01 7.70262679e-01 5.87858219e-01\n",
      " 6.28888906e-01 3.99251122e-02 5.40907460e-01 6.95211008e-01\n",
      " 8.38598096e-01 8.26257421e-01 6.54923400e-01 7.81175526e-01\n",
      " 9.73793410e-01 2.20283186e-01 5.71272248e-01 4.68303696e-01\n",
      " 1.88253695e-01 1.88968972e-01 2.28363741e-01 1.24097414e-01\n",
      " 3.42789386e-01 9.81709904e-01 9.31286774e-01 7.84268808e-01\n",
      " 4.87089912e-01 1.43611399e-01 9.34957570e-01 7.09030781e-02\n"
     ]
    },
    {
     "name": "stdout",
     "output_type": "stream",
     "text": [
      " 4.74357098e-01 2.76975492e-01 9.41875420e-01 5.71189023e-01]\n"
     ]
    }
   ],
   "source": [
    "import numpy as np\n",
    "\n",
    "\n",
    "N = 1000\n",
    "\n",
    "# Generate an array of N random numbers between 0 and 1\n",
    "\n",
    "random_numbers = np.random.rand(N)\n",
    "\n",
    "print(random_numbers)\n"
   ]
  },
  {
   "cell_type": "code",
   "execution_count": 110,
   "id": "b7326e3d",
   "metadata": {},
   "outputs": [
    {
     "data": {
      "text/plain": [
       "(array([109.,  83., 100., 103.,  85.,  90., 108., 108., 111., 103.]),\n",
       " array([3.92551370e-05, 9.99568276e-02, 1.99874400e-01, 2.99791972e-01,\n",
       "        3.99709545e-01, 4.99627117e-01, 5.99544690e-01, 6.99462262e-01,\n",
       "        7.99379835e-01, 8.99297407e-01, 9.99214980e-01]),\n",
       " <BarContainer object of 10 artists>)"
      ]
     },
     "execution_count": 110,
     "metadata": {},
     "output_type": "execute_result"
    },
    {
     "data": {
      "image/png": "[encoded data removed]",
      "text/plain": [
       "<Figure size 640x480 with 1 Axes>"
      ]
     },
     "metadata": {},
     "output_type": "display_data"
    }
   ],
   "source": [
    "import matplotlib.pyplot as plt\n",
    "# matplotlib is a module\n",
    "# pyplot is a submodule of matplotlib\n",
    "\n",
    "plt.hist(random_numbers)\n",
    "# use the alias of the submodule pyplot to call a function of that submodule\n",
    "# this function is \"hist\", plotting the data points as a histogram\n",
    "# the function has an input argument, which is random_numbers, in this case, a numpy array"
   ]
  },
  {
   "cell_type": "code",
   "execution_count": 111,
   "id": "fb0fae1b",
   "metadata": {},
   "outputs": [
    {
     "data": {
      "text/plain": [
       "Text(0, 0.5, 'Number of entries')"
      ]
     },
     "execution_count": 111,
     "metadata": {},
     "output_type": "execute_result"
    },
    {
     "data": {
      "image/png": "[encoded data removed]",
      "text/plain": [
       "<Figure size 640x480 with 1 Axes>"
      ]
     },
     "metadata": {},
     "output_type": "display_data"
    }
   ],
   "source": [
    "plt.hist(random_numbers)\n",
    "plt.xlabel('random number')\n",
    "plt.ylabel('Number of entries')"
   ]
  },
  {
   "cell_type": "markdown",
   "id": "2eddd35d",
   "metadata": {},
   "source": [
    "## Some other modules"
   ]
  },
  {
   "cell_type": "code",
   "execution_count": 112,
   "id": "284f35fe",
   "metadata": {},
   "outputs": [
    {
     "name": "stdout",
     "output_type": "stream",
     "text": [
      "Python version: 3.10.13 (main, Sep 11 2023, 08:39:02) [Clang 14.0.6 ]\n"
     ]
    }
   ],
   "source": [
    "import sys\n",
    "# Get the Python version information\n",
    "print(\"Python version:\", sys.version)"
   ]
  },
  {
   "cell_type": "code",
   "execution_count": 113,
   "id": "e69f13ef",
   "metadata": {},
   "outputs": [
    {
     "name": "stdout",
     "output_type": "stream",
     "text": [
      "Current time: 1706572859.631694\n",
      "Current human-readable time: 2024-01-29 16:00:59\n",
      "Sleeping for 2 seconds...\n",
      "Awake now!\n",
      "Elapsed time: 2.005620002746582 seconds\n"
     ]
    }
   ],
   "source": [
    "import time\n",
    "\n",
    "# Get the current time in seconds since the epoch (January 1, 1970)\n",
    "current_time = time.time()\n",
    "print(\"Current time:\", current_time)\n",
    "\n",
    "# Convert the current time to a struct_time object\n",
    "time_struct = time.localtime(current_time)\n",
    "\n",
    "# Format the time as a human-readable string\n",
    "human_readable_time = time.strftime(\"%Y-%m-%d %H:%M:%S\", time_struct)\n",
    "\n",
    "print(\"Current human-readable time:\", human_readable_time)\n",
    "\n",
    "\n",
    "# Sleep for 2 seconds\n",
    "print(\"Sleeping for 2 seconds...\")\n",
    "time.sleep(2)\n",
    "print(\"Awake now!\")\n",
    "\n",
    "# Measure the time taken to execute a code block\n",
    "start_time = time.time()\n",
    "# Code to be measured\n",
    "time.sleep(2)\n",
    "end_time = time.time()\n",
    "elapsed_time = end_time - start_time\n",
    "print(\"Elapsed time:\", elapsed_time, \"seconds\")\n"
   ]
  },
  {
   "cell_type": "code",
   "execution_count": 114,
   "id": "2ab08dff",
   "metadata": {},
   "outputs": [
    {
     "name": "stdout",
     "output_type": "stream",
     "text": [
      "Current human-readable datetime: 2024-01-29 16:01:03\n"
     ]
    }
   ],
   "source": [
    "import datetime\n",
    "\n",
    "# Get the current date and time\n",
    "current_datetime = datetime.datetime.now()\n",
    "\n",
    "# Format the datetime as a human-readable string\n",
    "human_readable_datetime = current_datetime.strftime(\"%Y-%m-%d %H:%M:%S\")\n",
    "\n",
    "print(\"Current human-readable datetime:\", human_readable_datetime)\n"
   ]
  },
  {
   "cell_type": "markdown",
   "id": "6e08619b",
   "metadata": {},
   "source": [
    "# a fun exercise"
   ]
  },
  {
   "cell_type": "code",
   "execution_count": 115,
   "id": "ecaacb9b",
   "metadata": {},
   "outputs": [],
   "source": [
    "# First rewrite the speed function using numpy functions\n",
    "\n",
    "import numpy as np # Import modules \n",
    "\n",
    "def speed( R, theta ): # the function has input arguments\n",
    "    g = 9.81 # the acceleration; \n",
    "    theta_rad = np.deg2rad(theta) # converting the angle from degrees to radians \n",
    "    v = np.sqrt( R*g / (np.cos(theta_rad) * np.sin(theta_rad) *2)) # calculate the speed\n",
    "    return v # return the calculated value\n",
    "\n"
   ]
  },
  {
   "cell_type": "code",
   "execution_count": 116,
   "id": "5df5554a",
   "metadata": {},
   "outputs": [
    {
     "name": "stdout",
     "output_type": "stream",
     "text": [
      "[ 1.  2.  3.  4.  5.  6.  7.  8.  9. 10. 11. 12. 13. 14. 15. 16. 17. 18.\n",
      " 19. 20. 21. 22. 23. 24. 25. 26. 27. 28. 29. 30. 31. 32. 33. 34. 35. 36.\n",
      " 37. 38. 39. 40. 41. 42. 43. 44. 45. 46. 47. 48. 49. 50. 51. 52. 53. 54.\n",
      " 55. 56. 57. 58. 59. 60. 61. 62. 63. 64. 65. 66. 67. 68. 69. 70. 71. 72.\n",
      " 73. 74. 75. 76. 77. 78. 79. 80. 81. 82. 83. 84. 85. 86. 87. 88. 89.]\n"
     ]
    }
   ],
   "source": [
    "# Now I consider the distance as a constant R = 592\n",
    "R = 100\n",
    "# I wanted to visualize how the launch speed depends on the launch angle\n",
    "\n",
    "# I am using a function of numpy module called linspace\n",
    "# it's generating a series of uniformly spaced values between 1 and 89\n",
    "# returns a numpy array that stores these values\n",
    "angle_values = np.linspace(1,89,89)\n",
    "print(angle_values)"
   ]
  },
  {
   "cell_type": "code",
   "execution_count": 117,
   "id": "1d1a7090",
   "metadata": {},
   "outputs": [],
   "source": [
    "speed_values = speed(R, angle_values)\n",
    "# because all the operations in the speed function are now written using numpy functions\n",
    "# I can use numpy array as input argument"
   ]
  },
  {
   "cell_type": "code",
   "execution_count": 118,
   "id": "96dadfc4",
   "metadata": {},
   "outputs": [
    {
     "name": "stdout",
     "output_type": "stream",
     "text": [
      "[167.6582473  118.58840952  96.87622805  83.95698839  75.1621836\n",
      "  68.69024234  63.67909979  59.65755718  56.34343516  53.55606517\n",
      "  51.17369721  49.11089555  47.30570541  45.7119616   44.29446918\n",
      "  43.02586892  41.88453305  40.85311354  39.91751658  39.06616278\n",
      "  38.28944366  37.57931566  36.92899244  36.33270851  35.7855355\n",
      "  35.28323779  34.82215797  34.3991251   34.01138065  33.65651836\n",
      "  33.33243495  33.03728959  32.76947038  32.5275665   32.31034501\n",
      "  32.1167315   31.94579388  31.79672893  31.668851    31.56158276\n",
      "  31.47444755  31.40706325  31.35913746  31.33046382  31.32091953\n",
      "  31.33046382  31.35913746  31.40706325  31.47444755  31.56158276\n",
      "  31.668851    31.79672893  31.94579388  32.1167315   32.31034501\n",
      "  32.5275665   32.76947038  33.03728959  33.33243495  33.65651836\n",
      "  34.01138065  34.3991251   34.82215797  35.28323779  35.7855355\n",
      "  36.33270851  36.92899244  37.57931566  38.28944366  39.06616278\n",
      "  39.91751658  40.85311354  41.88453305  43.02586892  44.29446918\n",
      "  45.7119616   47.30570541  49.11089555  51.17369721  53.55606517\n",
      "  56.34343516  59.65755718  63.67909979  68.69024234  75.1621836\n",
      "  83.95698839  96.87622805 118.58840952 167.6582473 ]\n"
     ]
    }
   ],
   "source": [
    "print(speed_values)"
   ]
  },
  {
   "cell_type": "code",
   "execution_count": 119,
   "id": "10377dc8",
   "metadata": {},
   "outputs": [
    {
     "data": {
      "text/plain": [
       "Text(0.5, 0, 'degrees')"
      ]
     },
     "execution_count": 119,
     "metadata": {},
     "output_type": "execute_result"
    },
    {
     "data": {
      "image/png": "[encoded data removed]",
      "text/plain": [
       "<Figure size 640x480 with 1 Axes>"
      ]
     },
     "metadata": {},
     "output_type": "display_data"
    }
   ],
   "source": [
    "#Let's plot it\n",
    "\n",
    "#import the right module\n",
    "\n",
    "import matplotlib.pyplot as plt\n",
    "\n",
    "plt.plot(angle_values, speed_values)\n",
    "\n",
    "plt.ylabel('speed [m/s]')\n",
    "plt.xlabel('degrees')"
   ]
  },
  {
   "cell_type": "code",
   "execution_count": null,
   "id": "c3d35df4",
   "metadata": {},
   "outputs": [],
   "source": [
    "plt.scatter(angle_values, speed_values)\n",
    "\n",
    "plt.ylabel('speed [m/s]')\n",
    "plt.xlabel('degrees')"
   ]
  },
  {
   "cell_type": "code",
   "execution_count": null,
   "id": "facf0fe8",
   "metadata": {},
   "outputs": [],
   "source": [
    "plt.plot(angle_values, speed_values,label='Launch speed vs angle')\n",
    "\n",
    "plt.ylabel('speed [m/s]')\n",
    "plt.xlabel('degrees')\n",
    "plt.legend()"
   ]
  },
  {
   "cell_type": "code",
   "execution_count": null,
   "id": "29dbcf3b",
   "metadata": {},
   "outputs": [],
   "source": [
    "speed_values_distance1000 = speed(1000, angle_values)"
   ]
  },
  {
   "cell_type": "code",
   "execution_count": null,
   "id": "2f0235e6",
   "metadata": {},
   "outputs": [],
   "source": [
    "plt.plot(angle_values, speed_values,label='Distance = 100 m')\n",
    "plt.plot(angle_values, speed_values_distance1000,label='Distance = 1000 m')\n",
    "\n",
    "plt.ylabel('speed [m/s]')\n",
    "plt.xlabel('degrees')\n",
    "plt.legend()"
   ]
  },
  {
   "cell_type": "code",
   "execution_count": null,
   "id": "2f91b6d6",
   "metadata": {},
   "outputs": [],
   "source": []
  }
 ],
 "metadata": {
  "kernelspec": {
   "display_name": "Python 3 (ipykernel)",
   "language": "python",
   "name": "python3"
  },
  "language_info": {
   "codemirror_mode": {
    "name": "ipython",
    "version": 3
   },
   "file_extension": ".py",
   "mimetype": "text/x-python",
   "name": "python",
   "nbconvert_exporter": "python",
   "pygments_lexer": "ipython3",
   "version": "3.10.13"
  }
 },
 "nbformat": 4,
 "nbformat_minor": 5
}
