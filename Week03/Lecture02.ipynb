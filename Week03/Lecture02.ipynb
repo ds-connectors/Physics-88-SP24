{
 "cells": [
  {
   "cell_type": "markdown",
   "id": "baf2e7ec",
   "metadata": {},
   "source": [
    "# Physics 77, Lecture 2: control structures\n",
    "\n",
    "<i>YGK, Haichen Wang</i>\n",
    "\n",
    "## Outline\n",
    "- Recap\n",
    "- Loop back: data representation, bits and bytes\n",
    "- Variables and Data Types\n",
    "- Composite Types (Lists, tuples, arrays)\n",
    "- Functions \n",
    "- Modules\n",
    "- Conditionals\n",
    "- Loops\n",
    "\n",
    "# Recap: Week 1-2\n",
    "\n",
    "- Introductory slides: course outline, syllabus, policy\n",
    "- Introduction to Unix, including use of the command line\n",
    "- A graphing teaser\n",
    "- Introduction to computing, programming and python\n",
    "- Any questions??\n",
    "\n",
    "# Now on to Week 3\n",
    "\n",
    "- Start with an example of projectile motion, how we determine the launch speed as a function of launch angle\n",
    "    * dissect the python implementation of the calculation\n",
    "\n",
    "## Example: projectile motion\n",
    "\n",
    "Let's consider the projectile motion.\n",
    "\n",
    "<i>The length of the (American) foodball field is 100 yards. At what speed does Jared Goff (former Cal quarterback) would need to launch the football so that it travels from one goal line to another ? Ignore air resistance and Goff's 6-4 height. \n",
    "</i>\n",
    "    \n",
    "- There are two degrees of freedom: the launch angle  $\\theta$, and the initial speed $v_0$.\n",
    "\n",
    "- The time of flight is $t = 2\\frac{v_0 \\sin\\theta}{g} $.\n",
    "\n",
    "- The horizontal distance traveled is $L = v_0 \\cos(\\theta) t = \\frac{v_0^2 \\sin(2\\theta)}{g} $\n",
    "\n",
    "- $v_0 = \\sqrt{\\frac{Lg}{\\sin(2\\theta)}}$\n",
    "\n",
    "<span style=\"color:red\">If the launch angle is 45 degrees, then what is the initial speed needed in order to hit our target?</span>\n"
   ]
  },
  {
   "cell_type": "code",
   "execution_count": null,
   "id": "88048293",
   "metadata": {},
   "outputs": [],
   "source": [
    "import math # Import modules \n",
    "\n",
    "g = 9.81 # the acceleration in m/s^2\n",
    "yard = 0.9144 # in meters ! A variable with assigned value\n",
    "\n",
    "L = 100*yard # in meters ! A variable with assigned value\n",
    "theta = 45 # launch angle set by user. A variable assigned with a value\n",
    "theta_rad = math.radians(theta) # converting the angle from degrees to radians \n",
    "v0 = math.sqrt( L*g / (math.sin(2*theta_rad) ) ) # calculate the speed\n",
    "# Print the result to the screen\n",
    "print('''To hit the target at %3.0f meters away, with a launch angle of %4.1f degrees, \n",
    "the initial speed needs to be %4.2f m/s ''' % (L, theta, v0))\n",
    "print(v0)"
   ]
  },
  {
   "cell_type": "markdown",
   "id": "642e2ada",
   "metadata": {},
   "source": [
    "##### Let's now encapsulate this calculation in a function"
   ]
  },
  {
   "cell_type": "code",
   "execution_count": null,
   "id": "15c726e2",
   "metadata": {},
   "outputs": [],
   "source": [
    "# A function that calculates the speed needed for a given set of values of the target distance (in m) \n",
    "# and launch angle (in degrees)\n",
    "def launch_speed( L, theta ): # the function has input arguments\n",
    "    g = 9.81 # the acceleration in m/s^2\n",
    "    theta_rad = math.radians(theta) # converting the angle from degrees to radians \n",
    "    v0 = math.sqrt( L*g / (math.sin(2*theta_rad) ) ) # calculate the speed\n",
    "    return v0 # return the calculated value\n",
    "\n",
    "\n",
    "# compute\n",
    "\n",
    "yard = 0.9144 # in meters ! A variable with assigned value\n",
    "target_distance1 = 100*yard # distance  \n",
    "launch_angle = 45 # launch angle set by user. A variable assigned with a value\n",
    "\n",
    "v1 = launch_speed(target_distance1, launch_angle) # this is referred to as call of the function\n",
    "# the returned value of the function speed is *assigned* to the variable speed_value\n",
    "\n",
    "target_distance2 = 57*yard\n",
    "v2 = launch_speed(target_distance2, launch_angle)\n",
    "\n",
    "# Print the result to the screen\n",
    "print('''To hit the target at %3.0f meters away, with a launch angle of %4.1f degrees, \n",
    "the initial speed needs to be %4.2f m/s ''' % (target_distance1, launch_angle, v1))\n",
    "print('''To hit the target at %3.0f meters away, with a launch angle of %4.1f degrees, \n",
    "the initial speed needs to be %4.2f m/s ''' % (target_distance2, launch_angle, v2))\n",
    "\n"
   ]
  },
  {
   "cell_type": "markdown",
   "id": "f893fcf4",
   "metadata": {},
   "source": [
    "#### and as a final modification of this, let's save this function in its own module"
   ]
  },
  {
   "cell_type": "code",
   "execution_count": null,
   "id": "d764db8b",
   "metadata": {},
   "outputs": [],
   "source": [
    "import kinematics as k\n",
    "\n",
    "speed = k.launch_speed(target_distance1, launch_angle) \n",
    "print('''To hit the target at %3.1f meters away, with a launch angle of %4.1f degrees, \n",
    "the initial speed needs to be %4.2f m/s ''' % (target_distance1, launch_angle, speed))\n"
   ]
  },
  {
   "cell_type": "markdown",
   "id": "4ffc4200",
   "metadata": {},
   "source": [
    "## Dissecting the example: key elements from the example (not necessarily in the order of appearance)\n",
    "\n",
    "- variables\n",
    "    * Variables in Python are symbolic names that represent values in computer memory. They act as containers, allowing programmers to store and manipulate data. By assigning a value to a variable, you give it a meaningful name, making it easier to refer to and work with that data throughout your program.\n",
    "\n",
    "- operation\n",
    "    * Operations in programming refer to actions or calculations performed on data. Think of them as the tasks or manipulations you want your program to carry out. For instance, adding two numbers together, comparing values, or changing the format of text are all examples of operations. Programming languages provide various types of operations, like mathematical, logical, and string operations, to process and transform data within a program.\n",
    "\n",
    "- assigments\n",
    "    * Assignments in Python involve associating a variable name with a value or an expression. It's the process of binding a name to an object in memory. This enables programmers to store, update, and manipulate data effectively. Assignments establish a relationship between a variable name and the data it represents, providing a way to access and manipulate data throughout the program's execution.\n",
    "\n",
    "- functions\n",
    "    * Functions in Python are reusable blocks of code designed to perform specific tasks. They encapsulate a sequence of instructions, allowing programmers to execute the same set of actions multiple times without rewriting the code. Functions can accept input (arguments), process it, and often return an output, providing modularity and reusability to programs.\n",
    "\n",
    "- modules \n",
    "    * Modules in programming are like toolkits that contain sets of pre-built code and functionalities. They help organize code by grouping related functions, classes, and variables together. Modules can be imported into your program, allowing you to reuse code without rewriting it. Think of modules as libraries of code that extend the capabilities of your program. They often serve specialized purposes, such as handling math operations (like the math module) or file operations (like the os module).\n"
   ]
  },
  {
   "cell_type": "markdown",
   "id": "0164e704",
   "metadata": {},
   "source": [
    "## Python basics (Outline)"
   ]
  },
  {
   "cell_type": "markdown",
   "id": "55f3096a",
   "metadata": {},
   "source": [
    "- Arithmetic\n",
    "- Variables and data type\n",
    "    * Numpy array\n",
    "- Functions\n",
    "- Modules"
   ]
  },
  {
   "cell_type": "markdown",
   "id": "b4c1588f",
   "metadata": {},
   "source": [
    "# Arithmetic"
   ]
  },
  {
   "cell_type": "code",
   "execution_count": null,
   "id": "ce1e06ab",
   "metadata": {},
   "outputs": [],
   "source": [
    "2+2 # addition"
   ]
  },
  {
   "cell_type": "code",
   "execution_count": null,
   "id": "0a3d788d",
   "metadata": {},
   "outputs": [],
   "source": [
    "2-2 # subtraction"
   ]
  },
  {
   "cell_type": "code",
   "execution_count": null,
   "id": "d33b1b64",
   "metadata": {},
   "outputs": [],
   "source": [
    "2*2 # multiplication"
   ]
  },
  {
   "cell_type": "code",
   "execution_count": null,
   "id": "96816ffb",
   "metadata": {},
   "outputs": [],
   "source": [
    "2/3 # division . Beware -- this returns 0 in some languages, incuding Python 2"
   ]
  },
  {
   "cell_type": "code",
   "execution_count": null,
   "id": "534f813b",
   "metadata": {},
   "outputs": [],
   "source": [
    "2%3  # modulus"
   ]
  },
  {
   "cell_type": "code",
   "execution_count": null,
   "id": "e8130d38",
   "metadata": {},
   "outputs": [],
   "source": [
    "(7)//2  # floor division"
   ]
  },
  {
   "cell_type": "code",
   "execution_count": null,
   "id": "938ab4e8",
   "metadata": {},
   "outputs": [],
   "source": [
    "10**2 # exponent"
   ]
  },
  {
   "cell_type": "code",
   "execution_count": null,
   "id": "f8d5b252",
   "metadata": {},
   "outputs": [],
   "source": [
    "10*2 # multiplication"
   ]
  },
  {
   "cell_type": "markdown",
   "id": "af855b9e",
   "metadata": {},
   "source": [
    "### Mathematical functions \n",
    "These functions can be found in modules such as math and numpy\n",
    "\n",
    "**math** https://docs.python.org/3/library/math.html\n",
    "\n",
    "**numpy** https://numpy.org/doc/stable/reference/routines.math.html\n"
   ]
  },
  {
   "cell_type": "code",
   "execution_count": null,
   "id": "bdd33a42",
   "metadata": {},
   "outputs": [],
   "source": [
    "import math\n",
    "math.cos(3.14/4) # cos(pi/4)"
   ]
  },
  {
   "cell_type": "code",
   "execution_count": null,
   "id": "c21b89fb",
   "metadata": {},
   "outputs": [],
   "source": [
    "# How about numpy?\n",
    "\n",
    "import numpy as np\n",
    "\n",
    "np.cos(np.pi/4)"
   ]
  },
  {
   "cell_type": "code",
   "execution_count": null,
   "id": "532f97ce",
   "metadata": {},
   "outputs": [],
   "source": [
    "print( math.sqrt(81), np.sqrt(81))  # square root"
   ]
  },
  {
   "cell_type": "code",
   "execution_count": null,
   "id": "3e4e4493",
   "metadata": {},
   "outputs": [],
   "source": [
    "print( math.log(81), np.log(81))  # logarithm"
   ]
  },
  {
   "cell_type": "code",
   "execution_count": null,
   "id": "e2893d9e",
   "metadata": {},
   "outputs": [],
   "source": [
    "print( math.exp(-10), np.exp(-10)) # exponential"
   ]
  },
  {
   "cell_type": "code",
   "execution_count": null,
   "id": "a837c4a6",
   "metadata": {},
   "outputs": [],
   "source": [
    "print(math.factorial(5), np.factorial(5))"
   ]
  },
  {
   "cell_type": "code",
   "execution_count": null,
   "id": "47de879a",
   "metadata": {},
   "outputs": [],
   "source": [
    "import numpy as np\n",
    "from scipy.special import factorial\n",
    "\n",
    "n = 5\n",
    "result = factorial(n)\n",
    "\n",
    "print(math.factorial(5), result)\n"
   ]
  },
  {
   "cell_type": "code",
   "execution_count": null,
   "id": "4c632398",
   "metadata": {},
   "outputs": [],
   "source": [
    "print( math.degrees(3.14), np.rad2deg(3.14)) # convert radian to degree"
   ]
  },
  {
   "cell_type": "code",
   "execution_count": null,
   "id": "50acf90a",
   "metadata": {},
   "outputs": [],
   "source": [
    "print( math.radians(90), np.deg2rad(90)) # convert radian to degree"
   ]
  },
  {
   "cell_type": "code",
   "execution_count": null,
   "id": "9037420e",
   "metadata": {},
   "outputs": [],
   "source": [
    "# what happens if you take the sqrt of a negative number?\n",
    "print(math.sqrt(-9))"
   ]
  },
  {
   "cell_type": "code",
   "execution_count": null,
   "id": "1abca00e",
   "metadata": {},
   "outputs": [],
   "source": [
    "# what happens if you take the sqrt of a negative number?\n",
    "print(np.sqrt(-9))"
   ]
  },
  {
   "cell_type": "code",
   "execution_count": null,
   "id": "dd5dfbeb",
   "metadata": {},
   "outputs": [],
   "source": [
    "import cmath\n",
    "print(cmath.sqrt(-9))"
   ]
  },
  {
   "cell_type": "markdown",
   "id": "f973e944",
   "metadata": {},
   "source": [
    "**cmath** module provides access to mathematical functions for complex numbers.\n",
    "https://docs.python.org/3/library/cmath.html"
   ]
  },
  {
   "cell_type": "markdown",
   "id": "7ab7d3fe",
   "metadata": {},
   "source": [
    "We won't have time to go through all these functions under math and numpy modules. You should screen those linked pages to develop a sense what is available. In practice, when some function is needed, do a quick google search to see if there are already available. Overtime, you will just memorize many of them through practice."
   ]
  },
  {
   "cell_type": "markdown",
   "id": "f4c2d258",
   "metadata": {},
   "source": [
    "### Association rules, order of operations\n",
    "\n",
    "Python follows the standard \"PEMDAS\" order of evaluating operators:\n",
    "1. Parentheses\n",
    "1. Exponentiation\n",
    "1. Multiplication/division (equal precedence, evaluate from left to right)\n",
    "1. Addition/subtraction (equal precedence, evaluate from left to right)\n",
    "\n",
    "The full table (in the reverse order, i.e. from last to first) is listed here: https://docs.python.org/3/reference/expressions.html#operator-precedence\n",
    "\n",
    "Here are some examples. The general rule -- if in doubt, add parentheses ! \n"
   ]
  },
  {
   "cell_type": "code",
   "execution_count": null,
   "id": "1bd07d47",
   "metadata": {},
   "outputs": [],
   "source": [
    "(2+2)*4"
   ]
  },
  {
   "cell_type": "code",
   "execution_count": null,
   "id": "eb2be29f",
   "metadata": {},
   "outputs": [],
   "source": [
    "2+2*4"
   ]
  },
  {
   "cell_type": "code",
   "execution_count": null,
   "id": "27f28b7b",
   "metadata": {},
   "outputs": [],
   "source": [
    "2+2/4"
   ]
  },
  {
   "cell_type": "code",
   "execution_count": null,
   "id": "b0ff658f",
   "metadata": {},
   "outputs": [],
   "source": [
    "2+4/2*2"
   ]
  },
  {
   "cell_type": "code",
   "execution_count": null,
   "id": "55b527a8",
   "metadata": {},
   "outputs": [],
   "source": [
    "2+4/(2*2)"
   ]
  },
  {
   "cell_type": "code",
   "execution_count": null,
   "id": "07f545bf",
   "metadata": {},
   "outputs": [],
   "source": [
    "np.log(1)+1"
   ]
  },
  {
   "cell_type": "markdown",
   "id": "f1f57f03",
   "metadata": {},
   "source": [
    "Here is a tricky one -- how would this be evaluated ? "
   ]
  },
  {
   "cell_type": "code",
   "execution_count": null,
   "id": "f9df54af",
   "metadata": {},
   "outputs": [],
   "source": [
    "144.**1/2   # is this equal to sqrt(144) ?"
   ]
  },
  {
   "cell_type": "markdown",
   "id": "1e7637df",
   "metadata": {},
   "source": [
    "Try again:"
   ]
  },
  {
   "cell_type": "code",
   "execution_count": null,
   "id": "1c71fd45",
   "metadata": {},
   "outputs": [],
   "source": [
    "print('sqrt(144)=',144.**(1./2))  # this is OK\n",
    "print('sqrt(144)=',144.**0.5)     # this is even better -- seems like a small saving of compute time, but it adds up"
   ]
  },
  {
   "cell_type": "markdown",
   "id": "7d044d3c",
   "metadata": {},
   "source": [
    "**Summary:** \n",
    "- multiplication/division takes precedence over addition/subtraction \n",
    "- operations inside a set parenthesis takes precedence over operations outside it"
   ]
  },
  {
   "cell_type": "markdown",
   "id": "4ca247f5",
   "metadata": {},
   "source": [
    "# Variables and assignment\n",
    "- concept of assignment\n",
    "- shorthands\n",
    "- types of data/variables in python\n",
    "\n",
    "\n",
    "## Example - calculate the value of a polynomial\n",
    "we have a polynomial \n",
    "$ y = ax^3 + bx^2 + cx + d$\n",
    "\n",
    "- for a given set of coefficients (a,b,c,d), we want to know the value of the polynomial at x "
   ]
  },
  {
   "cell_type": "code",
   "execution_count": null,
   "id": "873d8f41",
   "metadata": {},
   "outputs": [],
   "source": [
    "a = 10\n",
    "b = 5\n",
    "c = -2\n",
    "d = 4\n",
    "\n",
    "x = 3.0\n",
    "\n",
    "y = a*x**3 + b*x**2 + c*x + d\n",
    "\n",
    "print('Value of y : %4.2f' % y)\n",
    "\n",
    "\n",
    "# Vary these values and see how the printout change\n",
    "# Changes for variable assigned values (first five lines) are propogated to the calculated value of y\n"
   ]
  },
  {
   "cell_type": "code",
   "execution_count": null,
   "id": "6c024e2a",
   "metadata": {},
   "outputs": [],
   "source": [
    "d = 222"
   ]
  },
  {
   "cell_type": "code",
   "execution_count": null,
   "id": "29f6d469",
   "metadata": {},
   "outputs": [],
   "source": [
    "y = a*x**3 + b*x**2 + c*x + d\n",
    "\n",
    "d = 10\n",
    "\n",
    "print('Value of y : %4.2f' % y)\n",
    "\n",
    "\n",
    "# the line d = 10 doesn't affect the value of y, \n",
    "# because the value of 10 was assigned to d after the value of d was already used in the calculation of y\n"
   ]
  },
  {
   "cell_type": "markdown",
   "id": "b7e2d759",
   "metadata": {},
   "source": [
    "## Shorthands"
   ]
  },
  {
   "cell_type": "code",
   "execution_count": null,
   "id": "4249cb08",
   "metadata": {},
   "outputs": [],
   "source": [
    "a = 10 \n",
    "a = a + 10\n",
    "print('Value of a: %4.0f ' % a)"
   ]
  },
  {
   "cell_type": "code",
   "execution_count": null,
   "id": "2c4f6317",
   "metadata": {},
   "outputs": [],
   "source": [
    "aReallyLongNameThatIDoNotCareToType = 10 \n",
    "aReallyLongNameThatIDoNotCareToType += 10\n",
    "print('Value of a: %4.0f ' % aReallyLongNameThatIDoNotCareToType)"
   ]
  },
  {
   "cell_type": "code",
   "execution_count": null,
   "id": "4a01b0a1",
   "metadata": {},
   "outputs": [],
   "source": [
    "a = 10 \n",
    "a = a - 10\n",
    "print('Value of a: %4.0f ' % a)"
   ]
  },
  {
   "cell_type": "code",
   "execution_count": null,
   "id": "d2448c4b",
   "metadata": {},
   "outputs": [],
   "source": [
    "a = 10 \n",
    "a -= 10\n",
    "print('Value of a: %4.0f ' % a)"
   ]
  },
  {
   "cell_type": "code",
   "execution_count": null,
   "id": "d0edc664",
   "metadata": {},
   "outputs": [],
   "source": [
    "# Guess what does *= do?\n",
    "\n",
    "a = 10 \n",
    "a *= 10\n",
    "print('Value of a: %4.0f ' % a)"
   ]
  },
  {
   "cell_type": "code",
   "execution_count": null,
   "id": "46fa822e",
   "metadata": {},
   "outputs": [],
   "source": [
    "# How about /=\n",
    "a = 10 \n",
    "a /= 10\n",
    "print('Value of a: %4.0f ' % a)"
   ]
  },
  {
   "cell_type": "code",
   "execution_count": null,
   "id": "b00b7f1f",
   "metadata": {},
   "outputs": [],
   "source": [
    "i=1\n",
    "i++"
   ]
  },
  {
   "cell_type": "markdown",
   "id": "1dd90ef1",
   "metadata": {},
   "source": [
    "## Types of variables (data)\n",
    "\n",
    "so far, our examples only include variables assigned with numerical values. But they don't have to always be assigned a numerical value. "
   ]
  },
  {
   "cell_type": "markdown",
   "id": "ccd441ff",
   "metadata": {},
   "source": [
    "**Notes on data types**\n",
    "\n",
    "In Python, there are several common types of variables that you'll frequently encounter. Here are some of the most common ones:\n",
    "\n",
    "- Integer (int): Represents whole numbers, both positive and negative. For example: age = 25.\n",
    "\n",
    "- Floating-Point (float): Represents decimal numbers. For example: pi = 3.14.\n",
    "\n",
    "- String (str): Represents sequences of characters enclosed in single or double quotes. For example: name = \"Alice\".\n",
    "\n",
    "- Boolean (bool): Represents either True or False values. Used for logical operations and comparisons. For example: is_student = True.\n",
    "\n",
    "- List: Represents an ordered collection of items, which can be of different types. For example: grades = [85, 92, 78].\n",
    "\n",
    "- Tuple: Similar to lists, but they are immutable (cannot be changed after creation). For example: coordinates = (3, 4).\n",
    "\n",
    "- Dictionary: Represents key-value pairs, where each value is associated with a unique key. For example: student = {\"name\": \"Bob\", \"age\": 20}.\n",
    "\n",
    "- Set: Represents an unordered collection of unique items. For example: colors = {\"red\", \"blue\", \"green\"}.\n",
    "\n",
    "- None: Represents the absence of a value or a null value. It's often used to indicate that a variable doesn't have a value yet. For example: result = None.\n",
    "\n",
    "These variable types are the building blocks of Python programs and allow you to work with various types of data in different ways."
   ]
  },
  {
   "cell_type": "code",
   "execution_count": null,
   "id": "eb1e05ef",
   "metadata": {},
   "outputs": [],
   "source": [
    "x = 1\n",
    "print(x, type(x))"
   ]
  },
  {
   "cell_type": "code",
   "execution_count": null,
   "id": "99ddc0c2",
   "metadata": {},
   "outputs": [],
   "source": [
    "x = 1.0 \n",
    "print(x, type(x))"
   ]
  },
  {
   "cell_type": "code",
   "execution_count": null,
   "id": "ee8051e6",
   "metadata": {},
   "outputs": [],
   "source": [
    "x = \"1.0000\"\n",
    "print(x, type(x))"
   ]
  },
  {
   "cell_type": "code",
   "execution_count": null,
   "id": "de7450f5",
   "metadata": {},
   "outputs": [],
   "source": [
    "x = 'This is an example'\n",
    "print(x, type(x))"
   ]
  },
  {
   "cell_type": "code",
   "execution_count": null,
   "id": "c1c4a8dc",
   "metadata": {},
   "outputs": [],
   "source": [
    "x = True\n",
    "print(x, type(x))"
   ]
  },
  {
   "cell_type": "code",
   "execution_count": null,
   "id": "cc4171e3",
   "metadata": {},
   "outputs": [],
   "source": [
    "x = False\n",
    "print(x, type(x))"
   ]
  },
  {
   "cell_type": "code",
   "execution_count": null,
   "id": "567cea94",
   "metadata": {},
   "outputs": [],
   "source": [
    "x = [1, 2, 3, 4]\n",
    "print(x, type(x))"
   ]
  },
  {
   "cell_type": "code",
   "execution_count": null,
   "id": "5f99b576",
   "metadata": {},
   "outputs": [],
   "source": [
    "x = [\"Berkeley\", \"Stanford\", \"Princeton\", \"Harvard\"]\n",
    "print(x, type(x))"
   ]
  },
  {
   "cell_type": "code",
   "execution_count": null,
   "id": "2c059029",
   "metadata": {},
   "outputs": [],
   "source": [
    "print(x[2], type(x[2]))"
   ]
  },
  {
   "cell_type": "code",
   "execution_count": null,
   "id": "79e0b25b",
   "metadata": {},
   "outputs": [],
   "source": [
    "print(x[2][4], type(x[2][0]))"
   ]
  },
  {
   "cell_type": "code",
   "execution_count": null,
   "id": "1b6c5d17",
   "metadata": {},
   "outputs": [],
   "source": [
    "x[2] = 'MIT'\n",
    "print(x)\n",
    "x.append('Yale')\n",
    "print(x)"
   ]
  },
  {
   "cell_type": "markdown",
   "id": "42b28e0f",
   "metadata": {},
   "source": [
    "**footnote: indexing** In Python, indexing refers to the process of accessing individual elements within a data structure, such as lists, tuples, and strings. Each element in these data structures has a unique index that specifies its position. Indexing is zero-based in Python, which means the first element is at index 0, the second at index 1, and so on."
   ]
  },
  {
   "cell_type": "code",
   "execution_count": null,
   "id": "b86867b6",
   "metadata": {},
   "outputs": [],
   "source": [
    "x = (1, 2, 3, 4)\n",
    "print(x, type(x))"
   ]
  },
  {
   "cell_type": "code",
   "execution_count": null,
   "id": "33a18c6f",
   "metadata": {},
   "outputs": [],
   "source": [
    "x = {1, 2, 3, 4}\n",
    "print(x, type(x))"
   ]
  },
  {
   "cell_type": "code",
   "execution_count": null,
   "id": "36de5265",
   "metadata": {},
   "outputs": [],
   "source": [
    "x = {1:\"Green\", 2:\"Red\", 3:\"Blue\"}\n",
    "print(x, type(x))"
   ]
  },
  {
   "cell_type": "code",
   "execution_count": null,
   "id": "9aee95c6",
   "metadata": {},
   "outputs": [],
   "source": [
    "print(x[1], type(x[1]))"
   ]
  },
  {
   "cell_type": "code",
   "execution_count": null,
   "id": "2dc4b86f",
   "metadata": {},
   "outputs": [],
   "source": [
    "x = {\"Green\":1, \"Red\":2, \"Blue\":3}\n",
    "print(x, type(x))"
   ]
  },
  {
   "cell_type": "code",
   "execution_count": null,
   "id": "0c3070e1",
   "metadata": {},
   "outputs": [],
   "source": [
    "print(x[\"Green\"], type(x[\"Green\"]))\n",
    "x[\"Magenta\"] = 3.14\n",
    "x[\"Blue\"] = 17\n",
    "print(x)"
   ]
  },
  {
   "cell_type": "markdown",
   "id": "13637960",
   "metadata": {},
   "source": [
    "### Conversions between Integer and Floating point types\n",
    "A few gotchas. "
   ]
  },
  {
   "cell_type": "code",
   "execution_count": null,
   "id": "a78a10d7",
   "metadata": {},
   "outputs": [],
   "source": [
    "x = 2\n",
    "type(x)   # what type is this variable ?"
   ]
  },
  {
   "cell_type": "code",
   "execution_count": null,
   "id": "65ee0a8b",
   "metadata": {},
   "outputs": [],
   "source": [
    "y = 2.\n",
    "type(y)    # how about now ?"
   ]
  },
  {
   "cell_type": "code",
   "execution_count": null,
   "id": "d6f1e513",
   "metadata": {},
   "outputs": [],
   "source": [
    "1/2  # Used to produce 0 in Python 2 ! "
   ]
  },
  {
   "cell_type": "code",
   "execution_count": null,
   "id": "4dcb544b",
   "metadata": {},
   "outputs": [],
   "source": [
    "1//2 # this is how most computer languages would evaluate the expression above !"
   ]
  },
  {
   "cell_type": "markdown",
   "id": "ff8d1247",
   "metadata": {},
   "source": [
    "But in order to make your code portable, and learn good programming practices, I would encourage you to explicitly type float constants if you intend the division to use floating-point precision. Easiest way to do this is to add a decimal point to the constant:"
   ]
  },
  {
   "cell_type": "code",
   "execution_count": null,
   "id": "b64ca569",
   "metadata": {},
   "outputs": [],
   "source": [
    "OneHalf = 1./2\n",
    "print(OneHalf)"
   ]
  },
  {
   "cell_type": "markdown",
   "id": "0df6a2bf",
   "metadata": {},
   "source": [
    "## Numpy arrays\n",
    "Numpy arrays will be the most used data structure throughout this course and in your future Python projects.\n",
    "We will have more detailed introduction to it later. Here I am giving your some teasers. \n"
   ]
  },
  {
   "cell_type": "code",
   "execution_count": 2,
   "id": "97ddfe60",
   "metadata": {},
   "outputs": [],
   "source": [
    "import numpy as np # import the numpy module as np\n",
    "#np is an alias for numpy module here\n",
    "# you can name it anything you want, but we always go with \n",
    "#the most common one so that every one reading your code could understand it "
   ]
  },
  {
   "cell_type": "code",
   "execution_count": 5,
   "id": "1446b680",
   "metadata": {},
   "outputs": [
    {
     "name": "stdout",
     "output_type": "stream",
     "text": [
      "[1 2 3] <class 'numpy.ndarray'>\n"
     ]
    }
   ],
   "source": [
    "x = np.array((1,2,3))\n",
    "print(x, type(x))"
   ]
  },
  {
   "cell_type": "code",
   "execution_count": 12,
   "id": "5938b537",
   "metadata": {},
   "outputs": [
    {
     "name": "stdout",
     "output_type": "stream",
     "text": [
      "[1. 2. 3.] <class 'numpy.ndarray'>\n"
     ]
    }
   ],
   "source": [
    "x = np.array([1.,2,3])\n",
    "print(x, type(x))"
   ]
  },
  {
   "cell_type": "code",
   "execution_count": 11,
   "id": "ee8dad85",
   "metadata": {},
   "outputs": [
    {
     "name": "stdout",
     "output_type": "stream",
     "text": [
      "3 <class 'numpy.str_'>\n"
     ]
    }
   ],
   "source": [
    "print(x[2], type(x[2]))"
   ]
  },
  {
   "cell_type": "code",
   "execution_count": 13,
   "id": "9921169e",
   "metadata": {},
   "outputs": [
    {
     "name": "stdout",
     "output_type": "stream",
     "text": [
      "[[    1     2     3]\n",
      " [    2    90 14312]] <class 'numpy.ndarray'>\n",
      "2 (2, 3) 6\n"
     ]
    }
   ],
   "source": [
    "x = np.array([[1,2,3],[2,90,14312]])\n",
    "print(x, type(x))\n",
    "print(x.ndim, x.shape, x.size)"
   ]
  },
  {
   "cell_type": "code",
   "execution_count": 14,
   "id": "814e2ca8",
   "metadata": {},
   "outputs": [
    {
     "name": "stdout",
     "output_type": "stream",
     "text": [
      "14312\n"
     ]
    }
   ],
   "source": [
    "print(x[1,2])"
   ]
  },
  {
   "cell_type": "code",
   "execution_count": 16,
   "id": "9c970dcb",
   "metadata": {},
   "outputs": [
    {
     "name": "stdout",
     "output_type": "stream",
     "text": [
      "[[    1     2    30]\n",
      " [    2    90 14312]]\n"
     ]
    }
   ],
   "source": [
    "x = np.array([[1,2,3],[2,90,14312]])\n",
    "y = np.array([[1,1,10],[1, 1, 1]])\n",
    "z = x * y \n",
    "print(z)\n",
    "# Numpy operation is element-wise, meaning that the operator \n",
    "# acts on the elements from the two arrays that have the same position"
   ]
  },
  {
   "cell_type": "code",
   "execution_count": 17,
   "id": "c303f803",
   "metadata": {},
   "outputs": [
    {
     "name": "stdout",
     "output_type": "stream",
     "text": [
      "[[1.54030231 0.58385316 2.17228516]\n",
      " [0.58385316 0.55192638 1.45704191]]\n"
     ]
    }
   ],
   "source": [
    "# taking advantage of the built-in functions in numpy arrray\n",
    "print( np.cos(x)+np.sqrt(y) )"
   ]
  },
  {
   "cell_type": "markdown",
   "id": "5ea7f841",
   "metadata": {},
   "source": [
    "# Functions\n",
    "\n",
    "A function is a self-contained named piece of code that can be used by other parts of the code. Functions usually take arguments (parameters, variables), and return a value. Trig functions are a standard example. Most languages allow you to define your own functions. Functions can be group into a library, usually according to functionality they provide (e.g. math, complex numbers, linear algebra, plotting, etc).\n",
    "\n",
    "In a way, Python functions can be viewed mathematical functions:\n",
    "\n",
    "$f: \\mathbb{X} \\rightarrow \\mathbb{Y}$\n",
    "\n",
    "where $\\mathbb{X}$ and $\\mathbb{Y}$ can be whichever space of your choice.\n",
    "\n",
    "Python has 3 classes of functions:\n",
    "-  built-in functions, e.g. print()\n",
    "-  functions from packages/modules, e.g. sin() from the math package\n",
    "-  user-defined functions.\n",
    "\n",
    "**Example 1: absolute value**\n",
    "\n",
    "$\\text{abs}: \\mathbb{R} \\rightarrow \\mathbb{R}^+_0$\n",
    "\n",
    "Mathematical implementation:\n",
    "\n",
    "$x = \\sqrt{x^2}$"
   ]
  },
  {
   "cell_type": "code",
   "execution_count": 18,
   "id": "7ee6f724",
   "metadata": {},
   "outputs": [
    {
     "name": "stdout",
     "output_type": "stream",
     "text": [
      "3\n",
      "3.0\n"
     ]
    }
   ],
   "source": [
    "x = -3\n",
    "r = abs(x)   # Call the abs() function \n",
    "print(r)     # Call the print() function!\n",
    "\n",
    "import numpy as np\n",
    "z = np.sqrt(x**2)   # sqrt is not a built-in function, has to be loaded\n",
    "print(z)"
   ]
  },
  {
   "cell_type": "markdown",
   "id": "e314aa6d",
   "metadata": {},
   "source": [
    "**Example 2: type casting**\n",
    "\n",
    "In python one can convert variables from one type to the other using dedicated predefined functions. One example is the <font color=blue>float</font> function:"
   ]
  },
  {
   "cell_type": "code",
   "execution_count": 21,
   "id": "ed2315bd",
   "metadata": {},
   "outputs": [
    {
     "name": "stdout",
     "output_type": "stream",
     "text": [
      "1.0\n",
      "1.0\n",
      "2\n",
      "2.0\n",
      "4.e12\n",
      "4000000000000.0\n",
      "-3\n"
     ]
    }
   ],
   "source": [
    "a = 1.\n",
    "b = float(a) # casting a float to a float. Actually quite useless\n",
    "c = 2\n",
    "d = float(c) # casting an integer to a float\n",
    "e = \"4.e12\"\n",
    "f = float(e) # casting a string to a float\n",
    "print(a)\n",
    "print(b)\n",
    "print(c)\n",
    "print(d)\n",
    "print(e)\n",
    "print(f)\n",
    "\n",
    "\n",
    "pi = -3.1415926\n",
    "print(int(pi))"
   ]
  },
  {
   "cell_type": "markdown",
   "id": "3e295b06",
   "metadata": {},
   "source": [
    "### User defined functions\n",
    "\n",
    "If the function we need doesn't exist, we can create one, e.g.:"
   ]
  },
  {
   "cell_type": "code",
   "execution_count": 33,
   "id": "39aba3c4",
   "metadata": {},
   "outputs": [],
   "source": [
    "import math as m\n",
    "\n",
    "# A function that calculates the speed needed for a given set of values of the target distance and launch angle \n",
    "def speed( L, theta ): # the function has input arguments\n",
    "    g = 9.81 # the acceleration; \n",
    "    theta_rad = math.radians(theta) # converting the angle from degrees to radians \n",
    "    v = math.sqrt( L*g / (math.sin(2*theta_rad))) # calculate the speed\n",
    "    return v # return the calculated value\n",
    "\n",
    "v = 5"
   ]
  },
  {
   "cell_type": "code",
   "execution_count": 34,
   "id": "15bc1ba7",
   "metadata": {},
   "outputs": [
    {
     "name": "stdout",
     "output_type": "stream",
     "text": [
      "5 9.904544411531507\n",
      "23.7987523638325\n"
     ]
    }
   ],
   "source": [
    "v1 = speed(10,45)\n",
    "print(v,v1)\n",
    "\n",
    "v2 = speed(50,30)\n",
    "print(v2)"
   ]
  },
  {
   "cell_type": "markdown",
   "id": "8ab204b2",
   "metadata": {},
   "source": [
    "### What are the essential elements of a function?\n",
    "\n",
    "- Function Definition: **def speed(L, theta):**\n",
    "    * The *def* keyword is used to define a function.\n",
    "    * *speed* is the name of the function.\n",
    "    * *(R, theta)* are the parameters (input values) the function accepts. They act as placeholders for values that will be passed when the function is called.\n",
    "\n",
    "- Function Body:\n",
    "    * The **indented code** block beneath the function definition is the function body. It contains the instructions executed when the function is called.\n",
    "\n",
    "- Variable Declarations:\n",
    "    * *g = 9.81*\n",
    "    * *theta_rad = math.radians(theta)*\n",
    "    * These lines declare and assign values to variables used within the function.\n",
    "    \n",
    "- Calculations: *v = math.sqrt( L*g / (math.sin(2*theta_rad)))*\n",
    "    * This line calculates the speed using the provided formula.\n",
    "    * The variables R, g, and theta_rad are used in the calculation.\n",
    "    * Return Statement:\n",
    "\n",
    "- Returning keyword/argument\n",
    "    * The return keyword is used to send a value back to the caller of the function.\n",
    "    * In this case, the calculated speed v is returned."
   ]
  },
  {
   "cell_type": "code",
   "execution_count": 28,
   "id": "787701cf",
   "metadata": {},
   "outputs": [],
   "source": [
    "def sqrt(x):\n",
    "    return -x"
   ]
  },
  {
   "cell_type": "code",
   "execution_count": 29,
   "id": "fc8ef99d",
   "metadata": {},
   "outputs": [
    {
     "name": "stdout",
     "output_type": "stream",
     "text": [
      "5\n"
     ]
    }
   ],
   "source": [
    "print(sqrt(-5))"
   ]
  },
  {
   "cell_type": "code",
   "execution_count": 37,
   "id": "126a7da4",
   "metadata": {},
   "outputs": [],
   "source": [
    "def polynomial(a,b,c,d,x):\n",
    "    return a*x**3 + b*x**2 + c*x + d \n",
    "# note that the calcuation is performed directly\n",
    "#at the line of returning argument"
   ]
  },
  {
   "cell_type": "code",
   "execution_count": 39,
   "id": "97e8dd58",
   "metadata": {},
   "outputs": [
    {
     "name": "stdout",
     "output_type": "stream",
     "text": [
      "121.5\n"
     ]
    }
   ],
   "source": [
    "print(polynomial(a=1, c=2, b=3, x=4, d=1.5))"
   ]
  },
  {
   "cell_type": "code",
   "execution_count": 40,
   "id": "e09cbcbf",
   "metadata": {},
   "outputs": [
    {
     "name": "stdout",
     "output_type": "stream",
     "text": [
      "16.375\n"
     ]
    }
   ],
   "source": [
    "c1, c2, c3, c4, c5 = 1, 2, 3, 4, 1.5 # assign values to multiple variables simultaneously\n",
    "print(polynomial(c1, c2, c3, c4, c5))"
   ]
  },
  {
   "cell_type": "markdown",
   "id": "1cef896c",
   "metadata": {},
   "source": [
    "**More than one returning arguments**"
   ]
  },
  {
   "cell_type": "code",
   "execution_count": 41,
   "id": "bddba706",
   "metadata": {},
   "outputs": [],
   "source": [
    "def speed( L, theta ): # the function has input arguments\n",
    "    g = 9.81 # the acceleration; \n",
    "    theta_rad = math.radians(theta) # converting the angle from degrees to radians \n",
    "    v = math.sqrt( L*g / (math.sin(2*theta_rad))) # calculate the speed\n",
    "    return v, v*math.cos(theta_rad) , v*math.sin(theta_rad)\n",
    "# Pay attention to the last line\n",
    "# I now have more than one returning arguments\n"
   ]
  },
  {
   "cell_type": "code",
   "execution_count": 43,
   "id": "d42fac1f",
   "metadata": {},
   "outputs": [
    {
     "name": "stdout",
     "output_type": "stream",
     "text": [
      "31.32091952673165 22.147234590350102 22.1472345903501\n"
     ]
    }
   ],
   "source": [
    "v, v_h, v_v = speed(100, 45)\n",
    "print(v, v_h, v_v)"
   ]
  },
  {
   "cell_type": "markdown",
   "id": "b1963317",
   "metadata": {},
   "source": [
    "**Using list to organize multiple variables**"
   ]
  },
  {
   "cell_type": "code",
   "execution_count": 44,
   "id": "cac8afb2",
   "metadata": {},
   "outputs": [],
   "source": [
    "def speed( L, theta ): # the function has input arguments\n",
    "    g = 9.81 # the acceleration; \n",
    "    theta_rad = math.radians(theta) # converting the angle from degrees to radians \n",
    "    v = math.sqrt( L*g / (math.sin(2*theta_rad))) # calculate the speed\n",
    "    return [v*math.cos(theta_rad) , v*math.sin(theta_rad)]\n",
    "# note that i now have a set of square brackets containing the three quantities\n",
    "# this makes the returning argument a list"
   ]
  },
  {
   "cell_type": "code",
   "execution_count": 45,
   "id": "150485f4",
   "metadata": {},
   "outputs": [
    {
     "name": "stdout",
     "output_type": "stream",
     "text": [
      "[53.886547486362495, 53.88654748636249]\n"
     ]
    }
   ],
   "source": [
    "velocity = speed(592,45)\n",
    "print(velocity)"
   ]
  },
  {
   "cell_type": "code",
   "execution_count": 46,
   "id": "fc439d25",
   "metadata": {},
   "outputs": [],
   "source": [
    "# I can of course use a list to organize multiple input arguments \n",
    "\n",
    "def speed( input_list ): # the function has input arguments\n",
    "    L = input_list[0]\n",
    "    theta = input_list[1]\n",
    "    g = 9.81 # the acceleration; \n",
    "    theta_rad = math.radians(theta) # converting the angle from degrees to radians \n",
    "    v = math.sqrt( L*g / (math.sin(2*theta_rad))) # calculate the speed\n",
    "    return [v, v*math.cos(theta_rad) , v*math.sin(theta_rad)]\n",
    "# note that i now have a set of square brackets containing the three quantities\n",
    "# this makes the returning argument a list\n"
   ]
  },
  {
   "cell_type": "code",
   "execution_count": 47,
   "id": "585580c8",
   "metadata": {},
   "outputs": [
    {
     "name": "stdout",
     "output_type": "stream",
     "text": [
      "[31.32091952673165, 22.147234590350102, 22.1472345903501]\n"
     ]
    }
   ],
   "source": [
    "input_list = [100,45]\n",
    "velocity = speed(input_list)\n",
    "print(velocity)"
   ]
  },
  {
   "cell_type": "markdown",
   "id": "5f53c856",
   "metadata": {},
   "source": [
    "A function can also take no input arguments and return no output. Such functions will generally have a side-effect (that needs to be documented), e.g. printing something:"
   ]
  },
  {
   "cell_type": "code",
   "execution_count": 48,
   "id": "80fc0d34",
   "metadata": {},
   "outputs": [],
   "source": [
    "def DoNothing():\n",
    "    \n",
    "    print('boo')\n",
    "    return"
   ]
  },
  {
   "cell_type": "code",
   "execution_count": 49,
   "id": "aa98c354",
   "metadata": {},
   "outputs": [
    {
     "name": "stdout",
     "output_type": "stream",
     "text": [
      "boo\n"
     ]
    }
   ],
   "source": [
    "DoNothing()"
   ]
  },
  {
   "cell_type": "markdown",
   "id": "0dc143fc",
   "metadata": {},
   "source": [
    "#### Exercise for you"
   ]
  },
  {
   "cell_type": "code",
   "execution_count": null,
   "id": "79fd1ed6",
   "metadata": {},
   "outputs": [],
   "source": [
    "# Rewrite this function so that the input is a single list\n",
    "def polynomial(a,b,c,d,x):\n",
    "    return a*x**3 + b*x**2 + c*x + d \n",
    "\n",
    "input_list = [1,2,3,4,2.2]\n",
    "print( polynomial(input_list))"
   ]
  },
  {
   "cell_type": "markdown",
   "id": "fcad4df5",
   "metadata": {},
   "source": [
    "# Modules\n",
    "\n",
    "A module is a collection of functions that are built for you. You can *import* a module and *call* its function, so that you do not have to write it from the scratch.\n"
   ]
  },
  {
   "cell_type": "code",
   "execution_count": 50,
   "id": "415a199a",
   "metadata": {},
   "outputs": [
    {
     "name": "stdout",
     "output_type": "stream",
     "text": [
      "9.0\n"
     ]
    }
   ],
   "source": [
    "def squared_root_calculation(x):\n",
    "    return x**(0.5)\n",
    "\n",
    "print( squared_root_calculation(81))"
   ]
  },
  {
   "cell_type": "code",
   "execution_count": 51,
   "id": "0dec4883",
   "metadata": {},
   "outputs": [
    {
     "name": "stdout",
     "output_type": "stream",
     "text": [
      "9.0\n"
     ]
    }
   ],
   "source": [
    "import numpy as np\n",
    "\n",
    "print(np.sqrt(81))"
   ]
  },
  {
   "cell_type": "code",
   "execution_count": 54,
   "id": "23eb23d7",
   "metadata": {},
   "outputs": [
    {
     "name": "stdout",
     "output_type": "stream",
     "text": [
      "[0.13850183 0.48275599 0.45861594 0.25691268 0.60827216 0.75407215\n",
      " 0.76118094 0.77072844 0.84909453 0.44577833 0.65671975 0.68790753\n",
      " 0.70603041 0.62384781 0.11116981 0.61610495 0.16634867 0.8275187\n",
      " 0.32174496 0.16540363 0.29880229 0.01211607 0.10407134 0.65046332\n",
      " 0.55045418 0.77188954 0.38574269 0.79395864 0.31668933 0.79366123\n",
      " 0.68721473 0.8441393  0.6745198  0.52044257 0.25128656 0.29989181\n",
      " 0.74678251 0.19790762 0.5782414  0.05829021 0.60890621 0.23875887\n",
      " 0.68698666 0.84996363 0.28625124 0.90819522 0.75856435 0.39622446\n",
      " 0.77998908 0.90299543 0.63428953 0.71329652 0.23774711 0.93088983\n",
      " 0.19357331 0.79764047 0.60738606 0.97503596 0.07258849 0.95853203\n",
      " 0.07894502 0.35879005 0.11024865 0.29771739 0.54624101 0.93780776\n",
      " 0.97036957 0.57356593 0.7421122  0.71557551 0.91363715 0.72547146\n",
      " 0.20374622 0.3213222  0.59956804 0.16689155 0.02493723 0.07664675\n",
      " 0.41428302 0.05266352 0.89971408 0.43003881 0.01565957 0.1930943\n",
      " 0.03029676 0.09195969 0.27937805 0.25124867 0.5515017  0.79088809\n",
      " 0.42856909 0.85903621 0.69670063 0.49829245 0.837708   0.89568356\n",
      " 0.07982816 0.40822152 0.8747448  0.75309823]\n"
     ]
    }
   ],
   "source": [
    "import numpy as np\n",
    "\n",
    "\n",
    "N = 100\n",
    "\n",
    "# Generate an array of N random numbers between 0 and 1\n",
    "\n",
    "random_numbers = np.random.rand(N)\n",
    "\n",
    "print(random_numbers)\n"
   ]
  },
  {
   "cell_type": "code",
   "execution_count": 55,
   "id": "b7326e3d",
   "metadata": {},
   "outputs": [
    {
     "data": {
      "text/plain": [
       "(array([12., 10., 10.,  6.,  7.,  7., 10., 17., 11., 10.]),\n",
       " array([0.01211607, 0.10840806, 0.20470004, 0.30099203, 0.39728402,\n",
       "        0.49357601, 0.589868  , 0.68615999, 0.78245198, 0.87874397,\n",
       "        0.97503596]),\n",
       " <BarContainer object of 10 artists>)"
      ]
     },
     "execution_count": 55,
     "metadata": {},
     "output_type": "execute_result"
    },
    {
     "data": {
      "image/png": "[encoded data removed]",
      "text/plain": [
       "<Figure size 640x480 with 1 Axes>"
      ]
     },
     "metadata": {},
     "output_type": "display_data"
    }
   ],
   "source": [
    "import matplotlib.pyplot as plt\n",
    "# matplotlib is a module\n",
    "# pyplot is a submodule of matplotlib\n",
    "\n",
    "plt.hist(random_numbers)\n",
    "# use the alias of the submodule pyplot to call a function of that submodule\n",
    "# this function is \"hist\", plotting the data points as a histogram\n",
    "# the function has an input argument, which is random_numbers, in this case, a numpy array"
   ]
  },
  {
   "cell_type": "code",
   "execution_count": 56,
   "id": "fb0fae1b",
   "metadata": {},
   "outputs": [
    {
     "data": {
      "text/plain": [
       "Text(0, 0.5, 'Number of entries')"
      ]
     },
     "execution_count": 56,
     "metadata": {},
     "output_type": "execute_result"
    },
    {
     "data": {
      "image/png": "[encoded data removed]",
      "text/plain": [
       "<Figure size 640x480 with 1 Axes>"
      ]
     },
     "metadata": {},
     "output_type": "display_data"
    }
   ],
   "source": [
    "plt.hist(random_numbers)\n",
    "plt.xlabel('random number')\n",
    "plt.ylabel('Number of entries')"
   ]
  },
  {
   "cell_type": "markdown",
   "id": "2eddd35d",
   "metadata": {},
   "source": [
    "## Some other modules"
   ]
  },
  {
   "cell_type": "code",
   "execution_count": 57,
   "id": "284f35fe",
   "metadata": {},
   "outputs": [
    {
     "name": "stdout",
     "output_type": "stream",
     "text": [
      "Python version: 3.10.13 (main, Sep 11 2023, 08:39:02) [Clang 14.0.6 ]\n"
     ]
    }
   ],
   "source": [
    "import sys\n",
    "# Get the Python version information\n",
    "print(\"Python version:\", sys.version)"
   ]
  },
  {
   "cell_type": "code",
   "execution_count": 59,
   "id": "e69f13ef",
   "metadata": {},
   "outputs": [
    {
     "name": "stdout",
     "output_type": "stream",
     "text": [
      "Current time: 1707174436.270976\n",
      "Current human-readable time: 2024-02-05 15:07:16\n",
      "Sleeping for 2 seconds...\n",
      "Awake now!\n",
      "Elapsed time: 2.002183198928833 seconds\n"
     ]
    }
   ],
   "source": [
    "import time\n",
    "\n",
    "# Get the current time in seconds since the epoch (January 1, 1970)\n",
    "current_time = time.time()\n",
    "print(\"Current time:\", current_time)\n",
    "\n",
    "# Convert the current time to a struct_time object\n",
    "time_struct = time.localtime(current_time)\n",
    "\n",
    "# Format the time as a human-readable string\n",
    "human_readable_time = time.strftime(\"%Y-%m-%d %H:%M:%S\", time_struct)\n",
    "\n",
    "print(\"Current human-readable time:\", human_readable_time)\n",
    "\n",
    "\n",
    "# Sleep for 2 seconds\n",
    "print(\"Sleeping for 2 seconds...\")\n",
    "time.sleep(2)\n",
    "print(\"Awake now!\")\n",
    "\n",
    "# Measure the time taken to execute a code block\n",
    "start_time = time.time()\n",
    "# Code to be measured\n",
    "time.sleep(2)\n",
    "end_time = time.time()\n",
    "elapsed_time = end_time - start_time\n",
    "print(\"Elapsed time:\", elapsed_time, \"seconds\")\n"
   ]
  },
  {
   "cell_type": "code",
   "execution_count": 60,
   "id": "2ab08dff",
   "metadata": {},
   "outputs": [
    {
     "name": "stdout",
     "output_type": "stream",
     "text": [
      "Current human-readable datetime: 2024-02-05 15:07:22\n"
     ]
    }
   ],
   "source": [
    "import datetime\n",
    "\n",
    "# Get the current date and time\n",
    "current_datetime = datetime.datetime.now()\n",
    "\n",
    "# Format the datetime as a human-readable string\n",
    "human_readable_datetime = current_datetime.strftime(\"%Y-%m-%d %H:%M:%S\")\n",
    "\n",
    "print(\"Current human-readable datetime:\", human_readable_datetime)\n"
   ]
  },
  {
   "cell_type": "markdown",
   "id": "6e08619b",
   "metadata": {},
   "source": [
    "# a fun exercise"
   ]
  },
  {
   "cell_type": "code",
   "execution_count": 61,
   "id": "ecaacb9b",
   "metadata": {},
   "outputs": [],
   "source": [
    "# First rewrite the speed function using numpy functions\n",
    "\n",
    "import numpy as np # Import modules \n",
    "\n",
    "def speed( R, theta ): # the function has input arguments\n",
    "    g = 9.81 # the acceleration; \n",
    "    theta_rad = np.deg2rad(theta) # converting the angle from degrees to radians \n",
    "    v = np.sqrt( R*g / np.sin(2*theta_rad) ) # calculate the speed\n",
    "    return v # return the calculated value\n",
    "\n"
   ]
  },
  {
   "cell_type": "code",
   "execution_count": 62,
   "id": "dba41d83",
   "metadata": {},
   "outputs": [
    {
     "name": "stdout",
     "output_type": "stream",
     "text": [
      "7.003570517957251\n"
     ]
    }
   ],
   "source": [
    "print(speed(5.,45))"
   ]
  },
  {
   "cell_type": "code",
   "execution_count": 63,
   "id": "5df5554a",
   "metadata": {},
   "outputs": [
    {
     "name": "stdout",
     "output_type": "stream",
     "text": [
      "[ 1.  2.  3.  4.  5.  6.  7.  8.  9. 10. 11. 12. 13. 14. 15. 16. 17. 18.\n",
      " 19. 20. 21. 22. 23. 24. 25. 26. 27. 28. 29. 30. 31. 32. 33. 34. 35. 36.\n",
      " 37. 38. 39. 40. 41. 42. 43. 44. 45. 46. 47. 48. 49. 50. 51. 52. 53. 54.\n",
      " 55. 56. 57. 58. 59. 60. 61. 62. 63. 64. 65. 66. 67. 68. 69. 70. 71. 72.\n",
      " 73. 74. 75. 76. 77. 78. 79. 80. 81. 82. 83. 84. 85. 86. 87. 88. 89.]\n"
     ]
    }
   ],
   "source": [
    "# Now I consider the distance as a constant R = 592\n",
    "R = 100\n",
    "# I wanted to visualize how the launch speed depends on the launch angle\n",
    "\n",
    "# I am using a function of numpy module called linspace\n",
    "# it's generating a series of uniformly spaced values between 1 and 89\n",
    "# returns a numpy array that stores these values\n",
    "angle_values = np.linspace(1,89,89)\n",
    "print(angle_values)"
   ]
  },
  {
   "cell_type": "code",
   "execution_count": 64,
   "id": "1d1a7090",
   "metadata": {},
   "outputs": [],
   "source": [
    "speed_values = speed(R, angle_values)\n",
    "# because all the operations in the speed function are now written using numpy functions\n",
    "# I can use numpy array as input argument"
   ]
  },
  {
   "cell_type": "code",
   "execution_count": 65,
   "id": "96dadfc4",
   "metadata": {},
   "outputs": [
    {
     "name": "stdout",
     "output_type": "stream",
     "text": [
      "[167.6582473  118.58840952  96.87622805  83.95698839  75.1621836\n",
      "  68.69024234  63.67909979  59.65755718  56.34343516  53.55606517\n",
      "  51.17369721  49.11089555  47.30570541  45.7119616   44.29446918\n",
      "  43.02586892  41.88453305  40.85311354  39.91751658  39.06616278\n",
      "  38.28944366  37.57931566  36.92899244  36.33270851  35.7855355\n",
      "  35.28323779  34.82215797  34.3991251   34.01138065  33.65651836\n",
      "  33.33243495  33.03728959  32.76947038  32.5275665   32.31034501\n",
      "  32.1167315   31.94579388  31.79672893  31.668851    31.56158276\n",
      "  31.47444755  31.40706325  31.35913746  31.33046382  31.32091953\n",
      "  31.33046382  31.35913746  31.40706325  31.47444755  31.56158276\n",
      "  31.668851    31.79672893  31.94579388  32.1167315   32.31034501\n",
      "  32.5275665   32.76947038  33.03728959  33.33243495  33.65651836\n",
      "  34.01138065  34.3991251   34.82215797  35.28323779  35.7855355\n",
      "  36.33270851  36.92899244  37.57931566  38.28944366  39.06616278\n",
      "  39.91751658  40.85311354  41.88453305  43.02586892  44.29446918\n",
      "  45.7119616   47.30570541  49.11089555  51.17369721  53.55606517\n",
      "  56.34343516  59.65755718  63.67909979  68.69024234  75.1621836\n",
      "  83.95698839  96.87622805 118.58840952 167.6582473 ]\n"
     ]
    }
   ],
   "source": [
    "print(speed_values)"
   ]
  },
  {
   "cell_type": "code",
   "execution_count": 66,
   "id": "10377dc8",
   "metadata": {},
   "outputs": [
    {
     "data": {
      "text/plain": [
       "Text(0.5, 0, 'degrees')"
      ]
     },
     "execution_count": 66,
     "metadata": {},
     "output_type": "execute_result"
    },
    {
     "data": {
      "image/png": "[encoded data removed]",
      "text/plain": [
       "<Figure size 640x480 with 1 Axes>"
      ]
     },
     "metadata": {},
     "output_type": "display_data"
    }
   ],
   "source": [
    "#Let's plot it\n",
    "\n",
    "#import the right module\n",
    "\n",
    "import matplotlib.pyplot as plt\n",
    "\n",
    "plt.plot(angle_values, speed_values)\n",
    "\n",
    "plt.ylabel('speed [m/s]')\n",
    "plt.xlabel('degrees')"
   ]
  },
  {
   "cell_type": "code",
   "execution_count": 67,
   "id": "29dbcf3b",
   "metadata": {},
   "outputs": [],
   "source": [
    "speed_values_distance1000 = speed(1000, angle_values)"
   ]
  },
  {
   "cell_type": "code",
   "execution_count": 68,
   "id": "2f0235e6",
   "metadata": {},
   "outputs": [
    {
     "data": {
      "text/plain": [
       "<matplotlib.legend.Legend at 0x7fd088793970>"
      ]
     },
     "execution_count": 68,
     "metadata": {},
     "output_type": "execute_result"
    },
    {
     "data": {
      "image/png": "[encoded data removed]",
      "text/plain": [
       "<Figure size 640x480 with 1 Axes>"
      ]
     },
     "metadata": {},
     "output_type": "display_data"
    }
   ],
   "source": [
    "plt.plot(angle_values, speed_values,label='Distance = 100 m')\n",
    "plt.plot(angle_values, speed_values_distance1000,label='Distance = 1000 m')\n",
    "\n",
    "plt.ylabel('speed [m/s]')\n",
    "plt.xlabel('degrees')\n",
    "plt.legend()"
   ]
  },
  {
   "cell_type": "markdown",
   "id": "0a49008d",
   "metadata": {},
   "source": []
  }
 ],
 "metadata": {
  "kernelspec": {
   "display_name": "Python 3 (ipykernel)",
   "language": "python",
   "name": "python3"
  },
  "language_info": {
   "codemirror_mode": {
    "name": "ipython",
    "version": 3
   },
   "file_extension": ".py",
   "mimetype": "text/x-python",
   "name": "python",
   "nbconvert_exporter": "python",
   "pygments_lexer": "ipython3",
   "version": "3.10.13"
  }
 },
 "nbformat": 4,
 "nbformat_minor": 5
}
