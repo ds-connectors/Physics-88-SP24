{
 "cells": [
  {
   "cell_type": "markdown",
   "id": "baf2e7ec",
   "metadata": {},
   "source": [
    "# Physics 77, Lecture 2: control structures\n",
    "\n",
    "<i>YGK, Haichen Wang</i>\n",
    "\n",
    "## Outline\n",
    "- Recap\n",
    "- Loop back: data representation, bits and bytes\n",
    "- Variables and Data Types\n",
    "- Composite Types (Lists, tuples, arrays)\n",
    "- Functions \n",
    "- Modules\n",
    "- Conditionals\n",
    "- Loops\n",
    "\n",
    "# Recap: Week 1-2\n",
    "\n",
    "- Introductory slides: course outline, syllabus, policy\n",
    "- Introduction to Unix, including use of the command line\n",
    "- A graphing teaser\n",
    "- Introduction to computing, programming and python\n",
    "- Any questions??\n",
    "\n",
    "# Now on to Week 3\n",
    "\n",
    "- Start with an example of projectile motion, how we determine the launch speed as a function of launch angle\n",
    "    * dissect the python implementation of the calculation\n",
    "\n",
    "## Example: projectile motion\n",
    "\n",
    "Let's consider the projectile motion.\n",
    "\n",
    "<i>The length of the (American) foodball field is 100 yards. At what speed does Jared Goff (former Cal quarterback) would need to launch the football so that it travels from one goal line to another ? Ignore air resistance and Goff's 6-4 height. \n",
    "</i>\n",
    "    \n",
    "- There are two degrees of freedom: the launch angle  $\\theta$, and the initial speed $v_0$.\n",
    "\n",
    "- The time of flight is $t = 2\\frac{v_0 \\sin\\theta}{g} $.\n",
    "\n",
    "- The horizontal distance traveled is $L = v_0 \\cos(\\theta) t = \\frac{v_0^2 \\sin(2\\theta)}{g} $\n",
    "\n",
    "- $v_0 = \\sqrt{\\frac{Lg}{\\sin(2\\theta)}}$\n",
    "\n",
    "<span style=\"color:red\">If the launch angle is 45 degrees, then what is the initial speed needed in order to hit our target?</span>\n"
   ]
  },
  {
   "cell_type": "code",
   "execution_count": 17,
   "id": "a5095227",
   "metadata": {},
   "outputs": [
    {
     "name": "stdout",
     "output_type": "stream",
     "text": [
      "To hit the target at  91 meters away, with a launch angle of 45.0 degrees, \n",
      "the initial speed needs to be 29.95 m/s \n"
     ]
    }
   ],
   "source": [
    "import math # Import modules \n",
    "\n",
    "g = 9.81 # the acceleration in m/s^2\n",
    "yard = 0.9144 # in meters ! A variable with assigned value\n",
    "\n",
    "L = 100*yard # in meters ! A variable with assigned value\n",
    "theta = 45 # launch angle set by user. A variable assigned with a value\n",
    "theta_rad = math.radians(theta) # converting the angle from degrees to radians \n",
    "v0 = math.sqrt( L*g / (math.sin(2*theta_rad) ) ) # calculate the speed\n",
    "# Print the result to the screen\n",
    "print('''To hit the target at %3.0f meters away, with a launch angle of %4.1f degrees, \n",
    "the initial speed needs to be %4.2f m/s ''' % (target_distance, launch_angle, speed_value))\n"
   ]
  },
  {
   "cell_type": "markdown",
   "id": "cffd82a7",
   "metadata": {},
   "source": [
    "#### Let's now encapsulate this calculation in a function"
   ]
  },
  {
   "cell_type": "code",
   "execution_count": 18,
   "id": "15c726e2",
   "metadata": {},
   "outputs": [
    {
     "name": "stdout",
     "output_type": "stream",
     "text": [
      "To hit the target at  91 meters away, with a launch angle of 45.0 degrees, \n",
      "the initial speed needs to be 29.95 m/s \n"
     ]
    }
   ],
   "source": [
    "# A function that calculates the speed needed for a given set of values of the target distance (in m) \n",
    "# and launch angle (in degrees)\n",
    "def launch_speed( L, theta ): # the function has input arguments\n",
    "    g = 9.81 # the acceleration in m/s^2\n",
    "    theta_rad = math.radians(theta) # converting the angle from degrees to radians \n",
    "    v0 = math.sqrt( L*g / (math.sin(2*theta_rad) ) ) # calculate the speed\n",
    "    return v0 # return the calculated value\n",
    "\n",
    "\n",
    "# compute\n",
    "\n",
    "yard = 0.9144 # in meters ! A variable with assigned value\n",
    "target_distance = 100*yard # distance  \n",
    "launch_angle = 45 # launch angle set by user. A variable assigned with a value\n",
    "\n",
    "speed_value = launch_speed(target_distance, launch_angle) # this is referred to as call of the function\n",
    "# the returned value of the function speed is *assigned* to the variable speed_value\n",
    "\n",
    "# Print the result to the screen\n",
    "print('''To hit the target at %3.0f meters away, with a launch angle of %4.1f degrees, \n",
    "the initial speed needs to be %4.2f m/s ''' % (target_distance, launch_angle, speed_value))\n",
    "\n"
   ]
  },
  {
   "cell_type": "markdown",
   "id": "dd4c37f2",
   "metadata": {},
   "source": [
    "#### and as a final modification of this, let's save this function in its own module"
   ]
  },
  {
   "cell_type": "code",
   "execution_count": 19,
   "id": "e47b2a09",
   "metadata": {},
   "outputs": [
    {
     "name": "stdout",
     "output_type": "stream",
     "text": [
      "To hit the target at 91.4 meters away, with a launch angle of 45.0 degrees, \n",
      "the initial speed needs to be 29.95 m/s \n"
     ]
    }
   ],
   "source": [
    "import kinematics as k\n",
    "\n",
    "speed = k.launch_speed(target_distance, launch_angle) \n",
    "print('''To hit the target at %3.1f meters away, with a launch angle of %4.1f degrees, \n",
    "the initial speed needs to be %4.2f m/s ''' % (target_distance, launch_angle, speed_value))\n"
   ]
  },
  {
   "cell_type": "markdown",
   "id": "4ffc4200",
   "metadata": {},
   "source": [
    "## Dissecting the example: key elements from the example (not necessarily in the order of appearance)\n",
    "\n",
    "- variables\n",
    "    * Variables in Python are symbolic names that represent values in computer memory. They act as containers, allowing programmers to store and manipulate data. By assigning a value to a variable, you give it a meaningful name, making it easier to refer to and work with that data throughout your program.\n",
    "\n",
    "- operation\n",
    "    * Operations in programming refer to actions or calculations performed on data. Think of them as the tasks or manipulations you want your program to carry out. For instance, adding two numbers together, comparing values, or changing the format of text are all examples of operations. Programming languages provide various types of operations, like mathematical, logical, and string operations, to process and transform data within a program.\n",
    "\n",
    "- assigments\n",
    "    * Assignments in Python involve associating a variable name with a value or an expression. It's the process of binding a name to an object in memory. This enables programmers to store, update, and manipulate data effectively. Assignments establish a relationship between a variable name and the data it represents, providing a way to access and manipulate data throughout the program's execution.\n",
    "\n",
    "- functions\n",
    "    * Functions in Python are reusable blocks of code designed to perform specific tasks. They encapsulate a sequence of instructions, allowing programmers to execute the same set of actions multiple times without rewriting the code. Functions can accept input (arguments), process it, and often return an output, providing modularity and reusability to programs.\n",
    "\n",
    "- modules \n",
    "    * Modules in programming are like toolkits that contain sets of pre-built code and functionalities. They help organize code by grouping related functions, classes, and variables together. Modules can be imported into your program, allowing you to reuse code without rewriting it. Think of modules as libraries of code that extend the capabilities of your program. They often serve specialized purposes, such as handling math operations (like the math module) or file operations (like the os module).\n"
   ]
  },
  {
   "cell_type": "markdown",
   "id": "0164e704",
   "metadata": {},
   "source": [
    "## Python basics (Outline)"
   ]
  },
  {
   "cell_type": "markdown",
   "id": "55f3096a",
   "metadata": {},
   "source": [
    "- Arithmetic\n",
    "- Variables and data type\n",
    "    * Numpy array\n",
    "- Functions\n",
    "- Modules"
   ]
  },
  {
   "cell_type": "markdown",
   "id": "b4c1588f",
   "metadata": {},
   "source": [
    "# Arithmetic"
   ]
  },
  {
   "cell_type": "code",
   "execution_count": 20,
   "id": "ce1e06ab",
   "metadata": {},
   "outputs": [
    {
     "data": {
      "text/plain": [
       "4"
      ]
     },
     "execution_count": 20,
     "metadata": {},
     "output_type": "execute_result"
    }
   ],
   "source": [
    "2+2 # addition"
   ]
  },
  {
   "cell_type": "code",
   "execution_count": 21,
   "id": "0a3d788d",
   "metadata": {},
   "outputs": [
    {
     "data": {
      "text/plain": [
       "0"
      ]
     },
     "execution_count": 21,
     "metadata": {},
     "output_type": "execute_result"
    }
   ],
   "source": [
    "2-2 # subtraction"
   ]
  },
  {
   "cell_type": "code",
   "execution_count": 22,
   "id": "d33b1b64",
   "metadata": {},
   "outputs": [
    {
     "data": {
      "text/plain": [
       "4"
      ]
     },
     "execution_count": 22,
     "metadata": {},
     "output_type": "execute_result"
    }
   ],
   "source": [
    "2*2 # multiplication"
   ]
  },
  {
   "cell_type": "code",
   "execution_count": 25,
   "id": "96816ffb",
   "metadata": {},
   "outputs": [
    {
     "data": {
      "text/plain": [
       "0.6666666666666666"
      ]
     },
     "execution_count": 25,
     "metadata": {},
     "output_type": "execute_result"
    }
   ],
   "source": [
    "2/3 # division . Beware -- this returns 0 in some languages, incuding Python 2"
   ]
  },
  {
   "cell_type": "code",
   "execution_count": 26,
   "id": "534f813b",
   "metadata": {},
   "outputs": [
    {
     "data": {
      "text/plain": [
       "2"
      ]
     },
     "execution_count": 26,
     "metadata": {},
     "output_type": "execute_result"
    }
   ],
   "source": [
    "2%3  # modulus"
   ]
  },
  {
   "cell_type": "code",
   "execution_count": 27,
   "id": "e8130d38",
   "metadata": {},
   "outputs": [
    {
     "data": {
      "text/plain": [
       "3"
      ]
     },
     "execution_count": 27,
     "metadata": {},
     "output_type": "execute_result"
    }
   ],
   "source": [
    "(7)//2  # floor division"
   ]
  },
  {
   "cell_type": "code",
   "execution_count": 28,
   "id": "938ab4e8",
   "metadata": {},
   "outputs": [
    {
     "data": {
      "text/plain": [
       "100"
      ]
     },
     "execution_count": 28,
     "metadata": {},
     "output_type": "execute_result"
    }
   ],
   "source": [
    "10**2 # exponent"
   ]
  },
  {
   "cell_type": "code",
   "execution_count": 29,
   "id": "f8d5b252",
   "metadata": {},
   "outputs": [
    {
     "data": {
      "text/plain": [
       "20"
      ]
     },
     "execution_count": 29,
     "metadata": {},
     "output_type": "execute_result"
    }
   ],
   "source": [
    "10*2 # multiplication"
   ]
  },
  {
   "cell_type": "markdown",
   "id": "af855b9e",
   "metadata": {},
   "source": [
    "### Mathematical functions \n",
    "These functions can be found in modules such as math and numpy\n",
    "\n",
    "**math** https://docs.python.org/3/library/math.html\n",
    "\n",
    "**numpy** https://numpy.org/doc/stable/reference/routines.math.html\n"
   ]
  },
  {
   "cell_type": "code",
   "execution_count": 30,
   "id": "bdd33a42",
   "metadata": {},
   "outputs": [
    {
     "data": {
      "text/plain": [
       "0.7073882691671998"
      ]
     },
     "execution_count": 30,
     "metadata": {},
     "output_type": "execute_result"
    }
   ],
   "source": [
    "import math\n",
    "math.cos(3.14/4) # cos(pi/4)"
   ]
  },
  {
   "cell_type": "code",
   "execution_count": 31,
   "id": "c21b89fb",
   "metadata": {},
   "outputs": [
    {
     "data": {
      "text/plain": [
       "0.7073882691671998"
      ]
     },
     "execution_count": 31,
     "metadata": {},
     "output_type": "execute_result"
    }
   ],
   "source": [
    "# How about numpy?\n",
    "\n",
    "import numpy as np\n",
    "\n",
    "np.cos(3.14/4)"
   ]
  },
  {
   "cell_type": "code",
   "execution_count": 39,
   "id": "532f97ce",
   "metadata": {},
   "outputs": [
    {
     "name": "stdout",
     "output_type": "stream",
     "text": [
      "9.0 9.0\n"
     ]
    }
   ],
   "source": [
    "print( math.sqrt(81), np.sqrt(81))  # square root"
   ]
  },
  {
   "cell_type": "code",
   "execution_count": 33,
   "id": "3e4e4493",
   "metadata": {},
   "outputs": [
    {
     "name": "stdout",
     "output_type": "stream",
     "text": [
      "4.394449154672439 4.394449154672439\n"
     ]
    }
   ],
   "source": [
    "print( math.log(81), np.log(81))  # logarithm"
   ]
  },
  {
   "cell_type": "code",
   "execution_count": 34,
   "id": "e2893d9e",
   "metadata": {},
   "outputs": [
    {
     "name": "stdout",
     "output_type": "stream",
     "text": [
      "4.5399929762484854e-05 4.5399929762484854e-05\n"
     ]
    }
   ],
   "source": [
    "print( math.exp(-10), np.exp(-10)) # exponential"
   ]
  },
  {
   "cell_type": "code",
   "execution_count": 35,
   "id": "a837c4a6",
   "metadata": {},
   "outputs": [
    {
     "ename": "AttributeError",
     "evalue": "module 'numpy' has no attribute 'factorial'",
     "output_type": "error",
     "traceback": [
      "\u001b[0;31m---------------------------------------------------------------------------\u001b[0m",
      "\u001b[0;31mAttributeError\u001b[0m                            Traceback (most recent call last)",
      "\u001b[0;32m/var/folders/sg/h6rbzs2s5gx46fbp7ylyjggr0000gp/T/ipykernel_91484/4243335432.py\u001b[0m in \u001b[0;36m<module>\u001b[0;34m\u001b[0m\n\u001b[0;32m----> 1\u001b[0;31m \u001b[0mprint\u001b[0m\u001b[0;34m(\u001b[0m\u001b[0mmath\u001b[0m\u001b[0;34m.\u001b[0m\u001b[0mfactorial\u001b[0m\u001b[0;34m(\u001b[0m\u001b[0;36m5\u001b[0m\u001b[0;34m)\u001b[0m\u001b[0;34m,\u001b[0m \u001b[0mnp\u001b[0m\u001b[0;34m.\u001b[0m\u001b[0mfactorial\u001b[0m\u001b[0;34m(\u001b[0m\u001b[0;36m5\u001b[0m\u001b[0;34m)\u001b[0m\u001b[0;34m)\u001b[0m\u001b[0;34m\u001b[0m\u001b[0;34m\u001b[0m\u001b[0m\n\u001b[0m",
      "\u001b[0;32m/opt/anaconda3/lib/python3.10/site-packages/numpy/__init__.py\u001b[0m in \u001b[0;36m__getattr__\u001b[0;34m(attr)\u001b[0m\n\u001b[1;32m    313\u001b[0m             \u001b[0;32mreturn\u001b[0m \u001b[0mTester\u001b[0m\u001b[0;34m\u001b[0m\u001b[0;34m\u001b[0m\u001b[0m\n\u001b[1;32m    314\u001b[0m \u001b[0;34m\u001b[0m\u001b[0m\n\u001b[0;32m--> 315\u001b[0;31m         raise AttributeError(\"module {!r} has no attribute \"\n\u001b[0m\u001b[1;32m    316\u001b[0m                              \"{!r}\".format(__name__, attr))\n\u001b[1;32m    317\u001b[0m \u001b[0;34m\u001b[0m\u001b[0m\n",
      "\u001b[0;31mAttributeError\u001b[0m: module 'numpy' has no attribute 'factorial'"
     ]
    }
   ],
   "source": [
    "print(math.factorial(5), np.factorial(5))"
   ]
  },
  {
   "cell_type": "code",
   "execution_count": 37,
   "id": "47de879a",
   "metadata": {},
   "outputs": [
    {
     "name": "stdout",
     "output_type": "stream",
     "text": [
      "120 120.0\n"
     ]
    }
   ],
   "source": [
    "import numpy as np\n",
    "from scipy.special import factorial\n",
    "\n",
    "n = 5\n",
    "result = factorial(n)\n",
    "\n",
    "print(math.factorial(5), result)\n"
   ]
  },
  {
   "cell_type": "code",
   "execution_count": 40,
   "id": "4c632398",
   "metadata": {},
   "outputs": [
    {
     "name": "stdout",
     "output_type": "stream",
     "text": [
      "179.9087476710785 179.9087476710785\n"
     ]
    }
   ],
   "source": [
    "print( math.degrees(3.14), np.rad2deg(3.14)) # convert radian to degree"
   ]
  },
  {
   "cell_type": "code",
   "execution_count": 41,
   "id": "50acf90a",
   "metadata": {},
   "outputs": [
    {
     "name": "stdout",
     "output_type": "stream",
     "text": [
      "1.5707963267948966 1.5707963267948966\n"
     ]
    }
   ],
   "source": [
    "print( math.radians(90), np.deg2rad(90)) # convert radian to degree"
   ]
  },
  {
   "cell_type": "code",
   "execution_count": 42,
   "id": "9037420e",
   "metadata": {},
   "outputs": [
    {
     "ename": "ValueError",
     "evalue": "math domain error",
     "output_type": "error",
     "traceback": [
      "\u001b[0;31m---------------------------------------------------------------------------\u001b[0m",
      "\u001b[0;31mValueError\u001b[0m                                Traceback (most recent call last)",
      "\u001b[0;32m/var/folders/sg/h6rbzs2s5gx46fbp7ylyjggr0000gp/T/ipykernel_91484/605917843.py\u001b[0m in \u001b[0;36m<module>\u001b[0;34m\u001b[0m\n\u001b[1;32m      1\u001b[0m \u001b[0;31m# what happens if you take the sqrt of a negative number?\u001b[0m\u001b[0;34m\u001b[0m\u001b[0;34m\u001b[0m\u001b[0m\n\u001b[0;32m----> 2\u001b[0;31m \u001b[0mprint\u001b[0m\u001b[0;34m(\u001b[0m\u001b[0mmath\u001b[0m\u001b[0;34m.\u001b[0m\u001b[0msqrt\u001b[0m\u001b[0;34m(\u001b[0m\u001b[0;34m-\u001b[0m\u001b[0;36m9\u001b[0m\u001b[0;34m)\u001b[0m\u001b[0;34m)\u001b[0m\u001b[0;34m\u001b[0m\u001b[0;34m\u001b[0m\u001b[0m\n\u001b[0m",
      "\u001b[0;31mValueError\u001b[0m: math domain error"
     ]
    }
   ],
   "source": [
    "# what happens if you take the sqrt of a negative number?\n",
    "print(math.sqrt(-9))"
   ]
  },
  {
   "cell_type": "code",
   "execution_count": 43,
   "id": "1abca00e",
   "metadata": {},
   "outputs": [
    {
     "name": "stdout",
     "output_type": "stream",
     "text": [
      "nan\n"
     ]
    },
    {
     "name": "stderr",
     "output_type": "stream",
     "text": [
      "/var/folders/sg/h6rbzs2s5gx46fbp7ylyjggr0000gp/T/ipykernel_91484/359169189.py:2: RuntimeWarning: invalid value encountered in sqrt\n",
      "  print(np.sqrt(-9))\n"
     ]
    }
   ],
   "source": [
    "# what happens if you take the sqrt of a negative number?\n",
    "print(np.sqrt(-9))"
   ]
  },
  {
   "cell_type": "code",
   "execution_count": 44,
   "id": "dd5dfbeb",
   "metadata": {},
   "outputs": [
    {
     "name": "stdout",
     "output_type": "stream",
     "text": [
      "3j\n"
     ]
    }
   ],
   "source": [
    "import cmath\n",
    "print(cmath.sqrt(-9))"
   ]
  },
  {
   "cell_type": "markdown",
   "id": "f973e944",
   "metadata": {},
   "source": [
    "**cmath** module provides access to mathematical functions for complex numbers.\n",
    "https://docs.python.org/3/library/cmath.html"
   ]
  },
  {
   "cell_type": "markdown",
   "id": "7ab7d3fe",
   "metadata": {},
   "source": [
    "We won't have time to go through all these functions under math and numpy modules. You should screen those linked pages to develop a sense what is available. In practice, when some function is needed, do a quick google search to see if there are already available. Overtime, you will just memorize many of them through practice."
   ]
  },
  {
   "cell_type": "markdown",
   "id": "f4c2d258",
   "metadata": {},
   "source": [
    "### Association rules, order of operations\n",
    "\n",
    "Python follows the standard \"PEMDAS\" order of evaluating operators:\n",
    "1. Parentheses\n",
    "1. Exponentiation\n",
    "1. Multiplication/division (equal precedence, evaluate from left to right)\n",
    "1. Addition/subtraction (equal precedence, evaluate from left to right)\n",
    "\n",
    "The full table (in the reverse order, i.e. from last to first) is listed here: https://docs.python.org/3/reference/expressions.html#operator-precedence\n",
    "\n",
    "Here are some examples. The general rule -- if in doubt, add parentheses ! \n"
   ]
  },
  {
   "cell_type": "code",
   "execution_count": 45,
   "id": "1bd07d47",
   "metadata": {},
   "outputs": [
    {
     "data": {
      "text/plain": [
       "16"
      ]
     },
     "execution_count": 45,
     "metadata": {},
     "output_type": "execute_result"
    }
   ],
   "source": [
    "(2+2)*4"
   ]
  },
  {
   "cell_type": "code",
   "execution_count": 46,
   "id": "eb2be29f",
   "metadata": {},
   "outputs": [
    {
     "data": {
      "text/plain": [
       "10"
      ]
     },
     "execution_count": 46,
     "metadata": {},
     "output_type": "execute_result"
    }
   ],
   "source": [
    "2+2*4"
   ]
  },
  {
   "cell_type": "code",
   "execution_count": 47,
   "id": "27f28b7b",
   "metadata": {},
   "outputs": [
    {
     "data": {
      "text/plain": [
       "2.5"
      ]
     },
     "execution_count": 47,
     "metadata": {},
     "output_type": "execute_result"
    }
   ],
   "source": [
    "2+2/4"
   ]
  },
  {
   "cell_type": "code",
   "execution_count": 48,
   "id": "b0ff658f",
   "metadata": {},
   "outputs": [
    {
     "data": {
      "text/plain": [
       "6.0"
      ]
     },
     "execution_count": 48,
     "metadata": {},
     "output_type": "execute_result"
    }
   ],
   "source": [
    "2+4/2*2"
   ]
  },
  {
   "cell_type": "code",
   "execution_count": 49,
   "id": "55b527a8",
   "metadata": {},
   "outputs": [
    {
     "data": {
      "text/plain": [
       "3.0"
      ]
     },
     "execution_count": 49,
     "metadata": {},
     "output_type": "execute_result"
    }
   ],
   "source": [
    "2+4/(2*2)"
   ]
  },
  {
   "cell_type": "code",
   "execution_count": 50,
   "id": "07f545bf",
   "metadata": {},
   "outputs": [
    {
     "data": {
      "text/plain": [
       "1.0"
      ]
     },
     "execution_count": 50,
     "metadata": {},
     "output_type": "execute_result"
    }
   ],
   "source": [
    "np.log(1)+1"
   ]
  },
  {
   "cell_type": "markdown",
   "id": "ec751510",
   "metadata": {},
   "source": [
    "Here is a tricky one -- how would this be evaluated ? "
   ]
  },
  {
   "cell_type": "code",
   "execution_count": 59,
   "id": "03ccc3bd",
   "metadata": {},
   "outputs": [
    {
     "data": {
      "text/plain": [
       "72.0"
      ]
     },
     "execution_count": 59,
     "metadata": {},
     "output_type": "execute_result"
    }
   ],
   "source": [
    "144.**1/2   # is this equal to sqrt(144) ?"
   ]
  },
  {
   "cell_type": "markdown",
   "id": "bd0c65d9",
   "metadata": {},
   "source": [
    "Try again:"
   ]
  },
  {
   "cell_type": "code",
   "execution_count": 60,
   "id": "0518eeab",
   "metadata": {},
   "outputs": [
    {
     "name": "stdout",
     "output_type": "stream",
     "text": [
      "sqrt(144)= 12.0\n",
      "sqrt(144)= 12.0\n"
     ]
    }
   ],
   "source": [
    "print('sqrt(144)=',144.**(1./2))  # this is OK\n",
    "print('sqrt(144)=',144.**0.5)     # this is even better -- seems like a small saving of compute time, but it adds up"
   ]
  },
  {
   "cell_type": "markdown",
   "id": "7d044d3c",
   "metadata": {},
   "source": [
    "**Summary:** \n",
    "- multiplication/division takes precedence over addition/subtraction \n",
    "- operations inside a set parenthesis takes precedence over operations outside it"
   ]
  },
  {
   "cell_type": "markdown",
   "id": "4ca247f5",
   "metadata": {},
   "source": [
    "# Variables and assignment\n",
    "- concept of assignment\n",
    "- shorthands\n",
    "- types of data/variables in python\n",
    "\n",
    "\n",
    "## Example - calculate the value of a polynomial\n",
    "we have a polynomial \n",
    "$ y = ax^3 + bx^2 + cx + d$\n",
    "\n",
    "- for a given set of coefficients (a,b,c,d), we want to know the value of the polynomial at x "
   ]
  },
  {
   "cell_type": "code",
   "execution_count": 51,
   "id": "873d8f41",
   "metadata": {},
   "outputs": [
    {
     "name": "stdout",
     "output_type": "stream",
     "text": [
      "Value of y : 313.00\n"
     ]
    }
   ],
   "source": [
    "a = 10\n",
    "b = 5\n",
    "c = -2\n",
    "d = 4\n",
    "\n",
    "x = 3.0\n",
    "\n",
    "y = a*x**3 + b*x**2 + c*x + d\n",
    "\n",
    "print('Value of y : %4.2f' % y)\n",
    "\n",
    "\n",
    "# Vary these values and see how the printout change\n",
    "# Changes for variable assigned values (first five lines) are propogated to the calculated value of y\n"
   ]
  },
  {
   "cell_type": "code",
   "execution_count": 52,
   "id": "29f6d469",
   "metadata": {},
   "outputs": [
    {
     "name": "stdout",
     "output_type": "stream",
     "text": [
      "Value of y : 313.00\n"
     ]
    }
   ],
   "source": [
    "a = 10\n",
    "b = 5\n",
    "c = -2\n",
    "d = 4\n",
    "\n",
    "x = 3.0\n",
    "\n",
    "y = a*x**3 + b*x**2 + c*x + d\n",
    "\n",
    "d = 10\n",
    "\n",
    "print('Value of y : %4.2f' % y)\n",
    "\n",
    "\n",
    "# the line d = 10 doesn't affect the value of y, \n",
    "# because the value of 10 was assigned to d after the value of d was already used in the calculation of y\n"
   ]
  },
  {
   "cell_type": "markdown",
   "id": "b7e2d759",
   "metadata": {},
   "source": [
    "## Shorthands"
   ]
  },
  {
   "cell_type": "code",
   "execution_count": 53,
   "id": "4249cb08",
   "metadata": {},
   "outputs": [
    {
     "name": "stdout",
     "output_type": "stream",
     "text": [
      "Value of a:   20 \n"
     ]
    }
   ],
   "source": [
    "a = 10 \n",
    "a = a + 10\n",
    "print('Value of a: %4.0f ' % a)"
   ]
  },
  {
   "cell_type": "code",
   "execution_count": 54,
   "id": "2c4f6317",
   "metadata": {},
   "outputs": [
    {
     "name": "stdout",
     "output_type": "stream",
     "text": [
      "Value of a:   20 \n"
     ]
    }
   ],
   "source": [
    "a = 10 \n",
    "a += 10\n",
    "print('Value of a: %4.0f ' % a)"
   ]
  },
  {
   "cell_type": "code",
   "execution_count": 55,
   "id": "4a01b0a1",
   "metadata": {},
   "outputs": [
    {
     "name": "stdout",
     "output_type": "stream",
     "text": [
      "Value of a:    0 \n"
     ]
    }
   ],
   "source": [
    "a = 10 \n",
    "a = a - 10\n",
    "print('Value of a: %4.0f ' % a)"
   ]
  },
  {
   "cell_type": "code",
   "execution_count": 56,
   "id": "d2448c4b",
   "metadata": {},
   "outputs": [
    {
     "name": "stdout",
     "output_type": "stream",
     "text": [
      "Value of a:    0 \n"
     ]
    }
   ],
   "source": [
    "a = 10 \n",
    "a -= 10\n",
    "print('Value of a: %4.0f ' % a)"
   ]
  },
  {
   "cell_type": "code",
   "execution_count": 57,
   "id": "d0edc664",
   "metadata": {},
   "outputs": [
    {
     "name": "stdout",
     "output_type": "stream",
     "text": [
      "Value of a:  100 \n"
     ]
    }
   ],
   "source": [
    "# Guess what does *= do?\n",
    "\n",
    "a = 10 \n",
    "a *= 10\n",
    "print('Value of a: %4.0f ' % a)"
   ]
  },
  {
   "cell_type": "code",
   "execution_count": 58,
   "id": "46fa822e",
   "metadata": {},
   "outputs": [
    {
     "name": "stdout",
     "output_type": "stream",
     "text": [
      "Value of a:    1 \n"
     ]
    }
   ],
   "source": [
    "# How about /=\n",
    "a = 10 \n",
    "a /= 10\n",
    "print('Value of a: %4.0f ' % a)"
   ]
  },
  {
   "cell_type": "markdown",
   "id": "1dd90ef1",
   "metadata": {},
   "source": [
    "## Types of variables (data)\n",
    "\n",
    "so far, our examples only include variables assigned with numerical values. But they don't have to always be assigned a numerical value. "
   ]
  },
  {
   "cell_type": "markdown",
   "id": "ccd441ff",
   "metadata": {},
   "source": [
    "**Notes on data types**\n",
    "\n",
    "In Python, there are several common types of variables that you'll frequently encounter. Here are some of the most common ones:\n",
    "\n",
    "- Integer (int): Represents whole numbers, both positive and negative. For example: age = 25.\n",
    "\n",
    "- Floating-Point (float): Represents decimal numbers. For example: pi = 3.14.\n",
    "\n",
    "- String (str): Represents sequences of characters enclosed in single or double quotes. For example: name = \"Alice\".\n",
    "\n",
    "- Boolean (bool): Represents either True or False values. Used for logical operations and comparisons. For example: is_student = True.\n",
    "\n",
    "- List: Represents an ordered collection of items, which can be of different types. For example: grades = [85, 92, 78].\n",
    "\n",
    "- Tuple: Similar to lists, but they are immutable (cannot be changed after creation). For example: coordinates = (3, 4).\n",
    "\n",
    "- Dictionary: Represents key-value pairs, where each value is associated with a unique key. For example: student = {\"name\": \"Bob\", \"age\": 20}.\n",
    "\n",
    "- Set: Represents an unordered collection of unique items. For example: colors = {\"red\", \"blue\", \"green\"}.\n",
    "\n",
    "- None: Represents the absence of a value or a null value. It's often used to indicate that a variable doesn't have a value yet. For example: result = None.\n",
    "\n",
    "These variable types are the building blocks of Python programs and allow you to work with various types of data in different ways."
   ]
  },
  {
   "cell_type": "code",
   "execution_count": 61,
   "id": "eb1e05ef",
   "metadata": {},
   "outputs": [
    {
     "name": "stdout",
     "output_type": "stream",
     "text": [
      "1 <class 'int'>\n"
     ]
    }
   ],
   "source": [
    "x = 1\n",
    "print(x, type(x))"
   ]
  },
  {
   "cell_type": "code",
   "execution_count": 62,
   "id": "99ddc0c2",
   "metadata": {},
   "outputs": [
    {
     "name": "stdout",
     "output_type": "stream",
     "text": [
      "1.0 <class 'float'>\n"
     ]
    }
   ],
   "source": [
    "x = 1.0 \n",
    "print(x, type(x))"
   ]
  },
  {
   "cell_type": "code",
   "execution_count": 63,
   "id": "ee8051e6",
   "metadata": {},
   "outputs": [
    {
     "name": "stdout",
     "output_type": "stream",
     "text": [
      "1.0000 <class 'str'>\n"
     ]
    }
   ],
   "source": [
    "x = '1.0000'\n",
    "print(x, type(x))"
   ]
  },
  {
   "cell_type": "code",
   "execution_count": 64,
   "id": "de7450f5",
   "metadata": {},
   "outputs": [
    {
     "name": "stdout",
     "output_type": "stream",
     "text": [
      "This is an example <class 'str'>\n"
     ]
    }
   ],
   "source": [
    "x = 'This is an example'\n",
    "print(x, type(x))"
   ]
  },
  {
   "cell_type": "code",
   "execution_count": 65,
   "id": "c1c4a8dc",
   "metadata": {},
   "outputs": [
    {
     "name": "stdout",
     "output_type": "stream",
     "text": [
      "True <class 'bool'>\n"
     ]
    }
   ],
   "source": [
    "x = True\n",
    "print(x, type(x))"
   ]
  },
  {
   "cell_type": "code",
   "execution_count": 66,
   "id": "cc4171e3",
   "metadata": {},
   "outputs": [
    {
     "name": "stdout",
     "output_type": "stream",
     "text": [
      "False <class 'bool'>\n"
     ]
    }
   ],
   "source": [
    "x = False\n",
    "print(x, type(x))"
   ]
  },
  {
   "cell_type": "code",
   "execution_count": 67,
   "id": "567cea94",
   "metadata": {},
   "outputs": [
    {
     "name": "stdout",
     "output_type": "stream",
     "text": [
      "[1, 2, 3, 4] <class 'list'>\n"
     ]
    }
   ],
   "source": [
    "x = [1, 2, 3, 4]\n",
    "print(x, type(x))"
   ]
  },
  {
   "cell_type": "code",
   "execution_count": 68,
   "id": "5f99b576",
   "metadata": {},
   "outputs": [
    {
     "name": "stdout",
     "output_type": "stream",
     "text": [
      "['Berkeley', 'Stanford', 'Princeton', 'Harvard'] <class 'list'>\n"
     ]
    }
   ],
   "source": [
    "x = [\"Berkeley\", \"Stanford\", \"Princeton\", \"Harvard\"]\n",
    "print(x, type(x))"
   ]
  },
  {
   "cell_type": "code",
   "execution_count": 69,
   "id": "2c059029",
   "metadata": {},
   "outputs": [
    {
     "name": "stdout",
     "output_type": "stream",
     "text": [
      "Princeton <class 'str'>\n"
     ]
    }
   ],
   "source": [
    "print(x[2], type(x[2]))"
   ]
  },
  {
   "cell_type": "code",
   "execution_count": 70,
   "id": "79e0b25b",
   "metadata": {},
   "outputs": [
    {
     "name": "stdout",
     "output_type": "stream",
     "text": [
      "P <class 'str'>\n"
     ]
    }
   ],
   "source": [
    "print(x[2][0], type(x[2][0]))"
   ]
  },
  {
   "cell_type": "markdown",
   "id": "42b28e0f",
   "metadata": {},
   "source": [
    "**footnote: indexing** In Python, indexing refers to the process of accessing individual elements within a data structure, such as lists, tuples, and strings. Each element in these data structures has a unique index that specifies its position. Indexing is zero-based in Python, which means the first element is at index 0, the second at index 1, and so on."
   ]
  },
  {
   "cell_type": "code",
   "execution_count": 71,
   "id": "b86867b6",
   "metadata": {},
   "outputs": [
    {
     "name": "stdout",
     "output_type": "stream",
     "text": [
      "(1, 2, 3, 4) <class 'tuple'>\n"
     ]
    }
   ],
   "source": [
    "x = (1, 2, 3, 4)\n",
    "print(x, type(x))"
   ]
  },
  {
   "cell_type": "code",
   "execution_count": 72,
   "id": "33a18c6f",
   "metadata": {},
   "outputs": [
    {
     "name": "stdout",
     "output_type": "stream",
     "text": [
      "{1, 2, 3, 4} <class 'set'>\n"
     ]
    }
   ],
   "source": [
    "x = {1, 2, 3, 4}\n",
    "print(x, type(x))"
   ]
  },
  {
   "cell_type": "code",
   "execution_count": 73,
   "id": "36de5265",
   "metadata": {},
   "outputs": [
    {
     "name": "stdout",
     "output_type": "stream",
     "text": [
      "{1: 'Green', 2: 'Red', 3: 'Blue'} <class 'dict'>\n"
     ]
    }
   ],
   "source": [
    "x = {1:\"Green\", 2:\"Red\", 3:\"Blue\"}\n",
    "print(x, type(x))"
   ]
  },
  {
   "cell_type": "code",
   "execution_count": 74,
   "id": "9aee95c6",
   "metadata": {},
   "outputs": [
    {
     "name": "stdout",
     "output_type": "stream",
     "text": [
      "Green <class 'str'>\n"
     ]
    }
   ],
   "source": [
    "print(x[1], type(x[1]))"
   ]
  },
  {
   "cell_type": "code",
   "execution_count": 75,
   "id": "8bda4878",
   "metadata": {},
   "outputs": [
    {
     "name": "stdout",
     "output_type": "stream",
     "text": [
      "{'Green': 1, 'Red': 2, 'Blue': 3} <class 'dict'>\n"
     ]
    }
   ],
   "source": [
    "x = {\"Green\":1, \"Red\":2, \"Blue\":3}\n",
    "print(x, type(x))"
   ]
  },
  {
   "cell_type": "code",
   "execution_count": 76,
   "id": "e6af7514",
   "metadata": {},
   "outputs": [
    {
     "ename": "KeyError",
     "evalue": "1",
     "output_type": "error",
     "traceback": [
      "\u001b[0;31m---------------------------------------------------------------------------\u001b[0m",
      "\u001b[0;31mKeyError\u001b[0m                                  Traceback (most recent call last)",
      "\u001b[0;32m/var/folders/sg/h6rbzs2s5gx46fbp7ylyjggr0000gp/T/ipykernel_91484/2946912674.py\u001b[0m in \u001b[0;36m<module>\u001b[0;34m\u001b[0m\n\u001b[0;32m----> 1\u001b[0;31m \u001b[0mprint\u001b[0m\u001b[0;34m(\u001b[0m\u001b[0mx\u001b[0m\u001b[0;34m[\u001b[0m\u001b[0;36m1\u001b[0m\u001b[0;34m]\u001b[0m\u001b[0;34m,\u001b[0m \u001b[0mtype\u001b[0m\u001b[0;34m(\u001b[0m\u001b[0mx\u001b[0m\u001b[0;34m[\u001b[0m\u001b[0;36m1\u001b[0m\u001b[0;34m]\u001b[0m\u001b[0;34m)\u001b[0m\u001b[0;34m)\u001b[0m\u001b[0;34m\u001b[0m\u001b[0;34m\u001b[0m\u001b[0m\n\u001b[0m",
      "\u001b[0;31mKeyError\u001b[0m: 1"
     ]
    }
   ],
   "source": [
    "print(x[1], type(x[1]))"
   ]
  },
  {
   "cell_type": "markdown",
   "id": "73e4b310",
   "metadata": {},
   "source": [
    "### Conversions between Integer and Floating point types\n",
    "A few gotchas. "
   ]
  },
  {
   "cell_type": "code",
   "execution_count": 85,
   "id": "b9dc5123",
   "metadata": {},
   "outputs": [
    {
     "data": {
      "text/plain": [
       "int"
      ]
     },
     "execution_count": 85,
     "metadata": {},
     "output_type": "execute_result"
    }
   ],
   "source": [
    "x = 2\n",
    "type(x)   # what type is this variable ?"
   ]
  },
  {
   "cell_type": "code",
   "execution_count": 86,
   "id": "a90489a1",
   "metadata": {},
   "outputs": [
    {
     "data": {
      "text/plain": [
       "float"
      ]
     },
     "execution_count": 86,
     "metadata": {},
     "output_type": "execute_result"
    }
   ],
   "source": [
    "y = 2.\n",
    "type(y)    # how about now ?"
   ]
  },
  {
   "cell_type": "code",
   "execution_count": 87,
   "id": "ed0ef414",
   "metadata": {},
   "outputs": [
    {
     "data": {
      "text/plain": [
       "0.5"
      ]
     },
     "execution_count": 87,
     "metadata": {},
     "output_type": "execute_result"
    }
   ],
   "source": [
    "1/2  # Used to produce 0 in Python 2 ! "
   ]
  },
  {
   "cell_type": "code",
   "execution_count": 88,
   "id": "b0a86da1",
   "metadata": {},
   "outputs": [
    {
     "data": {
      "text/plain": [
       "0"
      ]
     },
     "execution_count": 88,
     "metadata": {},
     "output_type": "execute_result"
    }
   ],
   "source": [
    "1//2 # this is how most computer languages would evaluate the expression above !"
   ]
  },
  {
   "cell_type": "markdown",
   "id": "7a23604c",
   "metadata": {},
   "source": [
    "But in order to make your code portable, and learn good programming practices, I would encourage you to explicitly type float constants if you intend the division to use floating-point precision. Easiest way to do this is to add a decimal point to the constant:"
   ]
  },
  {
   "cell_type": "code",
   "execution_count": 89,
   "id": "f5d9140f",
   "metadata": {},
   "outputs": [
    {
     "name": "stdout",
     "output_type": "stream",
     "text": [
      "0.5\n"
     ]
    }
   ],
   "source": [
    "OneHalf = 1./2\n",
    "print(OneHalf)"
   ]
  },
  {
   "cell_type": "markdown",
   "id": "0df6a2bf",
   "metadata": {},
   "source": [
    "## Numpy arrays\n",
    "Numpy arrays will be the most used data structure throughout this course and in your future Python projects.\n",
    "We will have more detailed introduction to it later. Here I am giving your some teasers. \n"
   ]
  },
  {
   "cell_type": "code",
   "execution_count": 77,
   "id": "97ddfe60",
   "metadata": {},
   "outputs": [],
   "source": [
    "import numpy as np # import the numpy module as np\n",
    "#np is an alias for numpy module here\n",
    "# you can name it anything you want, but we always go with \n",
    "#the most common one so that every one reading your code could understand it "
   ]
  },
  {
   "cell_type": "code",
   "execution_count": 78,
   "id": "1446b680",
   "metadata": {},
   "outputs": [
    {
     "name": "stdout",
     "output_type": "stream",
     "text": [
      "[1] <class 'numpy.ndarray'>\n"
     ]
    }
   ],
   "source": [
    "x = np.array([1])\n",
    "print(x, type(x))"
   ]
  },
  {
   "cell_type": "code",
   "execution_count": 79,
   "id": "5938b537",
   "metadata": {},
   "outputs": [
    {
     "name": "stdout",
     "output_type": "stream",
     "text": [
      "[1 2 3] <class 'numpy.ndarray'>\n"
     ]
    }
   ],
   "source": [
    "x = np.array([1,2,3])\n",
    "print(x, type(x))"
   ]
  },
  {
   "cell_type": "code",
   "execution_count": 80,
   "id": "ee8dad85",
   "metadata": {},
   "outputs": [
    {
     "name": "stdout",
     "output_type": "stream",
     "text": [
      "3 <class 'numpy.int64'>\n"
     ]
    }
   ],
   "source": [
    "print(x[2], type(x[2]))"
   ]
  },
  {
   "cell_type": "code",
   "execution_count": 81,
   "id": "9921169e",
   "metadata": {},
   "outputs": [
    {
     "name": "stdout",
     "output_type": "stream",
     "text": [
      "[[    1     2     3]\n",
      " [    2    90 14312]] <class 'numpy.ndarray'>\n",
      "2 (2, 3) 6\n"
     ]
    }
   ],
   "source": [
    "x = np.array([[1,2,3],[2,90,14312]])\n",
    "print(x, type(x))\n",
    "print(x.ndim, x.shape, x.size)"
   ]
  },
  {
   "cell_type": "code",
   "execution_count": 82,
   "id": "814e2ca8",
   "metadata": {},
   "outputs": [
    {
     "name": "stdout",
     "output_type": "stream",
     "text": [
      "14312\n"
     ]
    }
   ],
   "source": [
    "print(x[1,2])"
   ]
  },
  {
   "cell_type": "code",
   "execution_count": 83,
   "id": "9c970dcb",
   "metadata": {},
   "outputs": [
    {
     "name": "stdout",
     "output_type": "stream",
     "text": [
      "[[    2     3    13]\n",
      " [    3    91 14313]]\n"
     ]
    }
   ],
   "source": [
    "x = np.array([[1,2,3],[2,90,14312]])\n",
    "y = np.array([[1,1,10],[1, 1, 1]])\n",
    "z = x + y \n",
    "print(z)\n",
    "# Numpy operation is element-wise, meaning that the operator \n",
    "# acts on the elements from the two arrays that have the same position"
   ]
  },
  {
   "cell_type": "code",
   "execution_count": 84,
   "id": "c303f803",
   "metadata": {},
   "outputs": [
    {
     "name": "stdout",
     "output_type": "stream",
     "text": [
      "[[1.54030231 0.58385316 2.17228516]\n",
      " [0.58385316 0.55192638 1.45704191]]\n"
     ]
    }
   ],
   "source": [
    "# taking advantage of the built-in functions in numpy arrray\n",
    "print( np.cos(x)+np.sqrt(y) )"
   ]
  },
  {
   "cell_type": "markdown",
   "id": "5ea7f841",
   "metadata": {},
   "source": [
    "# Functions"
   ]
  },
  {
   "cell_type": "code",
   "execution_count": 91,
   "id": "39aba3c4",
   "metadata": {},
   "outputs": [],
   "source": [
    "# A function that calculates the speed needed for a given set of values of the target distance and launch angle \n",
    "def speed( L, theta ): # the function has input arguments\n",
    "    g = 9.81 # the acceleration; \n",
    "    theta_rad = math.radians(theta) # converting the angle from degrees to radians \n",
    "    v = math.sqrt( L*g / (math.sin(2*theta_rad))) # calculate the speed\n",
    "    return v # return the calculated value"
   ]
  },
  {
   "cell_type": "markdown",
   "id": "8ab204b2",
   "metadata": {},
   "source": [
    "### What are the essential elements of a function?\n",
    "\n",
    "- Function Definition: **def speed(L, theta):**\n",
    "    * The *def* keyword is used to define a function.\n",
    "    * *speed* is the name of the function.\n",
    "    * *(R, theta)* are the parameters (input values) the function accepts. They act as placeholders for values that will be passed when the function is called.\n",
    "\n",
    "- Function Body:\n",
    "    * The **indented code** block beneath the function definition is the function body. It contains the instructions executed when the function is called.\n",
    "\n",
    "- Variable Declarations:\n",
    "    * *g = 9.81*\n",
    "    * *theta_rad = math.radians(theta)*\n",
    "    * These lines declare and assign values to variables used within the function.\n",
    "    \n",
    "- Calculations: *v = math.sqrt( L*g / (math.sin(2*theta_rad)))*\n",
    "    * This line calculates the speed using the provided formula.\n",
    "    * The variables R, g, and theta_rad are used in the calculation.\n",
    "    * Return Statement:\n",
    "\n",
    "- Returning keyword/argument\n",
    "    * The return keyword is used to send a value back to the caller of the function.\n",
    "    * In this case, the calculated speed v is returned."
   ]
  },
  {
   "cell_type": "code",
   "execution_count": 92,
   "id": "126a7da4",
   "metadata": {},
   "outputs": [],
   "source": [
    "def polynomial(a,b,c,d,x):\n",
    "    return a*x**3 + b*x**2 + c*x + d \n",
    "# note that the calcuation is performed directly\n",
    "#at the line of returning argument"
   ]
  },
  {
   "cell_type": "code",
   "execution_count": 93,
   "id": "97e8dd58",
   "metadata": {},
   "outputs": [
    {
     "name": "stdout",
     "output_type": "stream",
     "text": [
      "16.375\n"
     ]
    }
   ],
   "source": [
    "print(polynomial(1, 2, 3, 4, 1.5))"
   ]
  },
  {
   "cell_type": "code",
   "execution_count": 94,
   "id": "e09cbcbf",
   "metadata": {},
   "outputs": [
    {
     "name": "stdout",
     "output_type": "stream",
     "text": [
      "16.375\n"
     ]
    }
   ],
   "source": [
    "c1, c2, c3, c4, c5 = 1, 2, 3, 4, 1.5 # assign values to multiple variables simultaneously\n",
    "print(polynomial(c1, c2, c3, c4, c5))"
   ]
  },
  {
   "cell_type": "markdown",
   "id": "1cef896c",
   "metadata": {},
   "source": [
    "**More than one returning arguments**"
   ]
  },
  {
   "cell_type": "code",
   "execution_count": 95,
   "id": "bddba706",
   "metadata": {},
   "outputs": [],
   "source": [
    "def speed( L, theta ): # the function has input arguments\n",
    "    g = 9.81 # the acceleration; \n",
    "    theta_rad = math.radians(theta) # converting the angle from degrees to radians \n",
    "    v = math.sqrt( L*g / (math.sin(2*theta_rad))) # calculate the speed\n",
    "    return v, v*math.cos(theta_rad) , v*math.sin(theta_rad)\n",
    "# Pay attention to the last line\n",
    "# I now have more than one returning arguments\n"
   ]
  },
  {
   "cell_type": "code",
   "execution_count": 97,
   "id": "d42fac1f",
   "metadata": {},
   "outputs": [
    {
     "name": "stdout",
     "output_type": "stream",
     "text": [
      "29.950398995672828 21.17813022908302 21.178130229083017\n"
     ]
    }
   ],
   "source": [
    "v, v_h, v_v = speed(100*yard, 45)\n",
    "print(v, v_h, v_v)"
   ]
  },
  {
   "cell_type": "markdown",
   "id": "b1963317",
   "metadata": {},
   "source": [
    "**Using list to organize multiple variables**"
   ]
  },
  {
   "cell_type": "code",
   "execution_count": 98,
   "id": "cac8afb2",
   "metadata": {},
   "outputs": [],
   "source": [
    "def speed( L, theta ): # the function has input arguments\n",
    "    g = 9.81 # the acceleration; \n",
    "    theta_rad = math.radians(theta) # converting the angle from degrees to radians \n",
    "    v = math.sqrt( L*g / (math.sin(2*theta_rad))) # calculate the speed\n",
    "    return [v, v*math.cos(theta_rad) , v*math.sin(theta_rad)]\n",
    "# note that i now have a set of square brackets containing the three quantities\n",
    "# this makes the returning argument a list"
   ]
  },
  {
   "cell_type": "code",
   "execution_count": 99,
   "id": "150485f4",
   "metadata": {},
   "outputs": [
    {
     "name": "stdout",
     "output_type": "stream",
     "text": [
      "[76.20708628467565, 53.886547486362495, 53.88654748636249]\n"
     ]
    }
   ],
   "source": [
    "velocity = speed(592,45)\n",
    "print(velocity)"
   ]
  },
  {
   "cell_type": "code",
   "execution_count": 100,
   "id": "fc439d25",
   "metadata": {},
   "outputs": [],
   "source": [
    "# I can of course use a list to organize multiple input arguments \n",
    "\n",
    "def speed( input_list ): # the function has input arguments\n",
    "    L = input_list[0]\n",
    "    theta = input_list[1]\n",
    "    g = 9.81 # the acceleration; \n",
    "    theta_rad = math.radians(theta) # converting the angle from degrees to radians \n",
    "    v = math.sqrt( L*g / (math.sin(2*theta_rad))) # calculate the speed\n",
    "    return [v, v*math.cos(theta_rad) , v*math.sin(theta_rad)]\n",
    "# note that i now have a set of square brackets containing the three quantities\n",
    "# this makes the returning argument a list\n"
   ]
  },
  {
   "cell_type": "code",
   "execution_count": 101,
   "id": "585580c8",
   "metadata": {},
   "outputs": [
    {
     "name": "stdout",
     "output_type": "stream",
     "text": [
      "[29.950398995672828, 21.17813022908302, 21.178130229083017]\n"
     ]
    }
   ],
   "source": [
    "input_list = [100*yard,45]\n",
    "velocity = speed(input_list)\n",
    "print(velocity)"
   ]
  },
  {
   "cell_type": "markdown",
   "id": "0dc143fc",
   "metadata": {},
   "source": [
    "#### Exercise for you"
   ]
  },
  {
   "cell_type": "code",
   "execution_count": null,
   "id": "79fd1ed6",
   "metadata": {},
   "outputs": [],
   "source": [
    "# Rewrite this function so that the input is a single list\n",
    "def polynomial(a,b,c,d,x):\n",
    "    return a*x**3 + b*x**2 + c*x + d \n",
    "\n",
    "input_list = [1,2,3,4,2.2]\n",
    "print( polynomial(input_list))"
   ]
  },
  {
   "cell_type": "markdown",
   "id": "fcad4df5",
   "metadata": {},
   "source": [
    "# Modules\n",
    "\n",
    "A module is a collection of functions that are built for you. You can *import* a module and *call* its function, so that you do not have to write it from the scratch.\n"
   ]
  },
  {
   "cell_type": "code",
   "execution_count": 102,
   "id": "415a199a",
   "metadata": {},
   "outputs": [
    {
     "name": "stdout",
     "output_type": "stream",
     "text": [
      "9.0\n"
     ]
    }
   ],
   "source": [
    "def squared_root_calculation(x):\n",
    "    return x**(0.5)\n",
    "\n",
    "print( squared_root_calculation(81))"
   ]
  },
  {
   "cell_type": "code",
   "execution_count": 103,
   "id": "0dec4883",
   "metadata": {},
   "outputs": [
    {
     "name": "stdout",
     "output_type": "stream",
     "text": [
      "9.0\n"
     ]
    }
   ],
   "source": [
    "import numpy as np\n",
    "\n",
    "print(np.sqrt(81))"
   ]
  },
  {
   "cell_type": "code",
   "execution_count": 104,
   "id": "23eb23d7",
   "metadata": {},
   "outputs": [
    {
     "name": "stdout",
     "output_type": "stream",
     "text": [
      "[1.38550884e-01 2.00426159e-01 1.61674401e-01 2.21259432e-01\n",
      " 7.58661376e-01 1.74639538e-01 7.57619706e-01 7.81122128e-01\n",
      " 7.66426152e-01 5.44776293e-01 7.42639777e-01 2.42737916e-01\n",
      " 4.30341021e-01 3.31030264e-01 4.53699858e-01 6.04533968e-01\n",
      " 6.84577267e-02 5.52616213e-01 7.25533804e-01 6.36163191e-01\n",
      " 1.37205524e-01 3.74199979e-01 2.28317937e-01 4.11178537e-01\n",
      " 6.00038491e-01 1.14651527e-01 9.51697898e-01 5.75500880e-02\n",
      " 8.66623008e-01 2.21107520e-02 6.77210950e-01 8.24553375e-01\n",
      " 3.03496624e-01 2.55880326e-01 8.15017191e-01 3.01033545e-01\n",
      " 6.04350656e-01 5.66022429e-01 8.98205393e-02 6.60070185e-01\n",
      " 4.00946937e-01 6.72040237e-01 1.80658886e-02 1.51644858e-01\n",
      " 1.60782084e-01 6.08484478e-01 3.72318377e-01 2.92208804e-01\n",
      " 8.29025875e-01 4.04287591e-01 4.26724695e-01 5.39415680e-01\n",
      " 3.50404042e-01 9.79758532e-01 7.38487827e-01 9.25464371e-02\n",
      " 2.64399382e-01 4.24163164e-01 7.90394371e-01 5.11651039e-01\n",
      " 1.22000474e-01 2.36101725e-01 8.87514724e-01 6.45587483e-01\n",
      " 5.93451132e-01 7.72073704e-01 8.36512110e-01 3.07632992e-01\n",
      " 1.15491990e-01 9.02444126e-01 9.95162367e-01 9.77642559e-01\n",
      " 1.58839050e-01 7.09434011e-01 1.93315965e-01 2.17724566e-01\n",
      " 4.76580014e-01 1.25641869e-02 9.63926716e-01 2.71470287e-01\n",
      " 2.76955592e-01 2.88825800e-01 4.11925744e-01 9.27963071e-01\n",
      " 8.26757119e-01 4.03948921e-01 4.53897560e-01 6.90344738e-01\n",
      " 8.34137074e-01 1.71239096e-01 6.81656678e-01 6.89247050e-01\n",
      " 9.27047192e-02 8.16737935e-01 3.83023272e-01 9.36345735e-01\n",
      " 1.69772725e-01 3.49296279e-02 6.10821424e-01 1.92848357e-01\n",
      " 5.57610313e-01 5.78985434e-01 1.28601116e-01 1.51143319e-02\n",
      " 1.21029567e-01 2.53524615e-01 9.98828033e-02 8.62719447e-01\n",
      " 4.39404601e-01 3.34650023e-01 4.78483045e-01 3.64134367e-01\n",
      " 9.27062087e-01 8.75155199e-01 5.60808766e-01 8.30339540e-01\n",
      " 8.71407976e-01 6.75043078e-01 3.36132825e-01 1.47208149e-01\n",
      " 9.48381646e-01 3.08854670e-01 6.27896062e-01 4.29241022e-01\n",
      " 1.18868490e-01 2.01437701e-01 6.32873937e-01 2.41501839e-02\n",
      " 5.29766773e-01 2.05986800e-01 6.03623900e-01 4.10335978e-02\n",
      " 5.15606639e-01 6.21369230e-01 7.48374271e-01 8.39522084e-01\n",
      " 5.66089508e-01 7.86471582e-02 3.94220829e-01 1.39604090e-01\n",
      " 2.96649587e-01 5.74005073e-02 7.93041156e-01 8.70288120e-01\n",
      " 8.16461954e-01 9.84718320e-01 3.52941860e-01 1.11472563e-01\n",
      " 2.95065168e-01 5.85540176e-01 5.69793894e-01 9.27979511e-01\n",
      " 6.81252784e-02 3.46894261e-02 8.04424093e-01 7.43040665e-01\n",
      " 1.81091757e-01 5.70580408e-01 4.73625505e-02 5.87365771e-01\n",
      " 1.02656554e-01 2.92012343e-01 2.38038300e-01 8.72673290e-01\n",
      " 6.40547274e-01 6.55763098e-01 9.58898515e-01 4.71655576e-01\n",
      " 4.93261151e-01 8.61951359e-01 4.60651189e-01 3.05526115e-01\n",
      " 6.07614332e-01 5.70034596e-01 8.84685253e-01 4.48151280e-01\n",
      " 4.60907913e-01 2.47721197e-01 3.19959296e-01 7.18212260e-01\n",
      " 4.36831326e-01 6.66490572e-02 4.85262424e-01 5.28376678e-02\n",
      " 5.05183642e-01 3.83102222e-01 1.13418946e-01 8.13263004e-01\n",
      " 1.46135489e-01 4.11265668e-01 3.34677864e-01 5.06328778e-01\n",
      " 9.93687536e-01 7.36641685e-01 6.66110042e-01 9.23298792e-02\n",
      " 5.74990608e-01 6.38374835e-01 6.00402935e-01 3.68043885e-01\n",
      " 6.99024132e-01 1.55319085e-01 6.90434995e-01 8.12483858e-01\n",
      " 5.76877254e-01 4.61928356e-01 2.62197588e-01 9.04260985e-01\n",
      " 2.35944862e-01 9.75982861e-01 5.65879220e-01 1.91187695e-01\n",
      " 4.49097697e-01 2.98898333e-01 8.57292796e-01 4.27026028e-01\n",
      " 9.09273296e-01 9.30920544e-01 1.64546897e-01 2.88193187e-01\n",
      " 5.60505753e-01 7.31742041e-01 8.49621781e-01 8.22561057e-01\n",
      " 9.15704303e-01 8.63285534e-01 1.37967451e-01 1.11573824e-01\n",
      " 6.62099870e-01 9.39245100e-03 4.82025221e-01 4.62168816e-02\n",
      " 7.94856879e-01 5.61825840e-01 7.46573629e-01 6.58893144e-01\n",
      " 5.65758200e-01 7.74013599e-01 8.62594241e-01 1.85798398e-02\n",
      " 9.55234613e-01 4.03995525e-01 8.79623117e-01 4.76231166e-01\n",
      " 3.07808915e-01 3.62506319e-01 6.26646378e-01 3.34140162e-01\n",
      " 7.22843909e-01 4.14606918e-01 8.06496360e-01 7.37721710e-01\n",
      " 3.86624521e-01 6.02927982e-01 7.43447601e-01 3.97661663e-01\n",
      " 7.93733529e-01 9.60755944e-02 7.45558611e-01 1.73330425e-01\n",
      " 3.15016287e-01 2.41662968e-01 3.51770404e-01 7.35697060e-01\n",
      " 8.13152666e-02 5.42909016e-01 2.94405579e-01 1.03903154e-01\n",
      " 7.70254573e-01 3.22830773e-01 2.01021823e-02 5.43355831e-01\n",
      " 7.69001198e-01 7.00400924e-01 8.50966131e-02 6.51139976e-01\n",
      " 6.81481275e-01 7.56205137e-01 3.98925166e-01 1.32378304e-01\n",
      " 7.13300442e-01 4.44011721e-01 4.29558254e-01 4.97486527e-01\n",
      " 6.21422397e-01 4.44143139e-01 5.27904650e-01 3.90512984e-01\n",
      " 1.96549985e-01 4.01048928e-01 2.29379329e-01 6.44551315e-01\n",
      " 3.82660303e-01 3.22102420e-01 5.60101279e-01 4.20588889e-01\n",
      " 1.81076786e-01 1.36544671e-01 5.22773802e-01 9.37130051e-01\n",
      " 7.41084092e-02 8.17641711e-01 9.38848172e-01 9.59808971e-01\n",
      " 9.44353500e-01 3.72836638e-01 3.58716585e-03 7.92183383e-01\n",
      " 6.77254702e-02 9.64119950e-01 7.80937462e-01 6.22399101e-01\n",
      " 3.95718861e-01 4.51423798e-01 8.30821691e-01 1.05771601e-01\n",
      " 3.34060122e-01 7.56534594e-01 4.66570674e-01 7.99445334e-01\n",
      " 4.59835815e-01 2.47337526e-01 9.38857915e-02 7.63939364e-01\n",
      " 2.06176347e-01 3.12766070e-01 8.70296464e-01 7.96273105e-01\n",
      " 8.92163627e-01 3.02971908e-01 7.23373401e-01 5.38073727e-01\n",
      " 1.19400026e-01 5.22765316e-01 4.58952315e-01 9.61844342e-01\n",
      " 4.28044039e-01 6.96106076e-01 4.24157926e-01 6.47333967e-02\n",
      " 1.04966150e-01 4.62163876e-01 6.74484980e-01 4.78630446e-02\n",
      " 3.72806365e-01 4.18933007e-02 3.85943594e-01 2.42163615e-01\n",
      " 5.81905289e-01 3.39527063e-01 2.24837633e-02 4.43911353e-02\n",
      " 5.44566265e-01 9.16706101e-01 6.93721351e-01 9.38538216e-01\n",
      " 1.91813507e-01 1.53829036e-02 1.82197493e-01 9.07182018e-01\n",
      " 4.77939302e-01 7.90420147e-01 1.72739475e-01 1.66822196e-02\n",
      " 5.83916916e-01 2.44745552e-01 5.78441708e-01 8.27598626e-01\n",
      " 5.88988038e-01 8.13051855e-01 3.15412111e-01 6.68458712e-01\n",
      " 3.52141211e-01 9.48237784e-01 4.71248826e-01 1.15023711e-01\n",
      " 3.97487494e-01 8.78930592e-02 1.43586510e-01 9.20183494e-02\n",
      " 9.83692168e-01 7.90998387e-01 2.43985899e-01 8.40567753e-01\n",
      " 7.24092773e-01 4.26132641e-02 2.32849011e-01 8.86678515e-01\n",
      " 4.36504545e-01 6.28126398e-01 4.43421227e-01 1.51244720e-01\n",
      " 9.44893219e-01 1.08818563e-01 5.86402928e-01 4.12457596e-01\n",
      " 5.67586709e-02 4.95122140e-02 9.32411778e-01 5.67710059e-01\n",
      " 2.97323124e-01 9.12947828e-01 6.91562525e-01 7.25287192e-01\n",
      " 9.32221169e-01 7.78300249e-01 6.10297873e-01 1.64967361e-01\n",
      " 6.13423136e-01 8.04974371e-01 1.86571358e-01 7.53203914e-03\n",
      " 2.09171183e-02 6.71296252e-01 1.58188487e-02 7.94436366e-02\n",
      " 9.34210935e-01 4.48263168e-01 1.78866998e-01 7.30830386e-01\n",
      " 1.33428283e-01 2.97085748e-01 3.80285133e-01 8.85770444e-01\n",
      " 7.57392413e-01 4.66190445e-01 1.63007719e-01 1.57011678e-01\n",
      " 4.77555951e-01 8.36125633e-01 8.52129439e-01 9.87325445e-01\n",
      " 3.42176230e-01 5.13877351e-01 9.69405826e-01 7.08534162e-02\n",
      " 5.15006530e-02 6.07866297e-01 5.72991572e-01 7.41443567e-01\n",
      " 6.45992688e-02 3.67310309e-01 1.44635058e-01 4.61626391e-01\n",
      " 2.43084263e-01 4.58813491e-01 4.69046995e-01 9.71404563e-01\n",
      " 4.75018879e-01 3.47019627e-01 3.02003242e-01 2.87317985e-01\n",
      " 7.55906270e-01 1.13740467e-01 5.44695648e-01 7.40385839e-01\n",
      " 6.68049343e-01 5.81925684e-01 2.60097219e-01 7.01236285e-01\n",
      " 6.16484535e-01 5.79713797e-01 7.29481950e-01 6.06657373e-01\n",
      " 7.87193555e-01 6.65675758e-01 8.88658556e-01 1.03069639e-01\n",
      " 9.24164692e-01 2.24722215e-02 1.29304638e-01 5.33629647e-01\n",
      " 3.83993384e-01 5.62661403e-01 9.46950152e-02 7.24768655e-01\n",
      " 7.47642020e-01 4.70054123e-01 2.25433462e-01 6.92339053e-01\n",
      " 7.76343480e-01 8.78355009e-01 9.07624719e-01 2.94852729e-01\n",
      " 9.53429390e-01 5.58400179e-01 3.18724418e-01 9.30476469e-01\n",
      " 5.74941267e-01 3.61078773e-02 2.65967177e-01 3.29282841e-01\n",
      " 5.45536080e-01 2.48207124e-01 3.40571161e-01 1.94343187e-01\n",
      " 6.77802568e-01 7.40874137e-01 2.06528414e-01 5.49784478e-01\n",
      " 4.69910986e-01 6.79998836e-01 4.89583866e-01 1.85854484e-01\n",
      " 4.45247438e-01 6.63588069e-01 7.72928307e-01 9.07622231e-01\n",
      " 6.93889877e-01 5.84219683e-01 5.46950634e-01 5.97656179e-01\n",
      " 4.34173094e-01 2.72467649e-01 6.17953966e-01 8.45334992e-01\n",
      " 9.83969547e-01 8.90807171e-01 2.58145900e-01 5.63103027e-01\n",
      " 5.17635514e-01 1.14821704e-02 9.42081123e-01 2.16982492e-01\n",
      " 4.45233136e-01 6.32616299e-01 8.90479115e-01 6.00941976e-02\n",
      " 7.30850000e-01 6.36194833e-01 4.69284161e-02 2.94899705e-01\n",
      " 5.21334255e-01 9.99896803e-01 5.47760075e-01 2.46929761e-01\n",
      " 2.59015402e-01 8.35753245e-01 7.38595079e-01 9.77338079e-01\n",
      " 5.40798583e-01 7.09641711e-01 1.04806560e-01 1.34565437e-01\n",
      " 1.21882326e-02 4.07367632e-01 5.17232703e-01 5.66029829e-01\n",
      " 2.88745245e-01 8.32485450e-01 9.17613358e-01 3.37625991e-01\n",
      " 9.99144411e-01 1.49141543e-01 4.80037234e-02 7.82653410e-01\n",
      " 6.90397063e-03 3.25354113e-01 4.22629278e-01 5.47588898e-01\n",
      " 4.06946856e-01 5.65243933e-01 2.86125272e-01 9.74983834e-01\n",
      " 2.57245595e-01 3.48605872e-01 6.52805953e-01 6.25195838e-01\n",
      " 8.25381501e-01 1.35341921e-02 6.28852097e-01 5.61511606e-01\n",
      " 8.39513120e-01 6.28085438e-01 8.83328726e-01 4.43316866e-01\n",
      " 8.52704957e-01 4.42663013e-01 7.63296830e-01 9.57370702e-01\n",
      " 7.39014098e-01 1.08153053e-01 5.97023712e-01 4.89444774e-02\n",
      " 5.25764021e-03 1.86323168e-02 2.78153697e-01 4.82217405e-01\n",
      " 6.62778674e-01 1.46809478e-01 6.77680888e-01 9.71652007e-01\n",
      " 5.15823955e-01 4.01329175e-01 3.26488605e-01 4.83445677e-01\n",
      " 7.20935384e-01 4.98228139e-02 8.79683520e-01 9.36665455e-01\n",
      " 3.41226822e-01 7.18196610e-01 1.46418262e-01 4.66355503e-01\n",
      " 8.99579531e-02 4.29077544e-01 3.71448656e-01 9.85350788e-01\n",
      " 2.62760993e-01 9.36799571e-02 5.67210914e-01 4.90528492e-01\n",
      " 8.81060091e-01 3.18539652e-01 4.91495216e-01 1.96707058e-01\n",
      " 7.70620195e-01 9.17963827e-01 4.79260316e-01 4.67955328e-01\n",
      " 1.88845352e-02 5.61594009e-01 6.69746265e-01 9.79874773e-01\n",
      " 5.87500884e-01 8.36850546e-01 2.42489186e-01 7.27525671e-01\n",
      " 8.18210022e-01 1.82927826e-01 1.62619272e-01 5.86867250e-01\n",
      " 7.48068133e-01 7.53823578e-01 8.47815970e-01 9.20782103e-01\n",
      " 6.53348817e-01 4.78347901e-01 9.57531486e-01 4.56486238e-01\n",
      " 3.29336180e-01 8.55391289e-03 3.17016773e-01 2.06149930e-01\n",
      " 1.99245785e-01 6.94383451e-01 9.67755101e-01 6.54872368e-01\n",
      " 9.29879807e-01 9.34051174e-01 2.57339592e-01 9.65903676e-01\n",
      " 6.42503871e-01 9.03010832e-02 9.70035387e-01 3.54533223e-01\n",
      " 6.14032938e-01 1.25471379e-01 7.53859987e-01 8.60848785e-01\n",
      " 1.55421764e-01 9.10815490e-01 7.75356441e-01 4.11907044e-01\n",
      " 5.47746558e-02 4.43367949e-01 3.91797195e-01 9.70840441e-01\n",
      " 8.57034385e-01 3.63172504e-01 5.55570547e-01 8.50474488e-01\n",
      " 9.82798228e-01 5.22742938e-01 9.99175473e-01 9.89577247e-01\n",
      " 7.58108575e-01 7.70012959e-01 7.46190245e-01 9.81432395e-01\n",
      " 9.77631465e-01 8.10851736e-01 6.16784790e-01 8.62424753e-02\n",
      " 5.96158759e-01 2.96221416e-01 7.09735089e-01 3.73478125e-01\n",
      " 6.07877885e-01 2.78405543e-01 2.24267068e-01 1.14941772e-01\n",
      " 3.95552878e-01 8.06420675e-01 9.60168362e-01 2.00646063e-01\n",
      " 4.24350515e-01 2.56059432e-01 8.80620269e-01 5.89302324e-01\n",
      " 1.24282002e-01 6.10075214e-01 4.54846788e-01 8.65738338e-01\n",
      " 4.76408924e-01 8.27629908e-01 4.27657208e-01 1.55488540e-02\n",
      " 2.01712442e-01 2.77825538e-01 1.34150235e-01 9.89347717e-01\n",
      " 6.40084728e-01 7.75888024e-01 5.05327230e-01 1.76264892e-01\n",
      " 7.79507473e-01 2.51645979e-01 4.52094880e-01 2.07478846e-02\n",
      " 9.92824197e-01 1.77604776e-01 4.44164733e-01 1.14761223e-01\n",
      " 3.33726523e-02 6.57179830e-01 9.57590044e-01 7.61964714e-01\n",
      " 9.79141953e-02 2.99578329e-01 4.95105436e-01 9.43385806e-01\n",
      " 1.88754336e-01 6.00435140e-01 1.94889038e-01 9.47752707e-01\n",
      " 9.44144614e-01 6.39430054e-01 2.88467530e-01 4.16688844e-01\n",
      " 5.85752859e-01 3.36080897e-01 3.60275082e-01 6.83849303e-01\n",
      " 8.06506106e-01 6.23458284e-02 2.25262306e-01 3.40959832e-01\n",
      " 6.99441740e-01 2.73801000e-01 2.12608755e-01 8.27961238e-01\n",
      " 3.11431754e-01 6.93721030e-01 9.52135807e-01 9.80321493e-01\n",
      " 4.84986825e-01 8.75064319e-01 6.85878940e-03 3.94291735e-01\n",
      " 7.91975458e-01 2.18064716e-01 3.92429831e-02 2.42184589e-01\n",
      " 6.08628965e-01 9.82391080e-01 1.66842895e-01 1.38322094e-01\n",
      " 2.32950620e-02 6.74192885e-01 5.52463609e-02 1.96252574e-01\n",
      " 4.39434900e-01 4.37403487e-01 4.99151712e-01 6.03117566e-01\n",
      " 5.90237858e-01 5.74167139e-01 9.36179043e-01 3.72918929e-01\n",
      " 7.95316958e-01 3.14838953e-01 8.08839222e-01 3.84865036e-01\n",
      " 8.32089934e-01 4.54417094e-01 4.94680129e-01 2.55052349e-01\n",
      " 2.13888332e-01 3.36812855e-01 1.32651859e-01 1.09704195e-01\n",
      " 8.58251831e-01 7.43459558e-01 4.78867349e-01 9.35535869e-01\n",
      " 7.12164764e-01 8.26256535e-01 8.82154851e-01 9.67351104e-02\n",
      " 7.93954840e-01 9.82748161e-01 9.16491636e-01 8.78171188e-01\n",
      " 2.25642483e-01 6.12436574e-01 3.35372069e-01 4.26639707e-01\n",
      " 5.55011323e-01 4.24221176e-02 3.17324489e-01 6.37720378e-01\n",
      " 7.04456605e-01 9.95811211e-01 2.88546874e-01 6.35297451e-01\n",
      " 8.06137635e-01 1.03616234e-01 6.28991769e-01 5.97933558e-01\n",
      " 1.86041598e-02 2.43694882e-01 3.16772835e-01 4.16477770e-01\n",
      " 8.93610070e-02 1.46721181e-01 9.98557630e-01 6.97478992e-02\n",
      " 3.42443815e-01 9.75598106e-01 9.42696962e-01 7.01128070e-01\n",
      " 4.02597315e-01 9.72937012e-01 1.64210256e-01 9.04097271e-01\n",
      " 1.58321709e-01 3.35275780e-01 1.91348504e-01 5.97220033e-01\n",
      " 5.27200037e-01 7.30681438e-01 9.07937479e-01 2.91380974e-01\n",
      " 5.27240376e-01 4.28682944e-01 5.67879782e-01 6.40302634e-01\n",
      " 1.85672899e-01 6.62129637e-01 3.75724668e-01 5.19851040e-01\n",
      " 4.47210104e-01 5.64405929e-01 5.89918140e-01 7.00470062e-01\n",
      " 7.92325797e-01 8.71528501e-02 6.26635049e-01 9.12261964e-01\n",
      " 4.66294370e-01 5.33787802e-01 5.67043362e-01 9.21624252e-01\n",
      " 2.98497634e-01 1.59252890e-01 4.75537365e-01 7.30260893e-01\n",
      " 6.70630949e-01 8.89077288e-01 6.09726250e-01 8.47723455e-01\n",
      " 5.44994321e-01 2.68886691e-01 1.50453431e-02 9.84218342e-01\n",
      " 9.03857217e-01 3.78684976e-01 5.18385494e-01 1.87852193e-01\n",
      " 3.35296590e-01 4.68917329e-01 6.57582812e-01 7.16898199e-01\n",
      " 8.25915399e-01 3.32426637e-01 8.50886623e-01 5.42347088e-01\n",
      " 8.93348256e-01 9.36600017e-01 6.79577670e-01 3.52579921e-01\n",
      " 6.28977135e-01 4.05301896e-01 8.07619209e-01 8.13404406e-01\n",
      " 7.81401998e-01 5.54053015e-01 6.24564423e-01 8.94974870e-01\n",
      " 8.54157019e-01 3.20051492e-01 3.76236410e-02 1.96413538e-01\n",
      " 4.42452567e-01 6.36790333e-01 4.76646992e-01 4.34808284e-01\n",
      " 7.10753709e-01 4.21471624e-01 3.71049341e-01 4.38433562e-01\n",
      " 3.41389242e-03 8.51540815e-01 4.34120878e-01 5.78590164e-01\n",
      " 2.99087724e-01 3.70638542e-01 2.62732898e-01 5.95425750e-01\n",
      " 5.65791868e-01 7.25901913e-01 9.11050353e-01 3.43823755e-01\n",
      " 5.36542069e-01 5.06485024e-01 5.90454417e-01 5.37740673e-01\n",
      " 6.91789759e-01 1.21591568e-01 2.11399750e-01 8.75230532e-01\n",
      " 1.87719229e-01 7.59208876e-02 9.58043923e-02 2.93008482e-01\n",
      " 8.87776443e-01 2.18095345e-01 8.09654858e-01 1.94141649e-01\n",
      " 9.90716722e-01 9.61855817e-02 6.54431471e-02 3.25224096e-04\n",
      " 7.41914471e-01 5.15916965e-01 5.14369473e-01 5.17098423e-01\n",
      " 7.99651524e-03 6.68637338e-01 9.59410780e-01 8.95612559e-01\n",
      " 2.43002473e-01 7.14156670e-01 7.65018594e-01 6.80134243e-01\n",
      " 6.47142974e-01 1.74344213e-01 9.12334946e-02 2.36295778e-01\n",
      " 2.65590381e-01 3.23228028e-01 7.47649748e-01 6.12314945e-01\n",
      " 4.88068956e-01 5.09742269e-01 5.51377263e-01 2.60667190e-01\n",
      " 4.46450013e-01 8.70736786e-01 3.69752540e-01 8.31922502e-03\n",
      " 5.87044345e-01 7.35488289e-01 2.95325214e-01 8.50374430e-01\n",
      " 3.54298030e-01 8.20210992e-01 3.66001064e-01 8.49703714e-01\n",
      " 1.54264361e-01 9.01060186e-01 9.31382131e-01 4.66810046e-01\n",
      " 2.41171875e-01 9.90397058e-01 9.64339094e-01 7.71672319e-01\n",
      " 4.07519466e-01 8.63294171e-01 1.50604136e-01 3.52989977e-02\n",
      " 2.26323665e-01 4.61931203e-01 5.15963383e-01 9.81490301e-01\n",
      " 9.98116661e-01 8.97017920e-01 3.04296301e-01 3.36000504e-01]\n"
     ]
    }
   ],
   "source": [
    "import numpy as np\n",
    "\n",
    "\n",
    "N = 1000\n",
    "\n",
    "# Generate an array of N random numbers between 0 and 1\n",
    "\n",
    "random_numbers = np.random.rand(N)\n",
    "\n",
    "print(random_numbers)\n"
   ]
  },
  {
   "cell_type": "code",
   "execution_count": 105,
   "id": "b7326e3d",
   "metadata": {},
   "outputs": [
    {
     "data": {
      "text/plain": [
       "(array([ 99.,  97.,  92.,  94., 113., 107., 100.,  97.,  95., 106.]),\n",
       " array([3.25224096e-04, 1.00282382e-01, 2.00239540e-01, 3.00196698e-01,\n",
       "        4.00153856e-01, 5.00111014e-01, 6.00068171e-01, 7.00025329e-01,\n",
       "        7.99982487e-01, 8.99939645e-01, 9.99896803e-01]),\n",
       " <BarContainer object of 10 artists>)"
      ]
     },
     "execution_count": 105,
     "metadata": {},
     "output_type": "execute_result"
    },
    {
     "data": {
      "image/png": "[encoded data removed]",
      "text/plain": [
       "<Figure size 640x480 with 1 Axes>"
      ]
     },
     "metadata": {},
     "output_type": "display_data"
    }
   ],
   "source": [
    "import matplotlib.pyplot as plt\n",
    "# matplotlib is a module\n",
    "# pyplot is a submodule of matplotlib\n",
    "\n",
    "plt.hist(random_numbers)\n",
    "# use the alias of the submodule pyplot to call a function of that submodule\n",
    "# this function is \"hist\", plotting the data points as a histogram\n",
    "# the function has an input argument, which is random_numbers, in this case, a numpy array"
   ]
  },
  {
   "cell_type": "code",
   "execution_count": 106,
   "id": "fb0fae1b",
   "metadata": {},
   "outputs": [
    {
     "data": {
      "text/plain": [
       "Text(0, 0.5, 'Number of entries')"
      ]
     },
     "execution_count": 106,
     "metadata": {},
     "output_type": "execute_result"
    },
    {
     "data": {
      "image/png": "[encoded data removed]",
      "text/plain": [
       "<Figure size 640x480 with 1 Axes>"
      ]
     },
     "metadata": {},
     "output_type": "display_data"
    }
   ],
   "source": [
    "plt.hist(random_numbers)\n",
    "plt.xlabel('random number')\n",
    "plt.ylabel('Number of entries')"
   ]
  },
  {
   "cell_type": "markdown",
   "id": "2eddd35d",
   "metadata": {},
   "source": [
    "## Some other modules"
   ]
  },
  {
   "cell_type": "code",
   "execution_count": 107,
   "id": "284f35fe",
   "metadata": {},
   "outputs": [
    {
     "name": "stdout",
     "output_type": "stream",
     "text": [
      "Python version: 3.10.13 (main, Sep 11 2023, 08:39:02) [Clang 14.0.6 ]\n"
     ]
    }
   ],
   "source": [
    "import sys\n",
    "# Get the Python version information\n",
    "print(\"Python version:\", sys.version)"
   ]
  },
  {
   "cell_type": "code",
   "execution_count": 110,
   "id": "e69f13ef",
   "metadata": {},
   "outputs": [
    {
     "name": "stdout",
     "output_type": "stream",
     "text": [
      "Current time: 1706564845.4884632\n",
      "Current human-readable time: 2024-01-29 13:47:25\n",
      "Sleeping for 2 seconds...\n",
      "Awake now!\n",
      "Elapsed time: 2.005401134490967 seconds\n"
     ]
    }
   ],
   "source": [
    "import time\n",
    "\n",
    "# Get the current time in seconds since the epoch (January 1, 1970)\n",
    "current_time = time.time()\n",
    "print(\"Current time:\", current_time)\n",
    "\n",
    "# Convert the current time to a struct_time object\n",
    "time_struct = time.localtime(current_time)\n",
    "\n",
    "# Format the time as a human-readable string\n",
    "human_readable_time = time.strftime(\"%Y-%m-%d %H:%M:%S\", time_struct)\n",
    "\n",
    "print(\"Current human-readable time:\", human_readable_time)\n",
    "\n",
    "\n",
    "# Sleep for 2 seconds\n",
    "print(\"Sleeping for 2 seconds...\")\n",
    "time.sleep(2)\n",
    "print(\"Awake now!\")\n",
    "\n",
    "# Measure the time taken to execute a code block\n",
    "start_time = time.time()\n",
    "# Code to be measured\n",
    "time.sleep(2)\n",
    "end_time = time.time()\n",
    "elapsed_time = end_time - start_time\n",
    "print(\"Elapsed time:\", elapsed_time, \"seconds\")\n"
   ]
  },
  {
   "cell_type": "code",
   "execution_count": null,
   "id": "2ab08dff",
   "metadata": {},
   "outputs": [],
   "source": [
    "import datetime\n",
    "\n",
    "# Get the current date and time\n",
    "current_datetime = datetime.datetime.now()\n",
    "\n",
    "# Format the datetime as a human-readable string\n",
    "human_readable_datetime = current_datetime.strftime(\"%Y-%m-%d %H:%M:%S\")\n",
    "\n",
    "print(\"Current human-readable datetime:\", human_readable_datetime)\n"
   ]
  },
  {
   "cell_type": "markdown",
   "id": "6e08619b",
   "metadata": {},
   "source": [
    "# a fun exercise"
   ]
  },
  {
   "cell_type": "code",
   "execution_count": 112,
   "id": "ecaacb9b",
   "metadata": {},
   "outputs": [],
   "source": [
    "# First rewrite the speed function using numpy functions\n",
    "\n",
    "import numpy as np # Import modules \n",
    "\n",
    "def speed( R, theta ): # the function has input arguments\n",
    "    g = 9.81 # the acceleration; \n",
    "    theta_rad = np.deg2rad(theta) # converting the angle from degrees to radians \n",
    "    v = np.sqrt( R*g / (np.cos(theta_rad) * np.sin(theta_rad) *2)) # calculate the speed\n",
    "    return v # return the calculated value\n",
    "\n"
   ]
  },
  {
   "cell_type": "code",
   "execution_count": 113,
   "id": "5df5554a",
   "metadata": {},
   "outputs": [
    {
     "name": "stdout",
     "output_type": "stream",
     "text": [
      "[ 1.  2.  3.  4.  5.  6.  7.  8.  9. 10. 11. 12. 13. 14. 15. 16. 17. 18.\n",
      " 19. 20. 21. 22. 23. 24. 25. 26. 27. 28. 29. 30. 31. 32. 33. 34. 35. 36.\n",
      " 37. 38. 39. 40. 41. 42. 43. 44. 45. 46. 47. 48. 49. 50. 51. 52. 53. 54.\n",
      " 55. 56. 57. 58. 59. 60. 61. 62. 63. 64. 65. 66. 67. 68. 69. 70. 71. 72.\n",
      " 73. 74. 75. 76. 77. 78. 79. 80. 81. 82. 83. 84. 85. 86. 87. 88. 89.]\n"
     ]
    }
   ],
   "source": [
    "# Now I consider the distance as a constant R = 592\n",
    "R = 100\n",
    "# I wanted to visualize how the launch speed depends on the launch angle\n",
    "\n",
    "# I am using a function of numpy module called linspace\n",
    "# it's generating a series of uniformly spaced values between 1 and 89\n",
    "# returns a numpy array that stores these values\n",
    "angle_values = np.linspace(1,89,89)\n",
    "print(angle_values)"
   ]
  },
  {
   "cell_type": "code",
   "execution_count": 114,
   "id": "1d1a7090",
   "metadata": {},
   "outputs": [],
   "source": [
    "speed_values = speed(R, angle_values)\n",
    "# because all the operations in the speed function are now written using numpy functions\n",
    "# I can use numpy array as input argument"
   ]
  },
  {
   "cell_type": "code",
   "execution_count": 115,
   "id": "96dadfc4",
   "metadata": {},
   "outputs": [
    {
     "name": "stdout",
     "output_type": "stream",
     "text": [
      "[167.6582473  118.58840952  96.87622805  83.95698839  75.1621836\n",
      "  68.69024234  63.67909979  59.65755718  56.34343516  53.55606517\n",
      "  51.17369721  49.11089555  47.30570541  45.7119616   44.29446918\n",
      "  43.02586892  41.88453305  40.85311354  39.91751658  39.06616278\n",
      "  38.28944366  37.57931566  36.92899244  36.33270851  35.7855355\n",
      "  35.28323779  34.82215797  34.3991251   34.01138065  33.65651836\n",
      "  33.33243495  33.03728959  32.76947038  32.5275665   32.31034501\n",
      "  32.1167315   31.94579388  31.79672893  31.668851    31.56158276\n",
      "  31.47444755  31.40706325  31.35913746  31.33046382  31.32091953\n",
      "  31.33046382  31.35913746  31.40706325  31.47444755  31.56158276\n",
      "  31.668851    31.79672893  31.94579388  32.1167315   32.31034501\n",
      "  32.5275665   32.76947038  33.03728959  33.33243495  33.65651836\n",
      "  34.01138065  34.3991251   34.82215797  35.28323779  35.7855355\n",
      "  36.33270851  36.92899244  37.57931566  38.28944366  39.06616278\n",
      "  39.91751658  40.85311354  41.88453305  43.02586892  44.29446918\n",
      "  45.7119616   47.30570541  49.11089555  51.17369721  53.55606517\n",
      "  56.34343516  59.65755718  63.67909979  68.69024234  75.1621836\n",
      "  83.95698839  96.87622805 118.58840952 167.6582473 ]\n"
     ]
    }
   ],
   "source": [
    "print(speed_values)"
   ]
  },
  {
   "cell_type": "code",
   "execution_count": 118,
   "id": "10377dc8",
   "metadata": {},
   "outputs": [
    {
     "data": {
      "text/plain": [
       "Text(0.5, 0, 'degrees')"
      ]
     },
     "execution_count": 118,
     "metadata": {},
     "output_type": "execute_result"
    },
    {
     "data": {
      "image/png": "[encoded data removed]",
      "text/plain": [
       "<Figure size 640x480 with 1 Axes>"
      ]
     },
     "metadata": {},
     "output_type": "display_data"
    }
   ],
   "source": [
    "#Let's plot it\n",
    "\n",
    "#import the right module\n",
    "\n",
    "import matplotlib.pyplot as plt\n",
    "\n",
    "plt.plot(angle_values, speed_values)\n",
    "\n",
    "plt.ylabel('speed [m/s]')\n",
    "plt.xlabel('degrees')"
   ]
  },
  {
   "cell_type": "code",
   "execution_count": 119,
   "id": "c3d35df4",
   "metadata": {},
   "outputs": [
    {
     "data": {
      "text/plain": [
       "Text(0.5, 0, 'degrees')"
      ]
     },
     "execution_count": 119,
     "metadata": {},
     "output_type": "execute_result"
    },
    {
     "data": {
      "image/png": "[encoded data removed]",
      "text/plain": [
       "<Figure size 640x480 with 1 Axes>"
      ]
     },
     "metadata": {},
     "output_type": "display_data"
    }
   ],
   "source": [
    "plt.scatter(angle_values, speed_values)\n",
    "\n",
    "plt.ylabel('speed [m/s]')\n",
    "plt.xlabel('degrees')"
   ]
  },
  {
   "cell_type": "code",
   "execution_count": 121,
   "id": "facf0fe8",
   "metadata": {},
   "outputs": [
    {
     "data": {
      "text/plain": [
       "<matplotlib.legend.Legend at 0x7ff1b0b17340>"
      ]
     },
     "execution_count": 121,
     "metadata": {},
     "output_type": "execute_result"
    },
    {
     "data": {
      "image/png": "[encoded data removed]",
      "text/plain": [
       "<Figure size 640x480 with 1 Axes>"
      ]
     },
     "metadata": {},
     "output_type": "display_data"
    }
   ],
   "source": [
    "plt.plot(angle_values, speed_values,label='Launch speed vs angle')\n",
    "\n",
    "plt.ylabel('speed [m/s]')\n",
    "plt.xlabel('degrees')\n",
    "plt.legend()"
   ]
  },
  {
   "cell_type": "code",
   "execution_count": 122,
   "id": "29dbcf3b",
   "metadata": {},
   "outputs": [],
   "source": [
    "speed_values_distance1000 = speed(1000, angle_values)"
   ]
  },
  {
   "cell_type": "code",
   "execution_count": 123,
   "id": "2f0235e6",
   "metadata": {},
   "outputs": [
    {
     "data": {
      "text/plain": [
       "<matplotlib.legend.Legend at 0x7ff1e12d7250>"
      ]
     },
     "execution_count": 123,
     "metadata": {},
     "output_type": "execute_result"
    },
    {
     "data": {
      "image/png": "[encoded data removed]",
      "text/plain": [
       "<Figure size 640x480 with 1 Axes>"
      ]
     },
     "metadata": {},
     "output_type": "display_data"
    }
   ],
   "source": [
    "plt.plot(angle_values, speed_values,label='Distance = 100 m')\n",
    "plt.plot(angle_values, speed_values_distance1000,label='Distance = 1000 m')\n",
    "\n",
    "plt.ylabel('speed [m/s]')\n",
    "plt.xlabel('degrees')\n",
    "plt.legend()"
   ]
  },
  {
   "cell_type": "code",
   "execution_count": null,
   "id": "2f91b6d6",
   "metadata": {},
   "outputs": [],
   "source": []
  }
 ],
 "metadata": {
  "kernelspec": {
   "display_name": "Python 3 (ipykernel)",
   "language": "python",
   "name": "python3"
  },
  "language_info": {
   "codemirror_mode": {
    "name": "ipython",
    "version": 3
   },
   "file_extension": ".py",
   "mimetype": "text/x-python",
   "name": "python",
   "nbconvert_exporter": "python",
   "pygments_lexer": "ipython3",
   "version": "3.10.13"
  }
 },
 "nbformat": 4,
 "nbformat_minor": 5
}
